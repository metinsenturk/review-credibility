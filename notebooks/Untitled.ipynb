{
 "cells": [
  {
   "cell_type": "code",
   "execution_count": 1,
   "metadata": {},
   "outputs": [],
   "source": [
    "import os\n",
    "import sys\n",
    "sys.path.append(os.pardir)"
   ]
  },
  {
   "cell_type": "code",
   "execution_count": 2,
   "metadata": {},
   "outputs": [],
   "source": [
    "import pandas as pd\n",
    "from credible import connectors"
   ]
  },
  {
   "cell_type": "markdown",
   "metadata": {},
   "source": [
    "## Connections"
   ]
  },
  {
   "cell_type": "code",
   "execution_count": 3,
   "metadata": {},
   "outputs": [],
   "source": [
    "engine_local = connectors.connect_to_sqlite()\n",
    "engine_server = connectors.connect_to_sqlite(name='server')"
   ]
  },
  {
   "cell_type": "markdown",
   "metadata": {},
   "source": [
    "## Read From Server"
   ]
  },
  {
   "cell_type": "code",
   "execution_count": 4,
   "metadata": {},
   "outputs": [],
   "source": [
    "df = pd.read_sql_table('review_linguistics', con=engine_server)"
   ]
  },
  {
   "cell_type": "code",
   "execution_count": 5,
   "metadata": {},
   "outputs": [
    {
     "data": {
      "text/plain": [
       "(107108, 13)"
      ]
     },
     "execution_count": 5,
     "metadata": {},
     "output_type": "execute_result"
    }
   ],
   "source": [
    "df.shape"
   ]
  },
  {
   "cell_type": "code",
   "execution_count": 13,
   "metadata": {},
   "outputs": [
    {
     "data": {
      "text/html": [
       "<div>\n",
       "<style scoped>\n",
       "    .dataframe tbody tr th:only-of-type {\n",
       "        vertical-align: middle;\n",
       "    }\n",
       "\n",
       "    .dataframe tbody tr th {\n",
       "        vertical-align: top;\n",
       "    }\n",
       "\n",
       "    .dataframe thead th {\n",
       "        text-align: right;\n",
       "    }\n",
       "</style>\n",
       "<table border=\"1\" class=\"dataframe\">\n",
       "  <thead>\n",
       "    <tr style=\"text-align: right;\">\n",
       "      <th></th>\n",
       "      <th>_id</th>\n",
       "      <th>review_id</th>\n",
       "      <th>sentiment_polarity</th>\n",
       "      <th>sentiment_subjectivity</th>\n",
       "      <th>ratio_content</th>\n",
       "      <th>ratio_lexical</th>\n",
       "      <th>avg_len_sentences</th>\n",
       "      <th>avg_len_words</th>\n",
       "      <th>count_noun_phrases</th>\n",
       "      <th>count_words</th>\n",
       "      <th>count_sentences</th>\n",
       "      <th>count_pos</th>\n",
       "      <th>noun_phrases</th>\n",
       "    </tr>\n",
       "  </thead>\n",
       "  <tbody>\n",
       "    <tr>\n",
       "      <td>73395</td>\n",
       "      <td>74045</td>\n",
       "      <td>gV6DPuYB1kdK9727x2Q1oA</td>\n",
       "      <td>0.190219</td>\n",
       "      <td>0.686039</td>\n",
       "      <td>1.0</td>\n",
       "      <td>0.775701</td>\n",
       "      <td>15.875</td>\n",
       "      <td>4.074766</td>\n",
       "      <td>15</td>\n",
       "      <td>107</td>\n",
       "      <td>8</td>\n",
       "      <td>[{\"PUNCT\": 20}, {\"VERB\": 17}, {\"SPACE\": 5}, {\"...</td>\n",
       "      <td>[\"cheese steaks\", \"spaghetti\", \"amazing duo\", ...</td>\n",
       "    </tr>\n",
       "    <tr>\n",
       "      <td>87094</td>\n",
       "      <td>87853</td>\n",
       "      <td>LemCa_o3McpkHci65MZ1aw</td>\n",
       "      <td>0.587500</td>\n",
       "      <td>0.675000</td>\n",
       "      <td>1.0</td>\n",
       "      <td>1.000000</td>\n",
       "      <td>7.250</td>\n",
       "      <td>4.250000</td>\n",
       "      <td>5</td>\n",
       "      <td>24</td>\n",
       "      <td>4</td>\n",
       "      <td>[{\"PUNCT\": 5}, {\"VERB\": 3}, {\"SPACE\": 1}, {\"AD...</td>\n",
       "      <td>[\"glad\", \"excellent\", \"tatiana\", \"great atmosp...</td>\n",
       "    </tr>\n",
       "  </tbody>\n",
       "</table>\n",
       "</div>"
      ],
      "text/plain": [
       "         _id               review_id  sentiment_polarity  \\\n",
       "73395  74045  gV6DPuYB1kdK9727x2Q1oA            0.190219   \n",
       "87094  87853  LemCa_o3McpkHci65MZ1aw            0.587500   \n",
       "\n",
       "       sentiment_subjectivity  ratio_content  ratio_lexical  \\\n",
       "73395                0.686039            1.0       0.775701   \n",
       "87094                0.675000            1.0       1.000000   \n",
       "\n",
       "       avg_len_sentences  avg_len_words  count_noun_phrases  count_words  \\\n",
       "73395             15.875       4.074766                  15          107   \n",
       "87094              7.250       4.250000                   5           24   \n",
       "\n",
       "       count_sentences                                          count_pos  \\\n",
       "73395                8  [{\"PUNCT\": 20}, {\"VERB\": 17}, {\"SPACE\": 5}, {\"...   \n",
       "87094                4  [{\"PUNCT\": 5}, {\"VERB\": 3}, {\"SPACE\": 1}, {\"AD...   \n",
       "\n",
       "                                            noun_phrases  \n",
       "73395  [\"cheese steaks\", \"spaghetti\", \"amazing duo\", ...  \n",
       "87094  [\"glad\", \"excellent\", \"tatiana\", \"great atmosp...  "
      ]
     },
     "execution_count": 13,
     "metadata": {},
     "output_type": "execute_result"
    }
   ],
   "source": [
    "df.sample(2)"
   ]
  },
  {
   "cell_type": "markdown",
   "metadata": {},
   "source": [
    "## Write to Local"
   ]
  },
  {
   "cell_type": "code",
   "execution_count": 9,
   "metadata": {},
   "outputs": [],
   "source": [
    "df.to_sql('review_linguistics', con=engine_local, index=False, if_exists='replace')"
   ]
  },
  {
   "cell_type": "code",
   "execution_count": 11,
   "metadata": {},
   "outputs": [
    {
     "data": {
      "text/plain": [
       "(107108, 13)"
      ]
     },
     "execution_count": 11,
     "metadata": {},
     "output_type": "execute_result"
    }
   ],
   "source": [
    "df_transferred = pd.read_sql_table('review_linguistics', con=engine_local)\n",
    "df_transferred.shape"
   ]
  },
  {
   "cell_type": "code",
   "execution_count": 12,
   "metadata": {},
   "outputs": [],
   "source": [
    "assert df.equals(df_transferred)"
   ]
  },
  {
   "cell_type": "code",
   "execution_count": null,
   "metadata": {},
   "outputs": [],
   "source": []
  }
 ],
 "metadata": {
  "kernelspec": {
   "display_name": "Python 3",
   "language": "python",
   "name": "python3"
  },
  "language_info": {
   "codemirror_mode": {
    "name": "ipython",
    "version": 3
   },
   "file_extension": ".py",
   "mimetype": "text/x-python",
   "name": "python",
   "nbconvert_exporter": "python",
   "pygments_lexer": "ipython3",
   "version": "3.7.4"
  }
 },
 "nbformat": 4,
 "nbformat_minor": 2
}
