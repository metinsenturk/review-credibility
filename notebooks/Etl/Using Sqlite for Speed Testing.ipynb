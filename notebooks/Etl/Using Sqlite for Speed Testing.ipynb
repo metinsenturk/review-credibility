{
 "cells": [
  {
   "cell_type": "code",
   "execution_count": 1,
   "metadata": {},
   "outputs": [],
   "source": [
    "import os\n",
    "import sys\n",
    "sys.path.append(os.pardir)"
   ]
  },
  {
   "cell_type": "code",
   "execution_count": 2,
   "metadata": {},
   "outputs": [],
   "source": [
    "import json\n",
    "import pathlib\n",
    "import pandas as pd\n",
    "from sqlalchemy.types import Integer, String, Boolean, DateTime\n",
    "from credible import connectors"
   ]
  },
  {
   "cell_type": "code",
   "execution_count": 3,
   "metadata": {},
   "outputs": [],
   "source": [
    "glob_pattern = '_x'\n",
    "data_folderpath = os.path.join(os.pardir, 'data')\n",
    "engine = connectors.connect_to_sqlite()"
   ]
  },
  {
   "cell_type": "code",
   "execution_count": null,
   "metadata": {},
   "outputs": [],
   "source": [
    "def table_info(tablename, con):\n",
    "    query = f'pragma table_info({tablename});'\n",
    "    return pd.read_sql_query(sql=query, con=con)\n",
    "\n",
    "def json_to_table(in_filepath, tablename, con):\n",
    "    \"\"\" Puts json files into sql tables. \"\"\"\n",
    "    # read and write\n",
    "    df = pd.read_json(os.path.join(data_folderpath, in_filepath))\n",
    "    df.to_sql(name=tablename, con=con, if_exists='replace', index=False, chunksize=1000)\n",
    "    \n",
    "    # test\n",
    "    out = pd.read_sql_query(sql=f'select * from {tablename}', con=con)\n",
    "    assert df.equals(out)\n",
    "    \n",
    "    return out "
   ]
  },
  {
   "cell_type": "code",
   "execution_count": 12,
   "metadata": {},
   "outputs": [],
   "source": [
    "generator = pathlib.Path(data_folderpath).glob('*' + glob_pattern + '.json')"
   ]
  },
  {
   "cell_type": "code",
   "execution_count": 13,
   "metadata": {},
   "outputs": [
    {
     "data": {
      "text/plain": [
       "[PosixPath('../data/review_x.json'),\n",
       " PosixPath('../data/user_x.json'),\n",
       " PosixPath('../data/checkin_x.json'),\n",
       " PosixPath('../data/tip_x.json'),\n",
       " PosixPath('../data/business_x.json'),\n",
       " PosixPath('../data/photo_x.json')]"
      ]
     },
     "execution_count": 13,
     "metadata": {},
     "output_type": "execute_result"
    }
   ],
   "source": [
    "sorted_list = sorted(generator, key=os.path.getsize, reverse=True)\n",
    "sorted_list"
   ]
  },
  {
   "cell_type": "code",
   "execution_count": null,
   "metadata": {},
   "outputs": [],
   "source": [
    "for file in sorted_list:\n",
    "    print(file.name)\n",
    "    in_filepath = file.name\n",
    "    tablename = file.stem\n",
    "    con = engine\n",
    "    \n",
    "    json_to_table(in_filepath, tablename, con)"
   ]
  }
 ],
 "metadata": {
  "kernelspec": {
   "display_name": "Python 3",
   "language": "python",
   "name": "python3"
  },
  "language_info": {
   "codemirror_mode": {
    "name": "ipython",
    "version": 3
   },
   "file_extension": ".py",
   "mimetype": "text/x-python",
   "name": "python",
   "nbconvert_exporter": "python",
   "pygments_lexer": "ipython3",
   "version": "3.7.4"
  }
 },
 "nbformat": 4,
 "nbformat_minor": 4
}
