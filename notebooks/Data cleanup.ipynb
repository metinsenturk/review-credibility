{
 "cells": [
  {
   "cell_type": "code",
   "execution_count": 1,
   "metadata": {},
   "outputs": [],
   "source": [
    "import os\n",
    "import sys\n",
    "sys.path.append(os.pardir)"
   ]
  },
  {
   "cell_type": "code",
   "execution_count": 2,
   "metadata": {},
   "outputs": [],
   "source": [
    "import json\n",
    "import datetime\n",
    "import pandas as pd\n",
    "from sklearn import preprocessing\n",
    "from credible import connectors"
   ]
  },
  {
   "cell_type": "code",
   "execution_count": 3,
   "metadata": {},
   "outputs": [],
   "source": [
    "engine = connectors.connect_to_sqlite()"
   ]
  },
  {
   "cell_type": "code",
   "execution_count": 4,
   "metadata": {},
   "outputs": [
    {
     "name": "stdout",
     "output_type": "stream",
     "text": [
      "CPU times: user 1min 14s, sys: 31.5 s, total: 1min 46s\n",
      "Wall time: 2min 53s\n"
     ]
    }
   ],
   "source": [
    "%%time\n",
    "users_raw = pd.read_sql_table('users', engine)\n",
    "reviews_raw = pd.read_sql_table('reviews', engine)"
   ]
  },
  {
   "cell_type": "markdown",
   "metadata": {},
   "source": [
    "## Cleaning on Users"
   ]
  },
  {
   "cell_type": "code",
   "execution_count": 61,
   "metadata": {},
   "outputs": [
    {
     "data": {
      "text/html": [
       "<div>\n",
       "<style scoped>\n",
       "    .dataframe tbody tr th:only-of-type {\n",
       "        vertical-align: middle;\n",
       "    }\n",
       "\n",
       "    .dataframe tbody tr th {\n",
       "        vertical-align: top;\n",
       "    }\n",
       "\n",
       "    .dataframe thead th {\n",
       "        text-align: right;\n",
       "    }\n",
       "</style>\n",
       "<table border=\"1\" class=\"dataframe\">\n",
       "  <thead>\n",
       "    <tr style=\"text-align: right;\">\n",
       "      <th></th>\n",
       "      <th>_id</th>\n",
       "      <th>review_id</th>\n",
       "      <th>business_id</th>\n",
       "      <th>user_id</th>\n",
       "      <th>stars</th>\n",
       "      <th>date</th>\n",
       "      <th>text</th>\n",
       "      <th>useful</th>\n",
       "      <th>funny</th>\n",
       "      <th>cool</th>\n",
       "    </tr>\n",
       "  </thead>\n",
       "  <tbody>\n",
       "    <tr>\n",
       "      <td>2291175</td>\n",
       "      <td>2291176</td>\n",
       "      <td>LtCX7oJ0ixOX7dCQHZHXLQ</td>\n",
       "      <td>LgroNa-JH5W-wpJACXuz5A</td>\n",
       "      <td>dKavJNhDwJjKAe7rDLV6xw</td>\n",
       "      <td>1</td>\n",
       "      <td>2014-06-17 04:12:09</td>\n",
       "      <td>I love conveyor sushi joints, and while this o...</td>\n",
       "      <td>1</td>\n",
       "      <td>0</td>\n",
       "      <td>0</td>\n",
       "    </tr>\n",
       "    <tr>\n",
       "      <td>1026041</td>\n",
       "      <td>1026042</td>\n",
       "      <td>nDTDnN6j7b6Lv_LE9WGwCQ</td>\n",
       "      <td>z24D8Qgf4yW5SU1_nPVsCA</td>\n",
       "      <td>maugsnfDmeRareS8EFu1SA</td>\n",
       "      <td>5</td>\n",
       "      <td>2015-12-30 21:32:01</td>\n",
       "      <td>Excellent value for the price. A small, family...</td>\n",
       "      <td>1</td>\n",
       "      <td>0</td>\n",
       "      <td>0</td>\n",
       "    </tr>\n",
       "    <tr>\n",
       "      <td>977923</td>\n",
       "      <td>977924</td>\n",
       "      <td>Skxlg6u3ijoJ3EoKmbdrsw</td>\n",
       "      <td>Jjwa-WCK73efAwVZRksWSw</td>\n",
       "      <td>Fjk2oT1hqy-790SOqlJpFg</td>\n",
       "      <td>5</td>\n",
       "      <td>2018-05-15 01:12:47</td>\n",
       "      <td>I saw \"POTs\" announced on 'VEGANS BABY' FB sit...</td>\n",
       "      <td>1</td>\n",
       "      <td>0</td>\n",
       "      <td>2</td>\n",
       "    </tr>\n",
       "  </tbody>\n",
       "</table>\n",
       "</div>"
      ],
      "text/plain": [
       "             _id               review_id             business_id  \\\n",
       "2291175  2291176  LtCX7oJ0ixOX7dCQHZHXLQ  LgroNa-JH5W-wpJACXuz5A   \n",
       "1026041  1026042  nDTDnN6j7b6Lv_LE9WGwCQ  z24D8Qgf4yW5SU1_nPVsCA   \n",
       "977923    977924  Skxlg6u3ijoJ3EoKmbdrsw  Jjwa-WCK73efAwVZRksWSw   \n",
       "\n",
       "                        user_id  stars                 date  \\\n",
       "2291175  dKavJNhDwJjKAe7rDLV6xw      1  2014-06-17 04:12:09   \n",
       "1026041  maugsnfDmeRareS8EFu1SA      5  2015-12-30 21:32:01   \n",
       "977923   Fjk2oT1hqy-790SOqlJpFg      5  2018-05-15 01:12:47   \n",
       "\n",
       "                                                      text  useful  funny  \\\n",
       "2291175  I love conveyor sushi joints, and while this o...       1      0   \n",
       "1026041  Excellent value for the price. A small, family...       1      0   \n",
       "977923   I saw \"POTs\" announced on 'VEGANS BABY' FB sit...       1      0   \n",
       "\n",
       "         cool  \n",
       "2291175     0  \n",
       "1026041     0  \n",
       "977923      2  "
      ]
     },
     "execution_count": 61,
     "metadata": {},
     "output_type": "execute_result"
    }
   ],
   "source": [
    "reviews_raw.sample(3)"
   ]
  },
  {
   "cell_type": "code",
   "execution_count": 25,
   "metadata": {},
   "outputs": [
    {
     "data": {
      "text/plain": [
       "True     1108108\n",
       "False     529030\n",
       "Name: average_stars, dtype: int64"
      ]
     },
     "execution_count": 25,
     "metadata": {},
     "output_type": "execute_result"
    }
   ],
   "source": [
    "users_raw.average_stars.apply(lambda x: x != 3).value_counts()"
   ]
  },
  {
   "cell_type": "code",
   "execution_count": 68,
   "metadata": {},
   "outputs": [
    {
     "data": {
      "text/plain": [
       "(166781, 23)"
      ]
     },
     "execution_count": 68,
     "metadata": {},
     "output_type": "execute_result"
    }
   ],
   "source": [
    "ind_rev_count = users_raw.review_count.apply(lambda x: (int(x) < 20) & (int(x) > 5))\n",
    "ind_friends = users_raw.friends.apply(lambda x: len(x.split(',')) < 10)\n",
    "ind_star = users_raw.average_stars.apply(lambda x: x != 3)\n",
    "\n",
    "df_users_clean = users_raw[ind_friends & ind_rev_count & ind_star]\n",
    "df_users_clean.shape"
   ]
  },
  {
   "cell_type": "code",
   "execution_count": 73,
   "metadata": {},
   "outputs": [
    {
     "data": {
      "text/html": [
       "<div>\n",
       "<style scoped>\n",
       "    .dataframe tbody tr th:only-of-type {\n",
       "        vertical-align: middle;\n",
       "    }\n",
       "\n",
       "    .dataframe tbody tr th {\n",
       "        vertical-align: top;\n",
       "    }\n",
       "\n",
       "    .dataframe thead th {\n",
       "        text-align: right;\n",
       "    }\n",
       "</style>\n",
       "<table border=\"1\" class=\"dataframe\">\n",
       "  <thead>\n",
       "    <tr style=\"text-align: right;\">\n",
       "      <th></th>\n",
       "      <th>user_id</th>\n",
       "    </tr>\n",
       "  </thead>\n",
       "  <tbody>\n",
       "    <tr>\n",
       "      <td>117521</td>\n",
       "      <td>IJ3JPdGCyMprS0sacQojXw</td>\n",
       "    </tr>\n",
       "    <tr>\n",
       "      <td>36374</td>\n",
       "      <td>VI4gZBDFqqQq2ldjSFcCTw</td>\n",
       "    </tr>\n",
       "    <tr>\n",
       "      <td>70424</td>\n",
       "      <td>d0jMop-CoA0B6aNdMheZGw</td>\n",
       "    </tr>\n",
       "  </tbody>\n",
       "</table>\n",
       "</div>"
      ],
      "text/plain": [
       "                       user_id\n",
       "117521  IJ3JPdGCyMprS0sacQojXw\n",
       "36374   VI4gZBDFqqQq2ldjSFcCTw\n",
       "70424   d0jMop-CoA0B6aNdMheZGw"
      ]
     },
     "execution_count": 73,
     "metadata": {},
     "output_type": "execute_result"
    }
   ],
   "source": [
    "df_users_clean.user_id.to_sql('users_clean', con=engine, index=False, if_exists='replace')\n",
    "pd.read_sql_table('users_clean', con=engine).sample(3)"
   ]
  },
  {
   "cell_type": "markdown",
   "metadata": {},
   "source": [
    "## Cleaning on Reviews"
   ]
  },
  {
   "cell_type": "code",
   "execution_count": 69,
   "metadata": {},
   "outputs": [
    {
     "data": {
      "text/plain": [
       "(1245408, 10)"
      ]
     },
     "execution_count": 69,
     "metadata": {},
     "output_type": "execute_result"
    }
   ],
   "source": [
    "ind_rev_leng = reviews_raw.text.apply(lambda x: len(x) < 200)\n",
    "ind_cool = reviews_raw.cool.apply(lambda x: x < 5)\n",
    "ind_funny = reviews_raw.funny.apply(lambda x: x < 5)\n",
    "ind_useful = reviews_raw.useful.apply(lambda x: x < 5)\n",
    "\n",
    "df_reviews_clean = reviews_raw[ind_rev_leng & ind_cool & ind_funny & ind_useful]\n",
    "df_reviews_clean.shape"
   ]
  },
  {
   "cell_type": "code",
   "execution_count": 72,
   "metadata": {},
   "outputs": [
    {
     "data": {
      "text/html": [
       "<div>\n",
       "<style scoped>\n",
       "    .dataframe tbody tr th:only-of-type {\n",
       "        vertical-align: middle;\n",
       "    }\n",
       "\n",
       "    .dataframe tbody tr th {\n",
       "        vertical-align: top;\n",
       "    }\n",
       "\n",
       "    .dataframe thead th {\n",
       "        text-align: right;\n",
       "    }\n",
       "</style>\n",
       "<table border=\"1\" class=\"dataframe\">\n",
       "  <thead>\n",
       "    <tr style=\"text-align: right;\">\n",
       "      <th></th>\n",
       "      <th>review_id</th>\n",
       "    </tr>\n",
       "  </thead>\n",
       "  <tbody>\n",
       "    <tr>\n",
       "      <td>772935</td>\n",
       "      <td>uJdfpdhSBdO38TGhxVfvyg</td>\n",
       "    </tr>\n",
       "    <tr>\n",
       "      <td>1040310</td>\n",
       "      <td>2zMMVEzH2uCh5UAayxlB5A</td>\n",
       "    </tr>\n",
       "    <tr>\n",
       "      <td>538473</td>\n",
       "      <td>tSbsNO7mpPIZT2RI0bUIUQ</td>\n",
       "    </tr>\n",
       "  </tbody>\n",
       "</table>\n",
       "</div>"
      ],
      "text/plain": [
       "                      review_id\n",
       "772935   uJdfpdhSBdO38TGhxVfvyg\n",
       "1040310  2zMMVEzH2uCh5UAayxlB5A\n",
       "538473   tSbsNO7mpPIZT2RI0bUIUQ"
      ]
     },
     "execution_count": 72,
     "metadata": {},
     "output_type": "execute_result"
    }
   ],
   "source": [
    "df_reviews_clean.review_id.to_sql('reviews_clean', con=engine, index=False, if_exists='replace')\n",
    "pd.read_sql_table('reviews_clean', con=engine).sample(3)"
   ]
  }
 ],
 "metadata": {
  "kernelspec": {
   "display_name": "Python 3",
   "language": "python",
   "name": "python3"
  },
  "language_info": {
   "codemirror_mode": {
    "name": "ipython",
    "version": 3
   },
   "file_extension": ".py",
   "mimetype": "text/x-python",
   "name": "python",
   "nbconvert_exporter": "python",
   "pygments_lexer": "ipython3",
   "version": "3.7.4"
  }
 },
 "nbformat": 4,
 "nbformat_minor": 4
}
