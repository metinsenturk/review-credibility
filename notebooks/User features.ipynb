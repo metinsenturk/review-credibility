{
 "cells": [
  {
   "cell_type": "code",
   "execution_count": 1,
   "metadata": {},
   "outputs": [],
   "source": [
    "import os\n",
    "import sys\n",
    "sys.path.append(os.pardir)"
   ]
  },
  {
   "cell_type": "code",
   "execution_count": 2,
   "metadata": {},
   "outputs": [],
   "source": [
    "import datetime\n",
    "import pandas as pd\n",
    "from sklearn import preprocessing\n",
    "from credible import connectors"
   ]
  },
  {
   "cell_type": "code",
   "execution_count": 3,
   "metadata": {},
   "outputs": [],
   "source": [
    "engine = connectors.connect_to_sqlite()"
   ]
  },
  {
   "cell_type": "code",
   "execution_count": 4,
   "metadata": {},
   "outputs": [
    {
     "name": "stdout",
     "output_type": "stream",
     "text": [
      "CPU times: user 1min 15s, sys: 31.7 s, total: 1min 47s\n",
      "Wall time: 3min 10s\n"
     ]
    }
   ],
   "source": [
    "%%time\n",
    "users_raw = pd.read_sql_table('users', engine)\n",
    "reviews_raw = pd.read_sql_table('reviews', engine)"
   ]
  },
  {
   "cell_type": "code",
   "execution_count": 19,
   "metadata": {},
   "outputs": [
    {
     "name": "stdout",
     "output_type": "stream",
     "text": [
      "CPU times: user 1.9 s, sys: 732 ms, total: 2.63 s\n",
      "Wall time: 2.63 s\n"
     ]
    }
   ],
   "source": [
    "%%time\n",
    "# for debug purposes\n",
    "users = users_raw.sample(500000)\n",
    "reviews = reviews_raw.sample(500000)"
   ]
  },
  {
   "cell_type": "code",
   "execution_count": 20,
   "metadata": {},
   "outputs": [
    {
     "name": "stdout",
     "output_type": "stream",
     "text": [
      "CPU times: user 758 ms, sys: 19.1 ms, total: 777 ms\n",
      "Wall time: 777 ms\n"
     ]
    }
   ],
   "source": [
    "%%time\n",
    "reviews.date = pd.to_datetime(reviews.date)\n",
    "reviews['_date'] = reviews.date.dt.date\n",
    "reviews['_time'] = reviews.date.dt.time"
   ]
  },
  {
   "cell_type": "markdown",
   "metadata": {},
   "source": [
    "## EDA on Reviews"
   ]
  },
  {
   "cell_type": "code",
   "execution_count": 21,
   "metadata": {},
   "outputs": [
    {
     "data": {
      "text/html": [
       "<div>\n",
       "<style scoped>\n",
       "    .dataframe tbody tr th:only-of-type {\n",
       "        vertical-align: middle;\n",
       "    }\n",
       "\n",
       "    .dataframe tbody tr th {\n",
       "        vertical-align: top;\n",
       "    }\n",
       "\n",
       "    .dataframe thead th {\n",
       "        text-align: right;\n",
       "    }\n",
       "</style>\n",
       "<table border=\"1\" class=\"dataframe\">\n",
       "  <thead>\n",
       "    <tr style=\"text-align: right;\">\n",
       "      <th></th>\n",
       "      <th>_id</th>\n",
       "      <th>review_id</th>\n",
       "      <th>business_id</th>\n",
       "      <th>user_id</th>\n",
       "      <th>stars</th>\n",
       "      <th>date</th>\n",
       "      <th>text</th>\n",
       "      <th>useful</th>\n",
       "      <th>funny</th>\n",
       "      <th>cool</th>\n",
       "      <th>_date</th>\n",
       "      <th>_time</th>\n",
       "    </tr>\n",
       "  </thead>\n",
       "  <tbody>\n",
       "    <tr>\n",
       "      <td>224652</td>\n",
       "      <td>224653</td>\n",
       "      <td>wP7T94jSLADqkl3ULdRVFA</td>\n",
       "      <td>2mdF-c66TY3eSyTVI4GhQg</td>\n",
       "      <td>-ZqPTpx9TyyvdAWbajdilA</td>\n",
       "      <td>4</td>\n",
       "      <td>2015-12-13 03:31:10</td>\n",
       "      <td>This was a much different store the last time ...</td>\n",
       "      <td>4</td>\n",
       "      <td>1</td>\n",
       "      <td>2</td>\n",
       "      <td>2015-12-13</td>\n",
       "      <td>03:31:10</td>\n",
       "    </tr>\n",
       "    <tr>\n",
       "      <td>6062553</td>\n",
       "      <td>6062554</td>\n",
       "      <td>kzL3pRiV3jtu8YvXo4GVvg</td>\n",
       "      <td>3kdSl5mo9dWC4clrQjEDGg</td>\n",
       "      <td>cctzuSXnQgHsv2KIVX8Qug</td>\n",
       "      <td>5</td>\n",
       "      <td>2016-11-10 19:07:00</td>\n",
       "      <td>Best Hawaiian burger steak in vegas! Loco moco...</td>\n",
       "      <td>0</td>\n",
       "      <td>0</td>\n",
       "      <td>0</td>\n",
       "      <td>2016-11-10</td>\n",
       "      <td>19:07:00</td>\n",
       "    </tr>\n",
       "  </tbody>\n",
       "</table>\n",
       "</div>"
      ],
      "text/plain": [
       "             _id               review_id             business_id  \\\n",
       "224652    224653  wP7T94jSLADqkl3ULdRVFA  2mdF-c66TY3eSyTVI4GhQg   \n",
       "6062553  6062554  kzL3pRiV3jtu8YvXo4GVvg  3kdSl5mo9dWC4clrQjEDGg   \n",
       "\n",
       "                        user_id  stars                date  \\\n",
       "224652   -ZqPTpx9TyyvdAWbajdilA      4 2015-12-13 03:31:10   \n",
       "6062553  cctzuSXnQgHsv2KIVX8Qug      5 2016-11-10 19:07:00   \n",
       "\n",
       "                                                      text  useful  funny  \\\n",
       "224652   This was a much different store the last time ...       4      1   \n",
       "6062553  Best Hawaiian burger steak in vegas! Loco moco...       0      0   \n",
       "\n",
       "         cool       _date     _time  \n",
       "224652      2  2015-12-13  03:31:10  \n",
       "6062553     0  2016-11-10  19:07:00  "
      ]
     },
     "execution_count": 21,
     "metadata": {},
     "output_type": "execute_result"
    }
   ],
   "source": [
    "reviews.sample(2)"
   ]
  },
  {
   "cell_type": "code",
   "execution_count": 22,
   "metadata": {},
   "outputs": [
    {
     "data": {
      "text/plain": [
       "Index(['_id', 'review_id', 'business_id', 'user_id', 'stars', 'date', 'text',\n",
       "       'useful', 'funny', 'cool', '_date', '_time'],\n",
       "      dtype='object')"
      ]
     },
     "execution_count": 22,
     "metadata": {},
     "output_type": "execute_result"
    }
   ],
   "source": [
    "reviews.columns"
   ]
  },
  {
   "cell_type": "markdown",
   "metadata": {},
   "source": [
    "## EDA on Users"
   ]
  },
  {
   "cell_type": "code",
   "execution_count": 23,
   "metadata": {},
   "outputs": [
    {
     "data": {
      "text/html": [
       "<div>\n",
       "<style scoped>\n",
       "    .dataframe tbody tr th:only-of-type {\n",
       "        vertical-align: middle;\n",
       "    }\n",
       "\n",
       "    .dataframe tbody tr th {\n",
       "        vertical-align: top;\n",
       "    }\n",
       "\n",
       "    .dataframe thead th {\n",
       "        text-align: right;\n",
       "    }\n",
       "</style>\n",
       "<table border=\"1\" class=\"dataframe\">\n",
       "  <thead>\n",
       "    <tr style=\"text-align: right;\">\n",
       "      <th></th>\n",
       "      <th>_id</th>\n",
       "      <th>user_id</th>\n",
       "      <th>name</th>\n",
       "      <th>review_count</th>\n",
       "      <th>yelping_since</th>\n",
       "      <th>friends</th>\n",
       "      <th>useful</th>\n",
       "      <th>funny</th>\n",
       "      <th>cool</th>\n",
       "      <th>fans</th>\n",
       "      <th>...</th>\n",
       "      <th>compliment_more</th>\n",
       "      <th>compliment_profile</th>\n",
       "      <th>compliment_cute</th>\n",
       "      <th>compliment_list</th>\n",
       "      <th>compliment_note</th>\n",
       "      <th>compliment_plain</th>\n",
       "      <th>compliment_cool</th>\n",
       "      <th>compliment_funny</th>\n",
       "      <th>compliment_writer</th>\n",
       "      <th>compliment_photos</th>\n",
       "    </tr>\n",
       "  </thead>\n",
       "  <tbody>\n",
       "    <tr>\n",
       "      <td>440585</td>\n",
       "      <td>440586</td>\n",
       "      <td>qwlsMuXSDuORY9Ep0K-fGQ</td>\n",
       "      <td>John</td>\n",
       "      <td>28</td>\n",
       "      <td>2011-02-22 21:30:30</td>\n",
       "      <td>None</td>\n",
       "      <td>48</td>\n",
       "      <td>4</td>\n",
       "      <td>7</td>\n",
       "      <td>0</td>\n",
       "      <td>...</td>\n",
       "      <td>0</td>\n",
       "      <td>0</td>\n",
       "      <td>0</td>\n",
       "      <td>0</td>\n",
       "      <td>0</td>\n",
       "      <td>0</td>\n",
       "      <td>0</td>\n",
       "      <td>0</td>\n",
       "      <td>0</td>\n",
       "      <td>0</td>\n",
       "    </tr>\n",
       "    <tr>\n",
       "      <td>898730</td>\n",
       "      <td>898731</td>\n",
       "      <td>trbZPYf2ExgvsgnK5XhX9A</td>\n",
       "      <td>J</td>\n",
       "      <td>9</td>\n",
       "      <td>2010-01-08 17:52:23</td>\n",
       "      <td>2SZlDB2BBvmuEoNRTz2qUQ, omBPSU97G8fSvsoQyMULwg...</td>\n",
       "      <td>17</td>\n",
       "      <td>2</td>\n",
       "      <td>8</td>\n",
       "      <td>2</td>\n",
       "      <td>...</td>\n",
       "      <td>0</td>\n",
       "      <td>0</td>\n",
       "      <td>0</td>\n",
       "      <td>0</td>\n",
       "      <td>0</td>\n",
       "      <td>1</td>\n",
       "      <td>0</td>\n",
       "      <td>0</td>\n",
       "      <td>0</td>\n",
       "      <td>0</td>\n",
       "    </tr>\n",
       "  </tbody>\n",
       "</table>\n",
       "<p>2 rows × 23 columns</p>\n",
       "</div>"
      ],
      "text/plain": [
       "           _id                 user_id  name review_count  \\\n",
       "440585  440586  qwlsMuXSDuORY9Ep0K-fGQ  John           28   \n",
       "898730  898731  trbZPYf2ExgvsgnK5XhX9A     J            9   \n",
       "\n",
       "              yelping_since  \\\n",
       "440585  2011-02-22 21:30:30   \n",
       "898730  2010-01-08 17:52:23   \n",
       "\n",
       "                                                  friends  useful  funny  \\\n",
       "440585                                               None      48      4   \n",
       "898730  2SZlDB2BBvmuEoNRTz2qUQ, omBPSU97G8fSvsoQyMULwg...      17      2   \n",
       "\n",
       "        cool  fans  ... compliment_more  compliment_profile  compliment_cute  \\\n",
       "440585     7     0  ...               0                   0                0   \n",
       "898730     8     2  ...               0                   0                0   \n",
       "\n",
       "        compliment_list  compliment_note  compliment_plain  compliment_cool  \\\n",
       "440585                0                0                 0                0   \n",
       "898730                0                0                 1                0   \n",
       "\n",
       "        compliment_funny  compliment_writer  compliment_photos  \n",
       "440585                 0                  0                  0  \n",
       "898730                 0                  0                  0  \n",
       "\n",
       "[2 rows x 23 columns]"
      ]
     },
     "execution_count": 23,
     "metadata": {},
     "output_type": "execute_result"
    }
   ],
   "source": [
    "users.sample(2)"
   ]
  },
  {
   "cell_type": "code",
   "execution_count": 24,
   "metadata": {},
   "outputs": [
    {
     "data": {
      "text/plain": [
       "Index(['_id', 'user_id', 'name', 'review_count', 'yelping_since', 'friends',\n",
       "       'useful', 'funny', 'cool', 'fans', 'elite', 'average_stars',\n",
       "       'compliment_hot', 'compliment_more', 'compliment_profile',\n",
       "       'compliment_cute', 'compliment_list', 'compliment_note',\n",
       "       'compliment_plain', 'compliment_cool', 'compliment_funny',\n",
       "       'compliment_writer', 'compliment_photos'],\n",
       "      dtype='object')"
      ]
     },
     "execution_count": 24,
     "metadata": {},
     "output_type": "execute_result"
    }
   ],
   "source": [
    "users.columns"
   ]
  },
  {
   "cell_type": "markdown",
   "metadata": {},
   "source": [
    "## Create User Features"
   ]
  },
  {
   "cell_type": "code",
   "execution_count": 25,
   "metadata": {},
   "outputs": [
    {
     "data": {
      "text/html": [
       "<div>\n",
       "<style scoped>\n",
       "    .dataframe tbody tr th:only-of-type {\n",
       "        vertical-align: middle;\n",
       "    }\n",
       "\n",
       "    .dataframe tbody tr th {\n",
       "        vertical-align: top;\n",
       "    }\n",
       "\n",
       "    .dataframe thead th {\n",
       "        text-align: right;\n",
       "    }\n",
       "</style>\n",
       "<table border=\"1\" class=\"dataframe\">\n",
       "  <thead>\n",
       "    <tr style=\"text-align: right;\">\n",
       "      <th></th>\n",
       "      <th>user_id</th>\n",
       "    </tr>\n",
       "  </thead>\n",
       "  <tbody>\n",
       "    <tr>\n",
       "      <td>120917</td>\n",
       "      <td>6m6a0Gd9x1mLkJv3MsSYkg</td>\n",
       "    </tr>\n",
       "    <tr>\n",
       "      <td>692368</td>\n",
       "      <td>Xed0Ea8d4-zbhcbgbzcNgw</td>\n",
       "    </tr>\n",
       "  </tbody>\n",
       "</table>\n",
       "</div>"
      ],
      "text/plain": [
       "                       user_id\n",
       "120917  6m6a0Gd9x1mLkJv3MsSYkg\n",
       "692368  Xed0Ea8d4-zbhcbgbzcNgw"
      ]
     },
     "execution_count": 25,
     "metadata": {},
     "output_type": "execute_result"
    }
   ],
   "source": [
    "# derived columns to be inserted to database\n",
    "df = pd.DataFrame()\n",
    "df['user_id'] = users.user_id\n",
    "df.sample(2)"
   ]
  },
  {
   "cell_type": "markdown",
   "metadata": {},
   "source": [
    "### Number of Friends"
   ]
  },
  {
   "cell_type": "code",
   "execution_count": 26,
   "metadata": {},
   "outputs": [],
   "source": [
    "df['num_of_friends'] = users.friends.apply(lambda x: len(x.split(',')))"
   ]
  },
  {
   "cell_type": "code",
   "execution_count": 27,
   "metadata": {},
   "outputs": [
    {
     "data": {
      "text/html": [
       "<div>\n",
       "<style scoped>\n",
       "    .dataframe tbody tr th:only-of-type {\n",
       "        vertical-align: middle;\n",
       "    }\n",
       "\n",
       "    .dataframe tbody tr th {\n",
       "        vertical-align: top;\n",
       "    }\n",
       "\n",
       "    .dataframe thead th {\n",
       "        text-align: right;\n",
       "    }\n",
       "</style>\n",
       "<table border=\"1\" class=\"dataframe\">\n",
       "  <thead>\n",
       "    <tr style=\"text-align: right;\">\n",
       "      <th></th>\n",
       "      <th>user_id</th>\n",
       "      <th>num_of_friends</th>\n",
       "    </tr>\n",
       "  </thead>\n",
       "  <tbody>\n",
       "    <tr>\n",
       "      <td>702948</td>\n",
       "      <td>0WLejTMJftjhALddHD7fqw</td>\n",
       "      <td>12</td>\n",
       "    </tr>\n",
       "    <tr>\n",
       "      <td>1484714</td>\n",
       "      <td>MXl5XwQETCuWITY1lED8Bg</td>\n",
       "      <td>4</td>\n",
       "    </tr>\n",
       "  </tbody>\n",
       "</table>\n",
       "</div>"
      ],
      "text/plain": [
       "                        user_id  num_of_friends\n",
       "702948   0WLejTMJftjhALddHD7fqw              12\n",
       "1484714  MXl5XwQETCuWITY1lED8Bg               4"
      ]
     },
     "execution_count": 27,
     "metadata": {},
     "output_type": "execute_result"
    }
   ],
   "source": [
    "df.sample(2)"
   ]
  },
  {
   "cell_type": "markdown",
   "metadata": {},
   "source": [
    "### Maximum Number of Reviews (In a day)"
   ]
  },
  {
   "cell_type": "code",
   "execution_count": 28,
   "metadata": {},
   "outputs": [],
   "source": [
    "df_g_user_date = reviews.groupby(\n",
    "    by=['user_id', '_date']).agg(\n",
    "        {'_id': 'count', '_time': list, 'business_id': list, 'review_id': list})"
   ]
  },
  {
   "cell_type": "code",
   "execution_count": 37,
   "metadata": {},
   "outputs": [],
   "source": [
    "df_g_user_date['count_business'] = df_g_user_date.business_id.apply(lambda x: len(set(x)))"
   ]
  },
  {
   "cell_type": "code",
   "execution_count": 68,
   "metadata": {},
   "outputs": [
    {
     "data": {
      "text/html": [
       "<div>\n",
       "<style scoped>\n",
       "    .dataframe tbody tr th:only-of-type {\n",
       "        vertical-align: middle;\n",
       "    }\n",
       "\n",
       "    .dataframe tbody tr th {\n",
       "        vertical-align: top;\n",
       "    }\n",
       "\n",
       "    .dataframe thead th {\n",
       "        text-align: right;\n",
       "    }\n",
       "</style>\n",
       "<table border=\"1\" class=\"dataframe\">\n",
       "  <thead>\n",
       "    <tr style=\"text-align: right;\">\n",
       "      <th></th>\n",
       "      <th></th>\n",
       "      <th>_id</th>\n",
       "      <th>_time</th>\n",
       "      <th>business_id</th>\n",
       "      <th>review_id</th>\n",
       "      <th>count_business</th>\n",
       "      <th>count_review</th>\n",
       "    </tr>\n",
       "    <tr>\n",
       "      <th>user_id</th>\n",
       "      <th>_date</th>\n",
       "      <th></th>\n",
       "      <th></th>\n",
       "      <th></th>\n",
       "      <th></th>\n",
       "      <th></th>\n",
       "      <th></th>\n",
       "    </tr>\n",
       "  </thead>\n",
       "  <tbody>\n",
       "    <tr>\n",
       "      <td rowspan=\"16\" valign=\"top\">zzPvEodjvLPe-5NvV0U_cg</td>\n",
       "      <td>2011-05-10</td>\n",
       "      <td>1</td>\n",
       "      <td>[04:40:04]</td>\n",
       "      <td>[K7lWdNUhCbcnEvI0NhGewg]</td>\n",
       "      <td>[lRLXvYVitpvJD6Eucipb4A]</td>\n",
       "      <td>1</td>\n",
       "      <td>1</td>\n",
       "    </tr>\n",
       "    <tr>\n",
       "      <td>2011-08-05</td>\n",
       "      <td>2</td>\n",
       "      <td>[01:43:47, 01:52:08]</td>\n",
       "      <td>[CgnHLwWbteqb8qxcZgBLyw, vl2IZrNJEA8npSjqXbdwxw]</td>\n",
       "      <td>[9-VyXjAcQNw3GVue13RJvg, hSLugH4SiJTh9SWCAGRMKw]</td>\n",
       "      <td>2</td>\n",
       "      <td>2</td>\n",
       "    </tr>\n",
       "    <tr>\n",
       "      <td>2011-09-24</td>\n",
       "      <td>1</td>\n",
       "      <td>[00:29:46]</td>\n",
       "      <td>[I6u-OhmI_IUltexEOSCKzg]</td>\n",
       "      <td>[ntDaumWdq7C9gDlbTURNPw]</td>\n",
       "      <td>1</td>\n",
       "      <td>1</td>\n",
       "    </tr>\n",
       "    <tr>\n",
       "      <td>2012-02-01</td>\n",
       "      <td>1</td>\n",
       "      <td>[06:37:18]</td>\n",
       "      <td>[Vs7gc9EE3k9wARuUcN9piA]</td>\n",
       "      <td>[JNUobt24dhTIGgGZSoRQ5w]</td>\n",
       "      <td>1</td>\n",
       "      <td>1</td>\n",
       "    </tr>\n",
       "    <tr>\n",
       "      <td>2012-03-09</td>\n",
       "      <td>1</td>\n",
       "      <td>[19:02:00]</td>\n",
       "      <td>[DiCWSyoaBkIpOVUdIO7Jlg]</td>\n",
       "      <td>[2RyvRH6FRniZFzv8kIAilg]</td>\n",
       "      <td>1</td>\n",
       "      <td>1</td>\n",
       "    </tr>\n",
       "    <tr>\n",
       "      <td>2012-06-07</td>\n",
       "      <td>1</td>\n",
       "      <td>[07:28:32]</td>\n",
       "      <td>[4qG3Gh8QyugC1XvoTlmgcQ]</td>\n",
       "      <td>[T5COiFgzRi7lFPHkx9dQ3Q]</td>\n",
       "      <td>1</td>\n",
       "      <td>1</td>\n",
       "    </tr>\n",
       "    <tr>\n",
       "      <td>2012-09-30</td>\n",
       "      <td>1</td>\n",
       "      <td>[08:36:07]</td>\n",
       "      <td>[982dasWTyuKUPbGTifUlEA]</td>\n",
       "      <td>[lD0A31B8uHO8VYBNZUR8kg]</td>\n",
       "      <td>1</td>\n",
       "      <td>1</td>\n",
       "    </tr>\n",
       "    <tr>\n",
       "      <td>2012-12-06</td>\n",
       "      <td>1</td>\n",
       "      <td>[00:57:54]</td>\n",
       "      <td>[w2g2f6D8dgsuTMFw8M_SsA]</td>\n",
       "      <td>[tkkP6TN4swFdXKH-CPWrhQ]</td>\n",
       "      <td>1</td>\n",
       "      <td>1</td>\n",
       "    </tr>\n",
       "    <tr>\n",
       "      <td>2013-01-11</td>\n",
       "      <td>1</td>\n",
       "      <td>[22:43:14]</td>\n",
       "      <td>[_OX2t8sR3AERk-VcTL5JFw]</td>\n",
       "      <td>[ZG8TKVlaP4XK8w5mfHdirQ]</td>\n",
       "      <td>1</td>\n",
       "      <td>1</td>\n",
       "    </tr>\n",
       "    <tr>\n",
       "      <td>2013-02-07</td>\n",
       "      <td>1</td>\n",
       "      <td>[07:10:59]</td>\n",
       "      <td>[SktLID5_ywSlgVE-h3NB3Q]</td>\n",
       "      <td>[kJBE8FGCfSHWiWbdkE_z4w]</td>\n",
       "      <td>1</td>\n",
       "      <td>1</td>\n",
       "    </tr>\n",
       "    <tr>\n",
       "      <td>2013-02-17</td>\n",
       "      <td>5</td>\n",
       "      <td>[19:26:58, 19:26:31, 19:26:11, 19:25:52, 19:26...</td>\n",
       "      <td>[-sjCxkxv6xU5rEVLFybAuA, I01C9Xg_SVyMrQSGIGeQ-...</td>\n",
       "      <td>[7sw5QUix_i1U52tII4qPRA, fZo5AHB5p86z440OhpZ6-...</td>\n",
       "      <td>5</td>\n",
       "      <td>5</td>\n",
       "    </tr>\n",
       "    <tr>\n",
       "      <td>2013-05-10</td>\n",
       "      <td>1</td>\n",
       "      <td>[04:41:37]</td>\n",
       "      <td>[gwYt_q3Ob7aQJIefIBsZiQ]</td>\n",
       "      <td>[hJXDMaJXcpYRyactk7gJdA]</td>\n",
       "      <td>1</td>\n",
       "      <td>1</td>\n",
       "    </tr>\n",
       "    <tr>\n",
       "      <td>2013-05-11</td>\n",
       "      <td>1</td>\n",
       "      <td>[04:20:37]</td>\n",
       "      <td>[iX2c4IzH_L5F6FM5GD3SUQ]</td>\n",
       "      <td>[HEmtseV5N4rjwkij5mc6WQ]</td>\n",
       "      <td>1</td>\n",
       "      <td>1</td>\n",
       "    </tr>\n",
       "    <tr>\n",
       "      <td>2013-06-22</td>\n",
       "      <td>1</td>\n",
       "      <td>[05:24:13]</td>\n",
       "      <td>[qFZ7ReYNpjHuvSxOqXqHMg]</td>\n",
       "      <td>[Okqxn-yqgNKJKoNiXZBoGw]</td>\n",
       "      <td>1</td>\n",
       "      <td>1</td>\n",
       "    </tr>\n",
       "    <tr>\n",
       "      <td>2013-08-21</td>\n",
       "      <td>1</td>\n",
       "      <td>[18:26:17]</td>\n",
       "      <td>[YI08egmS9lWWB6N6MmrePw]</td>\n",
       "      <td>[OZb6Fhn4158gBZbT4HF3iQ]</td>\n",
       "      <td>1</td>\n",
       "      <td>1</td>\n",
       "    </tr>\n",
       "    <tr>\n",
       "      <td>2013-10-14</td>\n",
       "      <td>1</td>\n",
       "      <td>[05:31:34]</td>\n",
       "      <td>[0QHMAUi6NdOUZ1ckXq0-sA]</td>\n",
       "      <td>[FZyVZU0JJzVlSfTfdWTeQQ]</td>\n",
       "      <td>1</td>\n",
       "      <td>1</td>\n",
       "    </tr>\n",
       "  </tbody>\n",
       "</table>\n",
       "</div>"
      ],
      "text/plain": [
       "                                   _id  \\\n",
       "user_id                _date             \n",
       "zzPvEodjvLPe-5NvV0U_cg 2011-05-10    1   \n",
       "                       2011-08-05    2   \n",
       "                       2011-09-24    1   \n",
       "                       2012-02-01    1   \n",
       "                       2012-03-09    1   \n",
       "                       2012-06-07    1   \n",
       "                       2012-09-30    1   \n",
       "                       2012-12-06    1   \n",
       "                       2013-01-11    1   \n",
       "                       2013-02-07    1   \n",
       "                       2013-02-17    5   \n",
       "                       2013-05-10    1   \n",
       "                       2013-05-11    1   \n",
       "                       2013-06-22    1   \n",
       "                       2013-08-21    1   \n",
       "                       2013-10-14    1   \n",
       "\n",
       "                                                                               _time  \\\n",
       "user_id                _date                                                           \n",
       "zzPvEodjvLPe-5NvV0U_cg 2011-05-10                                         [04:40:04]   \n",
       "                       2011-08-05                               [01:43:47, 01:52:08]   \n",
       "                       2011-09-24                                         [00:29:46]   \n",
       "                       2012-02-01                                         [06:37:18]   \n",
       "                       2012-03-09                                         [19:02:00]   \n",
       "                       2012-06-07                                         [07:28:32]   \n",
       "                       2012-09-30                                         [08:36:07]   \n",
       "                       2012-12-06                                         [00:57:54]   \n",
       "                       2013-01-11                                         [22:43:14]   \n",
       "                       2013-02-07                                         [07:10:59]   \n",
       "                       2013-02-17  [19:26:58, 19:26:31, 19:26:11, 19:25:52, 19:26...   \n",
       "                       2013-05-10                                         [04:41:37]   \n",
       "                       2013-05-11                                         [04:20:37]   \n",
       "                       2013-06-22                                         [05:24:13]   \n",
       "                       2013-08-21                                         [18:26:17]   \n",
       "                       2013-10-14                                         [05:31:34]   \n",
       "\n",
       "                                                                         business_id  \\\n",
       "user_id                _date                                                           \n",
       "zzPvEodjvLPe-5NvV0U_cg 2011-05-10                           [K7lWdNUhCbcnEvI0NhGewg]   \n",
       "                       2011-08-05   [CgnHLwWbteqb8qxcZgBLyw, vl2IZrNJEA8npSjqXbdwxw]   \n",
       "                       2011-09-24                           [I6u-OhmI_IUltexEOSCKzg]   \n",
       "                       2012-02-01                           [Vs7gc9EE3k9wARuUcN9piA]   \n",
       "                       2012-03-09                           [DiCWSyoaBkIpOVUdIO7Jlg]   \n",
       "                       2012-06-07                           [4qG3Gh8QyugC1XvoTlmgcQ]   \n",
       "                       2012-09-30                           [982dasWTyuKUPbGTifUlEA]   \n",
       "                       2012-12-06                           [w2g2f6D8dgsuTMFw8M_SsA]   \n",
       "                       2013-01-11                           [_OX2t8sR3AERk-VcTL5JFw]   \n",
       "                       2013-02-07                           [SktLID5_ywSlgVE-h3NB3Q]   \n",
       "                       2013-02-17  [-sjCxkxv6xU5rEVLFybAuA, I01C9Xg_SVyMrQSGIGeQ-...   \n",
       "                       2013-05-10                           [gwYt_q3Ob7aQJIefIBsZiQ]   \n",
       "                       2013-05-11                           [iX2c4IzH_L5F6FM5GD3SUQ]   \n",
       "                       2013-06-22                           [qFZ7ReYNpjHuvSxOqXqHMg]   \n",
       "                       2013-08-21                           [YI08egmS9lWWB6N6MmrePw]   \n",
       "                       2013-10-14                           [0QHMAUi6NdOUZ1ckXq0-sA]   \n",
       "\n",
       "                                                                           review_id  \\\n",
       "user_id                _date                                                           \n",
       "zzPvEodjvLPe-5NvV0U_cg 2011-05-10                           [lRLXvYVitpvJD6Eucipb4A]   \n",
       "                       2011-08-05   [9-VyXjAcQNw3GVue13RJvg, hSLugH4SiJTh9SWCAGRMKw]   \n",
       "                       2011-09-24                           [ntDaumWdq7C9gDlbTURNPw]   \n",
       "                       2012-02-01                           [JNUobt24dhTIGgGZSoRQ5w]   \n",
       "                       2012-03-09                           [2RyvRH6FRniZFzv8kIAilg]   \n",
       "                       2012-06-07                           [T5COiFgzRi7lFPHkx9dQ3Q]   \n",
       "                       2012-09-30                           [lD0A31B8uHO8VYBNZUR8kg]   \n",
       "                       2012-12-06                           [tkkP6TN4swFdXKH-CPWrhQ]   \n",
       "                       2013-01-11                           [ZG8TKVlaP4XK8w5mfHdirQ]   \n",
       "                       2013-02-07                           [kJBE8FGCfSHWiWbdkE_z4w]   \n",
       "                       2013-02-17  [7sw5QUix_i1U52tII4qPRA, fZo5AHB5p86z440OhpZ6-...   \n",
       "                       2013-05-10                           [hJXDMaJXcpYRyactk7gJdA]   \n",
       "                       2013-05-11                           [HEmtseV5N4rjwkij5mc6WQ]   \n",
       "                       2013-06-22                           [Okqxn-yqgNKJKoNiXZBoGw]   \n",
       "                       2013-08-21                           [OZb6Fhn4158gBZbT4HF3iQ]   \n",
       "                       2013-10-14                           [FZyVZU0JJzVlSfTfdWTeQQ]   \n",
       "\n",
       "                                   count_business  count_review  \n",
       "user_id                _date                                     \n",
       "zzPvEodjvLPe-5NvV0U_cg 2011-05-10               1             1  \n",
       "                       2011-08-05               2             2  \n",
       "                       2011-09-24               1             1  \n",
       "                       2012-02-01               1             1  \n",
       "                       2012-03-09               1             1  \n",
       "                       2012-06-07               1             1  \n",
       "                       2012-09-30               1             1  \n",
       "                       2012-12-06               1             1  \n",
       "                       2013-01-11               1             1  \n",
       "                       2013-02-07               1             1  \n",
       "                       2013-02-17               5             5  \n",
       "                       2013-05-10               1             1  \n",
       "                       2013-05-11               1             1  \n",
       "                       2013-06-22               1             1  \n",
       "                       2013-08-21               1             1  \n",
       "                       2013-10-14               1             1  "
      ]
     },
     "execution_count": 68,
     "metadata": {},
     "output_type": "execute_result"
    }
   ],
   "source": [
    "df_g_user_date[\n",
    "    (df_g_user_date.index.get_level_values('user_id') == 'zzPvEodjvLPe-5NvV0U_cg')]"
   ]
  },
  {
   "cell_type": "code",
   "execution_count": 66,
   "metadata": {},
   "outputs": [
    {
     "data": {
      "text/html": [
       "<div>\n",
       "<style scoped>\n",
       "    .dataframe tbody tr th:only-of-type {\n",
       "        vertical-align: middle;\n",
       "    }\n",
       "\n",
       "    .dataframe tbody tr th {\n",
       "        vertical-align: top;\n",
       "    }\n",
       "\n",
       "    .dataframe thead th {\n",
       "        text-align: right;\n",
       "    }\n",
       "</style>\n",
       "<table border=\"1\" class=\"dataframe\">\n",
       "  <thead>\n",
       "    <tr style=\"text-align: right;\">\n",
       "      <th></th>\n",
       "      <th></th>\n",
       "      <th>_id</th>\n",
       "      <th>_time</th>\n",
       "      <th>business_id</th>\n",
       "      <th>review_id</th>\n",
       "      <th>count_business</th>\n",
       "      <th>count_review</th>\n",
       "    </tr>\n",
       "    <tr>\n",
       "      <th>user_id</th>\n",
       "      <th>_date</th>\n",
       "      <th></th>\n",
       "      <th></th>\n",
       "      <th></th>\n",
       "      <th></th>\n",
       "      <th></th>\n",
       "      <th></th>\n",
       "    </tr>\n",
       "  </thead>\n",
       "  <tbody>\n",
       "    <tr>\n",
       "      <td>zzPvEodjvLPe-5NvV0U_cg</td>\n",
       "      <td>2013-02-17</td>\n",
       "      <td>5</td>\n",
       "      <td>[19:26:58, 19:26:31, 19:26:11, 19:25:52, 19:26...</td>\n",
       "      <td>[-sjCxkxv6xU5rEVLFybAuA, I01C9Xg_SVyMrQSGIGeQ-...</td>\n",
       "      <td>[7sw5QUix_i1U52tII4qPRA, fZo5AHB5p86z440OhpZ6-...</td>\n",
       "      <td>5</td>\n",
       "      <td>5</td>\n",
       "    </tr>\n",
       "  </tbody>\n",
       "</table>\n",
       "</div>"
      ],
      "text/plain": [
       "                                   _id  \\\n",
       "user_id                _date             \n",
       "zzPvEodjvLPe-5NvV0U_cg 2013-02-17    5   \n",
       "\n",
       "                                                                               _time  \\\n",
       "user_id                _date                                                           \n",
       "zzPvEodjvLPe-5NvV0U_cg 2013-02-17  [19:26:58, 19:26:31, 19:26:11, 19:25:52, 19:26...   \n",
       "\n",
       "                                                                         business_id  \\\n",
       "user_id                _date                                                           \n",
       "zzPvEodjvLPe-5NvV0U_cg 2013-02-17  [-sjCxkxv6xU5rEVLFybAuA, I01C9Xg_SVyMrQSGIGeQ-...   \n",
       "\n",
       "                                                                           review_id  \\\n",
       "user_id                _date                                                           \n",
       "zzPvEodjvLPe-5NvV0U_cg 2013-02-17  [7sw5QUix_i1U52tII4qPRA, fZo5AHB5p86z440OhpZ6-...   \n",
       "\n",
       "                                   count_business  count_review  \n",
       "user_id                _date                                     \n",
       "zzPvEodjvLPe-5NvV0U_cg 2013-02-17               5             5  "
      ]
     },
     "execution_count": 66,
     "metadata": {},
     "output_type": "execute_result"
    }
   ],
   "source": [
    "df_g_user_date[\n",
    "    (df_g_user_date._id > 1) \n",
    "    & (df_g_user_date.index.get_level_values('user_id') == 'zzPvEodjvLPe-5NvV0U_cg')\n",
    "    & (df_g_user_date.index.get_level_values('_date') == datetime.date(2013, 2, 17))\n",
    "]#.review_id.values"
   ]
  },
  {
   "cell_type": "code",
   "execution_count": 70,
   "metadata": {},
   "outputs": [
    {
     "data": {
      "text/plain": [
       "4    7\n",
       "3    7\n",
       "2    5\n",
       "1    2\n",
       "Name: stars, dtype: int64"
      ]
     },
     "execution_count": 70,
     "metadata": {},
     "output_type": "execute_result"
    }
   ],
   "source": [
    "reviews[reviews.user_id == 'zzPvEodjvLPe-5NvV0U_cg'].stars.value_counts()"
   ]
  },
  {
   "cell_type": "code",
   "execution_count": 80,
   "metadata": {},
   "outputs": [
    {
     "data": {
      "text/plain": [
       "516.1904761904761"
      ]
     },
     "execution_count": 80,
     "metadata": {},
     "output_type": "execute_result"
    }
   ],
   "source": [
    "reviews[reviews.user_id == 'zzPvEodjvLPe-5NvV0U_cg'].text.apply(lambda x: len(x)).mean()"
   ]
  },
  {
   "cell_type": "code",
   "execution_count": 76,
   "metadata": {},
   "outputs": [
    {
     "data": {
      "text/html": [
       "<div>\n",
       "<style scoped>\n",
       "    .dataframe tbody tr th:only-of-type {\n",
       "        vertical-align: middle;\n",
       "    }\n",
       "\n",
       "    .dataframe tbody tr th {\n",
       "        vertical-align: top;\n",
       "    }\n",
       "\n",
       "    .dataframe thead th {\n",
       "        text-align: right;\n",
       "    }\n",
       "</style>\n",
       "<table border=\"1\" class=\"dataframe\">\n",
       "  <thead>\n",
       "    <tr style=\"text-align: right;\">\n",
       "      <th></th>\n",
       "      <th>stars</th>\n",
       "      <th>date</th>\n",
       "      <th>text</th>\n",
       "      <th>useful</th>\n",
       "      <th>funny</th>\n",
       "      <th>cool</th>\n",
       "      <th>_date</th>\n",
       "      <th>_time</th>\n",
       "    </tr>\n",
       "  </thead>\n",
       "  <tbody>\n",
       "    <tr>\n",
       "      <td>470128</td>\n",
       "      <td>3</td>\n",
       "      <td>2013-02-17 19:26:58</td>\n",
       "      <td>Haven't eaten here in a long time...last time ...</td>\n",
       "      <td>2</td>\n",
       "      <td>1</td>\n",
       "      <td>1</td>\n",
       "      <td>2013-02-17</td>\n",
       "      <td>19:26:58</td>\n",
       "    </tr>\n",
       "    <tr>\n",
       "      <td>6408260</td>\n",
       "      <td>4</td>\n",
       "      <td>2013-02-17 19:26:31</td>\n",
       "      <td>Great deal on Valentine's! For $30 you get an ...</td>\n",
       "      <td>1</td>\n",
       "      <td>0</td>\n",
       "      <td>0</td>\n",
       "      <td>2013-02-17</td>\n",
       "      <td>19:26:31</td>\n",
       "    </tr>\n",
       "    <tr>\n",
       "      <td>5877845</td>\n",
       "      <td>2</td>\n",
       "      <td>2013-02-17 19:26:11</td>\n",
       "      <td>Whoa...what happened?!?! Place was exceptional...</td>\n",
       "      <td>3</td>\n",
       "      <td>0</td>\n",
       "      <td>0</td>\n",
       "      <td>2013-02-17</td>\n",
       "      <td>19:26:11</td>\n",
       "    </tr>\n",
       "    <tr>\n",
       "      <td>2448673</td>\n",
       "      <td>3</td>\n",
       "      <td>2013-02-17 19:25:52</td>\n",
       "      <td>Aw they were out of tres leche...that's what w...</td>\n",
       "      <td>1</td>\n",
       "      <td>0</td>\n",
       "      <td>0</td>\n",
       "      <td>2013-02-17</td>\n",
       "      <td>19:25:52</td>\n",
       "    </tr>\n",
       "    <tr>\n",
       "      <td>3724765</td>\n",
       "      <td>4</td>\n",
       "      <td>2013-02-17 19:26:44</td>\n",
       "      <td>Yum! We ordered the 4 for $5 deal....nicely pr...</td>\n",
       "      <td>1</td>\n",
       "      <td>1</td>\n",
       "      <td>0</td>\n",
       "      <td>2013-02-17</td>\n",
       "      <td>19:26:44</td>\n",
       "    </tr>\n",
       "  </tbody>\n",
       "</table>\n",
       "</div>"
      ],
      "text/plain": [
       "         stars                date  \\\n",
       "470128       3 2013-02-17 19:26:58   \n",
       "6408260      4 2013-02-17 19:26:31   \n",
       "5877845      2 2013-02-17 19:26:11   \n",
       "2448673      3 2013-02-17 19:25:52   \n",
       "3724765      4 2013-02-17 19:26:44   \n",
       "\n",
       "                                                      text  useful  funny  \\\n",
       "470128   Haven't eaten here in a long time...last time ...       2      1   \n",
       "6408260  Great deal on Valentine's! For $30 you get an ...       1      0   \n",
       "5877845  Whoa...what happened?!?! Place was exceptional...       3      0   \n",
       "2448673  Aw they were out of tres leche...that's what w...       1      0   \n",
       "3724765  Yum! We ordered the 4 for $5 deal....nicely pr...       1      1   \n",
       "\n",
       "         cool       _date     _time  \n",
       "470128      1  2013-02-17  19:26:58  \n",
       "6408260     0  2013-02-17  19:26:31  \n",
       "5877845     0  2013-02-17  19:26:11  \n",
       "2448673     0  2013-02-17  19:25:52  \n",
       "3724765     0  2013-02-17  19:26:44  "
      ]
     },
     "execution_count": 76,
     "metadata": {},
     "output_type": "execute_result"
    }
   ],
   "source": [
    "reviews[\n",
    "    reviews.review_id.isin(\n",
    "        ['7sw5QUix_i1U52tII4qPRA', 'fZo5AHB5p86z440OhpZ6-w', \n",
    "         'hb383dTOk0_03YUwYggLow', 'Q3EaN1JOG6hIfhJKuLrbfQ', 'oR1fpVanlm89wkN6AsZAEw'])].iloc[:, 4:]"
   ]
  },
  {
   "cell_type": "markdown",
   "metadata": {},
   "source": [
    "### Percen. of Positive Reviews\n",
    "\n",
    "The majority of spammers have more than 80% of their reviews as 4-5 stars."
   ]
  },
  {
   "cell_type": "markdown",
   "metadata": {},
   "source": [
    "### Review Length\n",
    "\n",
    "The average length of reviews of spammers are generally short due to too much time of writing. Reviews shorter than 140 are generally spammers."
   ]
  },
  {
   "cell_type": "markdown",
   "metadata": {},
   "source": [
    "### Reviewer Deviation\n",
    "\n",
    "Diversion from the general rating consensus. To measure reviewer’s deviation, we first compute the absolute rating deviation of a review from other reviews on the same business. Then, we compute the expected rating deviation of a reviewer over all his reviews. On a 5-star scale, the deviation can range from 0 to 4. Above 2.5 is spammer."
   ]
  },
  {
   "cell_type": "markdown",
   "metadata": {},
   "source": [
    "### Maximum Content Similarity\n",
    "\n",
    "The cosine similarity between any two reviews of a reviewer. This feature should the the lower the better. Non spamers are less than .20 and above .30 is generally spammers."
   ]
  },
  {
   "cell_type": "markdown",
   "metadata": {},
   "source": [
    "### Multiple Reviews in a day and Business Locations\n",
    "\n",
    "Writing multiple reviews to multiple cities is suspicious for a reviewer. If that's the case, then These people might be potential spammers."
   ]
  },
  {
   "cell_type": "markdown",
   "metadata": {},
   "source": [
    "## Create Friends Mapping"
   ]
  },
  {
   "cell_type": "markdown",
   "metadata": {},
   "source": [
    "## Create the Table"
   ]
  },
  {
   "cell_type": "markdown",
   "metadata": {},
   "source": [
    "### meta table"
   ]
  },
  {
   "cell_type": "code",
   "execution_count": null,
   "metadata": {},
   "outputs": [],
   "source": [
    "df.to_sql(name='users_meta', con=engine, index=False)"
   ]
  },
  {
   "cell_type": "code",
   "execution_count": null,
   "metadata": {},
   "outputs": [],
   "source": [
    "pd.read_sql_table('users_meta', engine).head(2)"
   ]
  }
 ],
 "metadata": {
  "kernelspec": {
   "display_name": "Python 3",
   "language": "python",
   "name": "python3"
  },
  "language_info": {
   "codemirror_mode": {
    "name": "ipython",
    "version": 3
   },
   "file_extension": ".py",
   "mimetype": "text/x-python",
   "name": "python",
   "nbconvert_exporter": "python",
   "pygments_lexer": "ipython3",
   "version": "3.7.4"
  }
 },
 "nbformat": 4,
 "nbformat_minor": 4
}
