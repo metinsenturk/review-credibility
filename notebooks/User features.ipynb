{
 "cells": [
  {
   "cell_type": "code",
   "execution_count": 1,
   "metadata": {},
   "outputs": [],
   "source": [
    "import os\n",
    "import sys\n",
    "sys.path.append(os.pardir)"
   ]
  },
  {
   "cell_type": "code",
   "execution_count": 2,
   "metadata": {},
   "outputs": [],
   "source": [
    "import json\n",
    "import datetime\n",
    "import pandas as pd\n",
    "from sklearn import preprocessing\n",
    "from credible import connectors"
   ]
  },
  {
   "cell_type": "code",
   "execution_count": 3,
   "metadata": {},
   "outputs": [],
   "source": [
    "engine = connectors.connect_to_sqlite()"
   ]
  },
  {
   "cell_type": "code",
   "execution_count": 4,
   "metadata": {},
   "outputs": [
    {
     "name": "stdout",
     "output_type": "stream",
     "text": [
      "CPU times: user 1min 19s, sys: 37.2 s, total: 1min 56s\n",
      "Wall time: 5min 30s\n"
     ]
    },
    {
     "data": {
      "text/plain": [
       "((1637138, 23), (6685900, 10))"
      ]
     },
     "execution_count": 4,
     "metadata": {},
     "output_type": "execute_result"
    }
   ],
   "source": [
    "%%time\n",
    "users_raw = pd.read_sql_table('users', engine)\n",
    "reviews_raw = pd.read_sql_table('reviews', engine)\n",
    "users_raw.shape, reviews_raw.shape"
   ]
  },
  {
   "cell_type": "code",
   "execution_count": 5,
   "metadata": {},
   "outputs": [
    {
     "name": "stdout",
     "output_type": "stream",
     "text": [
      "CPU times: user 2.21 s, sys: 400 ms, total: 2.61 s\n",
      "Wall time: 4.37 s\n"
     ]
    },
    {
     "data": {
      "text/plain": [
       "((166781, 1), (1245408, 1))"
      ]
     },
     "execution_count": 5,
     "metadata": {},
     "output_type": "execute_result"
    }
   ],
   "source": [
    "%%time\n",
    "# cleanup tables\n",
    "users_clean = pd.read_sql_table('users_clean', engine)\n",
    "reviews_clean = pd.read_sql_table('reviews_clean', engine)\n",
    "users_clean.shape, reviews_clean.shape"
   ]
  },
  {
   "cell_type": "code",
   "execution_count": 9,
   "metadata": {},
   "outputs": [
    {
     "data": {
      "text/html": [
       "<div>\n",
       "<style scoped>\n",
       "    .dataframe tbody tr th:only-of-type {\n",
       "        vertical-align: middle;\n",
       "    }\n",
       "\n",
       "    .dataframe tbody tr th {\n",
       "        vertical-align: top;\n",
       "    }\n",
       "\n",
       "    .dataframe thead th {\n",
       "        text-align: right;\n",
       "    }\n",
       "</style>\n",
       "<table border=\"1\" class=\"dataframe\">\n",
       "  <thead>\n",
       "    <tr style=\"text-align: right;\">\n",
       "      <th></th>\n",
       "      <th>review_id</th>\n",
       "    </tr>\n",
       "  </thead>\n",
       "  <tbody>\n",
       "    <tr>\n",
       "      <td>0</td>\n",
       "      <td>RS_GTIT6836bCaPy637kNQ</td>\n",
       "    </tr>\n",
       "    <tr>\n",
       "      <td>1</td>\n",
       "      <td>Amo5gZBvCuPc_tZNpHwtsA</td>\n",
       "    </tr>\n",
       "    <tr>\n",
       "      <td>2</td>\n",
       "      <td>S337tATeouQJdoPYyir29w</td>\n",
       "    </tr>\n",
       "    <tr>\n",
       "      <td>3</td>\n",
       "      <td>qm97yMwREr7BKkexlwLFbg</td>\n",
       "    </tr>\n",
       "    <tr>\n",
       "      <td>4</td>\n",
       "      <td>CelUWzp-GnJIiiV1mDUb-g</td>\n",
       "    </tr>\n",
       "    <tr>\n",
       "      <td>...</td>\n",
       "      <td>...</td>\n",
       "    </tr>\n",
       "    <tr>\n",
       "      <td>1245403</td>\n",
       "      <td>40HV3Lh2Mn2InTmT8VIzIg</td>\n",
       "    </tr>\n",
       "    <tr>\n",
       "      <td>1245404</td>\n",
       "      <td>PdvJkMZBmFSBXFkUJWSdZg</td>\n",
       "    </tr>\n",
       "    <tr>\n",
       "      <td>1245405</td>\n",
       "      <td>yZbleOxC4_k8n4FclEBIRw</td>\n",
       "    </tr>\n",
       "    <tr>\n",
       "      <td>1245406</td>\n",
       "      <td>-zfXs0DOn8VjMAt4pf5zJw</td>\n",
       "    </tr>\n",
       "    <tr>\n",
       "      <td>1245407</td>\n",
       "      <td>zwzO3yPdGbdgGy3-XQ0SWg</td>\n",
       "    </tr>\n",
       "  </tbody>\n",
       "</table>\n",
       "<p>1245408 rows × 1 columns</p>\n",
       "</div>"
      ],
      "text/plain": [
       "                      review_id\n",
       "0        RS_GTIT6836bCaPy637kNQ\n",
       "1        Amo5gZBvCuPc_tZNpHwtsA\n",
       "2        S337tATeouQJdoPYyir29w\n",
       "3        qm97yMwREr7BKkexlwLFbg\n",
       "4        CelUWzp-GnJIiiV1mDUb-g\n",
       "...                         ...\n",
       "1245403  40HV3Lh2Mn2InTmT8VIzIg\n",
       "1245404  PdvJkMZBmFSBXFkUJWSdZg\n",
       "1245405  yZbleOxC4_k8n4FclEBIRw\n",
       "1245406  -zfXs0DOn8VjMAt4pf5zJw\n",
       "1245407  zwzO3yPdGbdgGy3-XQ0SWg\n",
       "\n",
       "[1245408 rows x 1 columns]"
      ]
     },
     "execution_count": 9,
     "metadata": {},
     "output_type": "execute_result"
    }
   ],
   "source": [
    "reviews_clean"
   ]
  },
  {
   "cell_type": "code",
   "execution_count": 12,
   "metadata": {},
   "outputs": [
    {
     "name": "stdout",
     "output_type": "stream",
     "text": [
      "CPU times: user 3.52 s, sys: 31.2 ms, total: 3.55 s\n",
      "Wall time: 3.55 s\n"
     ]
    },
    {
     "data": {
      "text/plain": [
       "((166781, 23), (1245408, 10))"
      ]
     },
     "execution_count": 12,
     "metadata": {},
     "output_type": "execute_result"
    }
   ],
   "source": [
    "%%time\n",
    "# for debug purposes\n",
    "users = users_raw[users_raw.user_id.isin(users_clean.user_id)]#.sample(50000)\n",
    "reviews = reviews_raw[reviews_raw.review_id.isin(reviews_clean.review_id)]#.sample(50000)\n",
    "users.shape, reviews.shape"
   ]
  },
  {
   "cell_type": "code",
   "execution_count": 13,
   "metadata": {},
   "outputs": [
    {
     "name": "stderr",
     "output_type": "stream",
     "text": [
      "/Users/owl/Projects/review-credibility/venv/credenv/lib/python3.7/site-packages/pandas/core/generic.py:5208: SettingWithCopyWarning: \n",
      "A value is trying to be set on a copy of a slice from a DataFrame.\n",
      "Try using .loc[row_indexer,col_indexer] = value instead\n",
      "\n",
      "See the caveats in the documentation: http://pandas.pydata.org/pandas-docs/stable/user_guide/indexing.html#returning-a-view-versus-a-copy\n",
      "  self[name] = value\n",
      "/Users/owl/Projects/review-credibility/venv/credenv/lib/python3.7/site-packages/ipykernel_launcher.py:2: SettingWithCopyWarning: \n",
      "A value is trying to be set on a copy of a slice from a DataFrame.\n",
      "Try using .loc[row_indexer,col_indexer] = value instead\n",
      "\n",
      "See the caveats in the documentation: http://pandas.pydata.org/pandas-docs/stable/user_guide/indexing.html#returning-a-view-versus-a-copy\n",
      "  \n"
     ]
    },
    {
     "name": "stdout",
     "output_type": "stream",
     "text": [
      "CPU times: user 1.39 s, sys: 39 ms, total: 1.43 s\n",
      "Wall time: 1.44 s\n"
     ]
    },
    {
     "name": "stderr",
     "output_type": "stream",
     "text": [
      "/Users/owl/Projects/review-credibility/venv/credenv/lib/python3.7/site-packages/ipykernel_launcher.py:3: SettingWithCopyWarning: \n",
      "A value is trying to be set on a copy of a slice from a DataFrame.\n",
      "Try using .loc[row_indexer,col_indexer] = value instead\n",
      "\n",
      "See the caveats in the documentation: http://pandas.pydata.org/pandas-docs/stable/user_guide/indexing.html#returning-a-view-versus-a-copy\n",
      "  This is separate from the ipykernel package so we can avoid doing imports until\n"
     ]
    }
   ],
   "source": [
    "%%time\n",
    "reviews.date = pd.to_datetime(reviews.date)\n",
    "reviews['_date'] = reviews.date.dt.date\n",
    "reviews['_time'] = reviews.date.dt.time"
   ]
  },
  {
   "cell_type": "markdown",
   "metadata": {},
   "source": [
    "## EDA on Reviews"
   ]
  },
  {
   "cell_type": "code",
   "execution_count": 14,
   "metadata": {},
   "outputs": [
    {
     "data": {
      "text/html": [
       "<div>\n",
       "<style scoped>\n",
       "    .dataframe tbody tr th:only-of-type {\n",
       "        vertical-align: middle;\n",
       "    }\n",
       "\n",
       "    .dataframe tbody tr th {\n",
       "        vertical-align: top;\n",
       "    }\n",
       "\n",
       "    .dataframe thead th {\n",
       "        text-align: right;\n",
       "    }\n",
       "</style>\n",
       "<table border=\"1\" class=\"dataframe\">\n",
       "  <thead>\n",
       "    <tr style=\"text-align: right;\">\n",
       "      <th></th>\n",
       "      <th>_id</th>\n",
       "      <th>review_id</th>\n",
       "      <th>business_id</th>\n",
       "      <th>user_id</th>\n",
       "      <th>stars</th>\n",
       "      <th>date</th>\n",
       "      <th>text</th>\n",
       "      <th>useful</th>\n",
       "      <th>funny</th>\n",
       "      <th>cool</th>\n",
       "      <th>_date</th>\n",
       "      <th>_time</th>\n",
       "    </tr>\n",
       "  </thead>\n",
       "  <tbody>\n",
       "    <tr>\n",
       "      <td>4297260</td>\n",
       "      <td>4297261</td>\n",
       "      <td>U7PZOFaGbZktQKBE5EiqEQ</td>\n",
       "      <td>tetKWtLT0639lqnD9QJRKw</td>\n",
       "      <td>CC8CjFzY8YjqFsFoCmp69A</td>\n",
       "      <td>3</td>\n",
       "      <td>2016-08-30 00:15:12</td>\n",
       "      <td>They're new so I'm being very forgiving... I t...</td>\n",
       "      <td>2</td>\n",
       "      <td>0</td>\n",
       "      <td>0</td>\n",
       "      <td>2016-08-30</td>\n",
       "      <td>00:15:12</td>\n",
       "    </tr>\n",
       "    <tr>\n",
       "      <td>6012176</td>\n",
       "      <td>6012177</td>\n",
       "      <td>S1MyteMyn9IvC7gO-5Q0Xw</td>\n",
       "      <td>WoiFJt1T-BISB3NIlbP9BA</td>\n",
       "      <td>wPbf-q8buiqWuSnqQ0sIJQ</td>\n",
       "      <td>5</td>\n",
       "      <td>2018-10-12 22:00:49</td>\n",
       "      <td>Five Star Barber Shop is legit . Elli my guy a...</td>\n",
       "      <td>0</td>\n",
       "      <td>0</td>\n",
       "      <td>0</td>\n",
       "      <td>2018-10-12</td>\n",
       "      <td>22:00:49</td>\n",
       "    </tr>\n",
       "  </tbody>\n",
       "</table>\n",
       "</div>"
      ],
      "text/plain": [
       "             _id               review_id             business_id  \\\n",
       "4297260  4297261  U7PZOFaGbZktQKBE5EiqEQ  tetKWtLT0639lqnD9QJRKw   \n",
       "6012176  6012177  S1MyteMyn9IvC7gO-5Q0Xw  WoiFJt1T-BISB3NIlbP9BA   \n",
       "\n",
       "                        user_id  stars                date  \\\n",
       "4297260  CC8CjFzY8YjqFsFoCmp69A      3 2016-08-30 00:15:12   \n",
       "6012176  wPbf-q8buiqWuSnqQ0sIJQ      5 2018-10-12 22:00:49   \n",
       "\n",
       "                                                      text  useful  funny  \\\n",
       "4297260  They're new so I'm being very forgiving... I t...       2      0   \n",
       "6012176  Five Star Barber Shop is legit . Elli my guy a...       0      0   \n",
       "\n",
       "         cool       _date     _time  \n",
       "4297260     0  2016-08-30  00:15:12  \n",
       "6012176     0  2018-10-12  22:00:49  "
      ]
     },
     "execution_count": 14,
     "metadata": {},
     "output_type": "execute_result"
    }
   ],
   "source": [
    "reviews.sample(2)"
   ]
  },
  {
   "cell_type": "code",
   "execution_count": 15,
   "metadata": {},
   "outputs": [
    {
     "data": {
      "text/plain": [
       "Index(['_id', 'review_id', 'business_id', 'user_id', 'stars', 'date', 'text',\n",
       "       'useful', 'funny', 'cool', '_date', '_time'],\n",
       "      dtype='object')"
      ]
     },
     "execution_count": 15,
     "metadata": {},
     "output_type": "execute_result"
    }
   ],
   "source": [
    "reviews.columns"
   ]
  },
  {
   "cell_type": "markdown",
   "metadata": {},
   "source": [
    "## EDA on Users"
   ]
  },
  {
   "cell_type": "code",
   "execution_count": 16,
   "metadata": {},
   "outputs": [
    {
     "data": {
      "text/html": [
       "<div>\n",
       "<style scoped>\n",
       "    .dataframe tbody tr th:only-of-type {\n",
       "        vertical-align: middle;\n",
       "    }\n",
       "\n",
       "    .dataframe tbody tr th {\n",
       "        vertical-align: top;\n",
       "    }\n",
       "\n",
       "    .dataframe thead th {\n",
       "        text-align: right;\n",
       "    }\n",
       "</style>\n",
       "<table border=\"1\" class=\"dataframe\">\n",
       "  <thead>\n",
       "    <tr style=\"text-align: right;\">\n",
       "      <th></th>\n",
       "      <th>_id</th>\n",
       "      <th>user_id</th>\n",
       "      <th>name</th>\n",
       "      <th>review_count</th>\n",
       "      <th>yelping_since</th>\n",
       "      <th>friends</th>\n",
       "      <th>useful</th>\n",
       "      <th>funny</th>\n",
       "      <th>cool</th>\n",
       "      <th>fans</th>\n",
       "      <th>...</th>\n",
       "      <th>compliment_more</th>\n",
       "      <th>compliment_profile</th>\n",
       "      <th>compliment_cute</th>\n",
       "      <th>compliment_list</th>\n",
       "      <th>compliment_note</th>\n",
       "      <th>compliment_plain</th>\n",
       "      <th>compliment_cool</th>\n",
       "      <th>compliment_funny</th>\n",
       "      <th>compliment_writer</th>\n",
       "      <th>compliment_photos</th>\n",
       "    </tr>\n",
       "  </thead>\n",
       "  <tbody>\n",
       "    <tr>\n",
       "      <td>890767</td>\n",
       "      <td>890768</td>\n",
       "      <td>6YAEAWeE6O04aP1cQZjmlg</td>\n",
       "      <td>Vegan</td>\n",
       "      <td>9</td>\n",
       "      <td>2015-05-17 19:55:12</td>\n",
       "      <td>nNvU90sxpx6lny8CxAkxnA, Hrw-1oSlA0_itb-SOJtjoQ...</td>\n",
       "      <td>5</td>\n",
       "      <td>1</td>\n",
       "      <td>0</td>\n",
       "      <td>2</td>\n",
       "      <td>...</td>\n",
       "      <td>0</td>\n",
       "      <td>0</td>\n",
       "      <td>0</td>\n",
       "      <td>0</td>\n",
       "      <td>0</td>\n",
       "      <td>0</td>\n",
       "      <td>0</td>\n",
       "      <td>0</td>\n",
       "      <td>0</td>\n",
       "      <td>0</td>\n",
       "    </tr>\n",
       "    <tr>\n",
       "      <td>103614</td>\n",
       "      <td>103615</td>\n",
       "      <td>KVcbzlMIhn2-qQ9HlVheeQ</td>\n",
       "      <td>Scott</td>\n",
       "      <td>14</td>\n",
       "      <td>2014-10-01 19:33:51</td>\n",
       "      <td>HLKKgN6kvi4eKp_QpQXelQ</td>\n",
       "      <td>25</td>\n",
       "      <td>13</td>\n",
       "      <td>2</td>\n",
       "      <td>0</td>\n",
       "      <td>...</td>\n",
       "      <td>0</td>\n",
       "      <td>0</td>\n",
       "      <td>0</td>\n",
       "      <td>0</td>\n",
       "      <td>1</td>\n",
       "      <td>1</td>\n",
       "      <td>0</td>\n",
       "      <td>0</td>\n",
       "      <td>0</td>\n",
       "      <td>0</td>\n",
       "    </tr>\n",
       "  </tbody>\n",
       "</table>\n",
       "<p>2 rows × 23 columns</p>\n",
       "</div>"
      ],
      "text/plain": [
       "           _id                 user_id   name review_count  \\\n",
       "890767  890768  6YAEAWeE6O04aP1cQZjmlg  Vegan            9   \n",
       "103614  103615  KVcbzlMIhn2-qQ9HlVheeQ  Scott           14   \n",
       "\n",
       "              yelping_since  \\\n",
       "890767  2015-05-17 19:55:12   \n",
       "103614  2014-10-01 19:33:51   \n",
       "\n",
       "                                                  friends  useful  funny  \\\n",
       "890767  nNvU90sxpx6lny8CxAkxnA, Hrw-1oSlA0_itb-SOJtjoQ...       5      1   \n",
       "103614                             HLKKgN6kvi4eKp_QpQXelQ      25     13   \n",
       "\n",
       "        cool  fans  ... compliment_more  compliment_profile  compliment_cute  \\\n",
       "890767     0     2  ...               0                   0                0   \n",
       "103614     2     0  ...               0                   0                0   \n",
       "\n",
       "        compliment_list  compliment_note  compliment_plain  compliment_cool  \\\n",
       "890767                0                0                 0                0   \n",
       "103614                0                1                 1                0   \n",
       "\n",
       "        compliment_funny  compliment_writer  compliment_photos  \n",
       "890767                 0                  0                  0  \n",
       "103614                 0                  0                  0  \n",
       "\n",
       "[2 rows x 23 columns]"
      ]
     },
     "execution_count": 16,
     "metadata": {},
     "output_type": "execute_result"
    }
   ],
   "source": [
    "users.sample(2)"
   ]
  },
  {
   "cell_type": "code",
   "execution_count": 17,
   "metadata": {},
   "outputs": [
    {
     "data": {
      "text/plain": [
       "Index(['_id', 'user_id', 'name', 'review_count', 'yelping_since', 'friends',\n",
       "       'useful', 'funny', 'cool', 'fans', 'elite', 'average_stars',\n",
       "       'compliment_hot', 'compliment_more', 'compliment_profile',\n",
       "       'compliment_cute', 'compliment_list', 'compliment_note',\n",
       "       'compliment_plain', 'compliment_cool', 'compliment_funny',\n",
       "       'compliment_writer', 'compliment_photos'],\n",
       "      dtype='object')"
      ]
     },
     "execution_count": 17,
     "metadata": {},
     "output_type": "execute_result"
    }
   ],
   "source": [
    "users.columns"
   ]
  },
  {
   "cell_type": "markdown",
   "metadata": {},
   "source": [
    "## Create User Features"
   ]
  },
  {
   "cell_type": "code",
   "execution_count": 7,
   "metadata": {},
   "outputs": [
    {
     "data": {
      "text/html": [
       "<div>\n",
       "<style scoped>\n",
       "    .dataframe tbody tr th:only-of-type {\n",
       "        vertical-align: middle;\n",
       "    }\n",
       "\n",
       "    .dataframe tbody tr th {\n",
       "        vertical-align: top;\n",
       "    }\n",
       "\n",
       "    .dataframe thead th {\n",
       "        text-align: right;\n",
       "    }\n",
       "</style>\n",
       "<table border=\"1\" class=\"dataframe\">\n",
       "  <thead>\n",
       "    <tr style=\"text-align: right;\">\n",
       "      <th></th>\n",
       "      <th>user_id</th>\n",
       "    </tr>\n",
       "  </thead>\n",
       "  <tbody>\n",
       "    <tr>\n",
       "      <td>172</td>\n",
       "      <td>kXdq_tyzV1RbgsjRLyy_yA</td>\n",
       "    </tr>\n",
       "    <tr>\n",
       "      <td>1061416</td>\n",
       "      <td>mkd00vw7g7JMN_sfQIxh0Q</td>\n",
       "    </tr>\n",
       "  </tbody>\n",
       "</table>\n",
       "</div>"
      ],
      "text/plain": [
       "                        user_id\n",
       "172      kXdq_tyzV1RbgsjRLyy_yA\n",
       "1061416  mkd00vw7g7JMN_sfQIxh0Q"
      ]
     },
     "execution_count": 7,
     "metadata": {},
     "output_type": "execute_result"
    }
   ],
   "source": [
    "# derived columns to be inserted to database\n",
    "df = pd.DataFrame()\n",
    "df['user_id'] = users.user_id\n",
    "df.sample(2)"
   ]
  },
  {
   "cell_type": "markdown",
   "metadata": {},
   "source": [
    "### Number of Friends"
   ]
  },
  {
   "cell_type": "code",
   "execution_count": 8,
   "metadata": {},
   "outputs": [],
   "source": [
    "df['num_of_friends'] = users.friends.apply(lambda x: len(x.split(',')))"
   ]
  },
  {
   "cell_type": "code",
   "execution_count": 9,
   "metadata": {},
   "outputs": [
    {
     "data": {
      "text/html": [
       "<div>\n",
       "<style scoped>\n",
       "    .dataframe tbody tr th:only-of-type {\n",
       "        vertical-align: middle;\n",
       "    }\n",
       "\n",
       "    .dataframe tbody tr th {\n",
       "        vertical-align: top;\n",
       "    }\n",
       "\n",
       "    .dataframe thead th {\n",
       "        text-align: right;\n",
       "    }\n",
       "</style>\n",
       "<table border=\"1\" class=\"dataframe\">\n",
       "  <thead>\n",
       "    <tr style=\"text-align: right;\">\n",
       "      <th></th>\n",
       "      <th>user_id</th>\n",
       "      <th>num_of_friends</th>\n",
       "    </tr>\n",
       "  </thead>\n",
       "  <tbody>\n",
       "    <tr>\n",
       "      <td>882547</td>\n",
       "      <td>qF1M11vuXeVn59HI9zX6kQ</td>\n",
       "      <td>7</td>\n",
       "    </tr>\n",
       "    <tr>\n",
       "      <td>194065</td>\n",
       "      <td>RW8vjSU4_TCFw52CV3dDYw</td>\n",
       "      <td>64</td>\n",
       "    </tr>\n",
       "  </tbody>\n",
       "</table>\n",
       "</div>"
      ],
      "text/plain": [
       "                       user_id  num_of_friends\n",
       "882547  qF1M11vuXeVn59HI9zX6kQ               7\n",
       "194065  RW8vjSU4_TCFw52CV3dDYw              64"
      ]
     },
     "execution_count": 9,
     "metadata": {},
     "output_type": "execute_result"
    }
   ],
   "source": [
    "df.sample(2)"
   ]
  },
  {
   "cell_type": "markdown",
   "metadata": {},
   "source": [
    "### Maximum Number of Reviews (In a day)"
   ]
  },
  {
   "cell_type": "code",
   "execution_count": 10,
   "metadata": {},
   "outputs": [],
   "source": [
    "df_g_user_date = reviews.groupby(\n",
    "    by=['user_id', '_date']).agg(\n",
    "        {'_id': 'count', '_time': list, 'business_id': list, 'review_id': list})"
   ]
  },
  {
   "cell_type": "code",
   "execution_count": 11,
   "metadata": {},
   "outputs": [],
   "source": [
    "df_g_user_date['count_business'] = df_g_user_date.business_id.apply(lambda x: len(set(x)))"
   ]
  },
  {
   "cell_type": "code",
   "execution_count": 80,
   "metadata": {},
   "outputs": [
    {
     "data": {
      "text/html": [
       "<div>\n",
       "<style scoped>\n",
       "    .dataframe tbody tr th:only-of-type {\n",
       "        vertical-align: middle;\n",
       "    }\n",
       "\n",
       "    .dataframe tbody tr th {\n",
       "        vertical-align: top;\n",
       "    }\n",
       "\n",
       "    .dataframe thead th {\n",
       "        text-align: right;\n",
       "    }\n",
       "</style>\n",
       "<table border=\"1\" class=\"dataframe\">\n",
       "  <thead>\n",
       "    <tr style=\"text-align: right;\">\n",
       "      <th></th>\n",
       "      <th></th>\n",
       "      <th>_id</th>\n",
       "      <th>_time</th>\n",
       "      <th>business_id</th>\n",
       "      <th>review_id</th>\n",
       "      <th>count_business</th>\n",
       "    </tr>\n",
       "    <tr>\n",
       "      <th>user_id</th>\n",
       "      <th>_date</th>\n",
       "      <th></th>\n",
       "      <th></th>\n",
       "      <th></th>\n",
       "      <th></th>\n",
       "      <th></th>\n",
       "    </tr>\n",
       "  </thead>\n",
       "  <tbody>\n",
       "    <tr>\n",
       "      <td>qKUEhJUl0Z9MFW7R7BTvRQ</td>\n",
       "      <td>2018-07-04</td>\n",
       "      <td>6</td>\n",
       "      <td>[05:58:32, 03:32:20, 06:33:00, 02:01:20, 02:10...</td>\n",
       "      <td>[mz9ltimeAIy2c2qf5ctljw, DqcD3YflYhArFsC4KVUnO...</td>\n",
       "      <td>[f6MIfLAnpOf-nUX-eaGuig, Z1JDHha1sIJOZBmcZTc73...</td>\n",
       "      <td>6</td>\n",
       "    </tr>\n",
       "  </tbody>\n",
       "</table>\n",
       "</div>"
      ],
      "text/plain": [
       "                                   _id  \\\n",
       "user_id                _date             \n",
       "qKUEhJUl0Z9MFW7R7BTvRQ 2018-07-04    6   \n",
       "\n",
       "                                                                               _time  \\\n",
       "user_id                _date                                                           \n",
       "qKUEhJUl0Z9MFW7R7BTvRQ 2018-07-04  [05:58:32, 03:32:20, 06:33:00, 02:01:20, 02:10...   \n",
       "\n",
       "                                                                         business_id  \\\n",
       "user_id                _date                                                           \n",
       "qKUEhJUl0Z9MFW7R7BTvRQ 2018-07-04  [mz9ltimeAIy2c2qf5ctljw, DqcD3YflYhArFsC4KVUnO...   \n",
       "\n",
       "                                                                           review_id  \\\n",
       "user_id                _date                                                           \n",
       "qKUEhJUl0Z9MFW7R7BTvRQ 2018-07-04  [f6MIfLAnpOf-nUX-eaGuig, Z1JDHha1sIJOZBmcZTc73...   \n",
       "\n",
       "                                   count_business  \n",
       "user_id                _date                       \n",
       "qKUEhJUl0Z9MFW7R7BTvRQ 2018-07-04               6  "
      ]
     },
     "execution_count": 80,
     "metadata": {},
     "output_type": "execute_result"
    }
   ],
   "source": [
    "df_g_user_date[(df_g_user_date._id > 5)].sample()"
   ]
  },
  {
   "cell_type": "code",
   "execution_count": 359,
   "metadata": {},
   "outputs": [
    {
     "data": {
      "text/plain": [
       "<matplotlib.axes._subplots.AxesSubplot at 0x23797e810>"
      ]
     },
     "execution_count": 359,
     "metadata": {},
     "output_type": "execute_result"
    },
    {
     "data": {
      "image/png": "[encoded data removed]",
      "text/plain": [
       "<Figure size 432x288 with 1 Axes>"
      ]
     },
     "metadata": {
      "needs_background": "light"
     },
     "output_type": "display_data"
    }
   ],
   "source": [
    "# potential people who has more than 4 reviews in a day\n",
    "df_g_user_date._id[(df_g_user_date._id > 4)].value_counts(bins=5).plot.bar()"
   ]
  },
  {
   "cell_type": "markdown",
   "metadata": {},
   "source": [
    "#### Sample user"
   ]
  },
  {
   "cell_type": "code",
   "execution_count": 91,
   "metadata": {},
   "outputs": [],
   "source": [
    "user_id = '3Vd_ATdvvuVVgn_YCpz8fw'\n",
    "user_df_g = df_g_user_date[\n",
    "    (df_g_user_date._id > 2) &\n",
    "    (df_g_user_date.index.get_level_values('user_id') == user_id)]"
   ]
  },
  {
   "cell_type": "code",
   "execution_count": 92,
   "metadata": {},
   "outputs": [
    {
     "data": {
      "text/html": [
       "<div>\n",
       "<style scoped>\n",
       "    .dataframe tbody tr th:only-of-type {\n",
       "        vertical-align: middle;\n",
       "    }\n",
       "\n",
       "    .dataframe tbody tr th {\n",
       "        vertical-align: top;\n",
       "    }\n",
       "\n",
       "    .dataframe thead th {\n",
       "        text-align: right;\n",
       "    }\n",
       "</style>\n",
       "<table border=\"1\" class=\"dataframe\">\n",
       "  <thead>\n",
       "    <tr style=\"text-align: right;\">\n",
       "      <th></th>\n",
       "      <th></th>\n",
       "      <th>_id</th>\n",
       "      <th>_time</th>\n",
       "      <th>business_id</th>\n",
       "      <th>review_id</th>\n",
       "      <th>count_business</th>\n",
       "    </tr>\n",
       "    <tr>\n",
       "      <th>user_id</th>\n",
       "      <th>_date</th>\n",
       "      <th></th>\n",
       "      <th></th>\n",
       "      <th></th>\n",
       "      <th></th>\n",
       "      <th></th>\n",
       "    </tr>\n",
       "  </thead>\n",
       "  <tbody>\n",
       "    <tr>\n",
       "      <td rowspan=\"3\" valign=\"top\">3Vd_ATdvvuVVgn_YCpz8fw</td>\n",
       "      <td>2008-11-15</td>\n",
       "      <td>8</td>\n",
       "      <td>[20:42:57, 22:38:27, 21:22:47, 22:47:54, 21:19...</td>\n",
       "      <td>[4wGCv-SmCHbspSwgXALrKw, GyXSPlq4aj0Uxm-UJYnGC...</td>\n",
       "      <td>[bzRXrMnKRtLtiWlzy4mnVQ, Z5iKL-mO_oIZqBUBFSKz9...</td>\n",
       "      <td>8</td>\n",
       "    </tr>\n",
       "    <tr>\n",
       "      <td>2008-11-02</td>\n",
       "      <td>4</td>\n",
       "      <td>[16:57:31, 17:22:09, 16:49:51, 16:16:24]</td>\n",
       "      <td>[_Y7090jnL5EezPib1ZVF1A, mjhwLcuoenVW8oFhcNmlH...</td>\n",
       "      <td>[E3zRT51Rd_dX406CzuOVbw, rOiZq2y-zQZElB4Sblhzn...</td>\n",
       "      <td>4</td>\n",
       "    </tr>\n",
       "    <tr>\n",
       "      <td>2008-11-16</td>\n",
       "      <td>3</td>\n",
       "      <td>[00:09:59, 00:16:27, 17:49:17]</td>\n",
       "      <td>[DHUAQ4pzH9KKzGZDm1jZLg, zdcesxBdjljRgS0QmCgkB...</td>\n",
       "      <td>[zDml1aALsbUfjWdhyp5PZg, XftWnJfLbE72J2gUtfLup...</td>\n",
       "      <td>3</td>\n",
       "    </tr>\n",
       "  </tbody>\n",
       "</table>\n",
       "</div>"
      ],
      "text/plain": [
       "                                   _id  \\\n",
       "user_id                _date             \n",
       "3Vd_ATdvvuVVgn_YCpz8fw 2008-11-15    8   \n",
       "                       2008-11-02    4   \n",
       "                       2008-11-16    3   \n",
       "\n",
       "                                                                               _time  \\\n",
       "user_id                _date                                                           \n",
       "3Vd_ATdvvuVVgn_YCpz8fw 2008-11-15  [20:42:57, 22:38:27, 21:22:47, 22:47:54, 21:19...   \n",
       "                       2008-11-02           [16:57:31, 17:22:09, 16:49:51, 16:16:24]   \n",
       "                       2008-11-16                     [00:09:59, 00:16:27, 17:49:17]   \n",
       "\n",
       "                                                                         business_id  \\\n",
       "user_id                _date                                                           \n",
       "3Vd_ATdvvuVVgn_YCpz8fw 2008-11-15  [4wGCv-SmCHbspSwgXALrKw, GyXSPlq4aj0Uxm-UJYnGC...   \n",
       "                       2008-11-02  [_Y7090jnL5EezPib1ZVF1A, mjhwLcuoenVW8oFhcNmlH...   \n",
       "                       2008-11-16  [DHUAQ4pzH9KKzGZDm1jZLg, zdcesxBdjljRgS0QmCgkB...   \n",
       "\n",
       "                                                                           review_id  \\\n",
       "user_id                _date                                                           \n",
       "3Vd_ATdvvuVVgn_YCpz8fw 2008-11-15  [bzRXrMnKRtLtiWlzy4mnVQ, Z5iKL-mO_oIZqBUBFSKz9...   \n",
       "                       2008-11-02  [E3zRT51Rd_dX406CzuOVbw, rOiZq2y-zQZElB4Sblhzn...   \n",
       "                       2008-11-16  [zDml1aALsbUfjWdhyp5PZg, XftWnJfLbE72J2gUtfLup...   \n",
       "\n",
       "                                   count_business  \n",
       "user_id                _date                       \n",
       "3Vd_ATdvvuVVgn_YCpz8fw 2008-11-15               8  \n",
       "                       2008-11-02               4  \n",
       "                       2008-11-16               3  "
      ]
     },
     "execution_count": 92,
     "metadata": {},
     "output_type": "execute_result"
    }
   ],
   "source": [
    "user_df_g.sample(3)"
   ]
  },
  {
   "cell_type": "code",
   "execution_count": 94,
   "metadata": {},
   "outputs": [
    {
     "data": {
      "text/plain": [
       "<matplotlib.axes._subplots.AxesSubplot at 0x1ac6b0450>"
      ]
     },
     "execution_count": 94,
     "metadata": {},
     "output_type": "execute_result"
    },
    {
     "data": {
      "image/png": "[encoded data removed]",
      "text/plain": [
       "<Figure size 432x288 with 1 Axes>"
      ]
     },
     "metadata": {
      "needs_background": "light"
     },
     "output_type": "display_data"
    }
   ],
   "source": [
    "reviews[reviews.user_id == user_id].stars.value_counts().plot.bar()"
   ]
  },
  {
   "cell_type": "code",
   "execution_count": 95,
   "metadata": {},
   "outputs": [
    {
     "data": {
      "text/plain": [
       "645.7826086956521"
      ]
     },
     "execution_count": 95,
     "metadata": {},
     "output_type": "execute_result"
    }
   ],
   "source": [
    "reviews[reviews.user_id == user_id].text.apply(lambda x: len(x)).mean()"
   ]
  },
  {
   "cell_type": "code",
   "execution_count": 101,
   "metadata": {},
   "outputs": [
    {
     "data": {
      "text/html": [
       "<div>\n",
       "<style scoped>\n",
       "    .dataframe tbody tr th:only-of-type {\n",
       "        vertical-align: middle;\n",
       "    }\n",
       "\n",
       "    .dataframe tbody tr th {\n",
       "        vertical-align: top;\n",
       "    }\n",
       "\n",
       "    .dataframe thead th {\n",
       "        text-align: right;\n",
       "    }\n",
       "</style>\n",
       "<table border=\"1\" class=\"dataframe\">\n",
       "  <thead>\n",
       "    <tr style=\"text-align: right;\">\n",
       "      <th></th>\n",
       "      <th>_id</th>\n",
       "      <th>review_id</th>\n",
       "      <th>business_id</th>\n",
       "      <th>user_id</th>\n",
       "      <th>stars</th>\n",
       "      <th>date</th>\n",
       "      <th>text</th>\n",
       "      <th>useful</th>\n",
       "      <th>funny</th>\n",
       "      <th>cool</th>\n",
       "      <th>_date</th>\n",
       "      <th>_time</th>\n",
       "    </tr>\n",
       "  </thead>\n",
       "  <tbody>\n",
       "    <tr>\n",
       "      <td>6588673</td>\n",
       "      <td>6588674</td>\n",
       "      <td>-eGaY02M01csyIl3MNEUNQ</td>\n",
       "      <td>2weQS-RnoOBhb1KsHKyoSQ</td>\n",
       "      <td>3Vd_ATdvvuVVgn_YCpz8fw</td>\n",
       "      <td>2</td>\n",
       "      <td>2008-11-15 21:19:13</td>\n",
       "      <td>way expensive like $40 a person-nothing specia...</td>\n",
       "      <td>1</td>\n",
       "      <td>0</td>\n",
       "      <td>1</td>\n",
       "      <td>2008-11-15</td>\n",
       "      <td>21:19:13</td>\n",
       "    </tr>\n",
       "    <tr>\n",
       "      <td>4629445</td>\n",
       "      <td>4629446</td>\n",
       "      <td>bzRXrMnKRtLtiWlzy4mnVQ</td>\n",
       "      <td>4wGCv-SmCHbspSwgXALrKw</td>\n",
       "      <td>3Vd_ATdvvuVVgn_YCpz8fw</td>\n",
       "      <td>5</td>\n",
       "      <td>2008-11-15 20:42:57</td>\n",
       "      <td>Unfortunately this place across from the RIO h...</td>\n",
       "      <td>3</td>\n",
       "      <td>0</td>\n",
       "      <td>4</td>\n",
       "      <td>2008-11-15</td>\n",
       "      <td>20:42:57</td>\n",
       "    </tr>\n",
       "    <tr>\n",
       "      <td>3294023</td>\n",
       "      <td>3294024</td>\n",
       "      <td>1F9dRqx2tLvb3LWCfMKs9w</td>\n",
       "      <td>q18xbq3Cbyp_BJyfMQxFxg</td>\n",
       "      <td>3Vd_ATdvvuVVgn_YCpz8fw</td>\n",
       "      <td>4</td>\n",
       "      <td>2008-11-15 22:49:43</td>\n",
       "      <td>Super fun store  with lots of color and candy ...</td>\n",
       "      <td>0</td>\n",
       "      <td>0</td>\n",
       "      <td>0</td>\n",
       "      <td>2008-11-15</td>\n",
       "      <td>22:49:43</td>\n",
       "    </tr>\n",
       "  </tbody>\n",
       "</table>\n",
       "</div>"
      ],
      "text/plain": [
       "             _id               review_id             business_id  \\\n",
       "6588673  6588674  -eGaY02M01csyIl3MNEUNQ  2weQS-RnoOBhb1KsHKyoSQ   \n",
       "4629445  4629446  bzRXrMnKRtLtiWlzy4mnVQ  4wGCv-SmCHbspSwgXALrKw   \n",
       "3294023  3294024  1F9dRqx2tLvb3LWCfMKs9w  q18xbq3Cbyp_BJyfMQxFxg   \n",
       "\n",
       "                        user_id  stars                date  \\\n",
       "6588673  3Vd_ATdvvuVVgn_YCpz8fw      2 2008-11-15 21:19:13   \n",
       "4629445  3Vd_ATdvvuVVgn_YCpz8fw      5 2008-11-15 20:42:57   \n",
       "3294023  3Vd_ATdvvuVVgn_YCpz8fw      4 2008-11-15 22:49:43   \n",
       "\n",
       "                                                      text  useful  funny  \\\n",
       "6588673  way expensive like $40 a person-nothing specia...       1      0   \n",
       "4629445  Unfortunately this place across from the RIO h...       3      0   \n",
       "3294023  Super fun store  with lots of color and candy ...       0      0   \n",
       "\n",
       "         cool       _date     _time  \n",
       "6588673     1  2008-11-15  21:19:13  \n",
       "4629445     4  2008-11-15  20:42:57  \n",
       "3294023     0  2008-11-15  22:49:43  "
      ]
     },
     "execution_count": 101,
     "metadata": {},
     "output_type": "execute_result"
    }
   ],
   "source": [
    "from itertools import chain\n",
    "user_potential_review_ids = list(chain(*user_df_g.review_id))\n",
    "\n",
    "user_reviews = reviews[reviews.review_id.isin(user_potential_review_ids)]\n",
    "user_reviews.sample(3)"
   ]
  },
  {
   "cell_type": "code",
   "execution_count": 102,
   "metadata": {},
   "outputs": [
    {
     "data": {
      "text/plain": [
       "405.73333333333335"
      ]
     },
     "execution_count": 102,
     "metadata": {},
     "output_type": "execute_result"
    }
   ],
   "source": [
    "user_reviews.text.apply(lambda x: len(x)).mean()"
   ]
  },
  {
   "cell_type": "code",
   "execution_count": 104,
   "metadata": {},
   "outputs": [
    {
     "data": {
      "text/plain": [
       "<matplotlib.axes._subplots.AxesSubplot at 0x1adb03fd0>"
      ]
     },
     "execution_count": 104,
     "metadata": {},
     "output_type": "execute_result"
    },
    {
     "data": {
      "image/png": "[encoded data removed]",
      "text/plain": [
       "<Figure size 432x288 with 1 Axes>"
      ]
     },
     "metadata": {
      "needs_background": "light"
     },
     "output_type": "display_data"
    }
   ],
   "source": [
    "user_reviews.stars.value_counts().plot.bar()"
   ]
  },
  {
   "cell_type": "code",
   "execution_count": 117,
   "metadata": {},
   "outputs": [
    {
     "data": {
      "text/plain": [
       "<matplotlib.axes._subplots.AxesSubplot at 0x1adbb2d50>"
      ]
     },
     "execution_count": 117,
     "metadata": {},
     "output_type": "execute_result"
    },
    {
     "data": {
      "image/png": "[encoded data removed]",
      "text/plain": [
       "<Figure size 432x288 with 1 Axes>"
      ]
     },
     "metadata": {
      "needs_background": "light"
     },
     "output_type": "display_data"
    }
   ],
   "source": [
    "user_reviews.useful.value_counts().plot.bar()"
   ]
  },
  {
   "cell_type": "markdown",
   "metadata": {},
   "source": [
    "#### Get Potential Spam Users and Review Information"
   ]
  },
  {
   "cell_type": "code",
   "execution_count": 49,
   "metadata": {},
   "outputs": [],
   "source": [
    "# potential spam users\n",
    "potential_spam_reviews = df_g_user_date[\n",
    "    (df_g_user_date._id > 5) \n",
    "    # & (df_g_user_date.index.get_level_values('user_id') == 'zzPvEodjvLPe-5NvV0U_cg')\n",
    "    #& (df_g_user_date.index.get_level_values('_date') == datetime.date(2013, 2, 17))\n",
    "].reset_index()"
   ]
  },
  {
   "cell_type": "code",
   "execution_count": 50,
   "metadata": {},
   "outputs": [],
   "source": [
    "# transformations\n",
    "potential_spam_reviews._time = potential_spam_reviews._time.apply(\n",
    "    lambda x: json.dumps([str(i) for i in x]))\n",
    "potential_spam_reviews.business_id = potential_spam_reviews.business_id.apply(\n",
    "    lambda x: json.dumps([str(i) for i in x]))\n",
    "potential_spam_reviews.review_id = potential_spam_reviews.review_id.apply(\n",
    "    lambda x: json.dumps([str(i) for i in x]))\n",
    "potential_spam_reviews.rename(\n",
    "    columns={\n",
    "        '_id': 'num_of_reviews', \n",
    "        '_date': 'date',\n",
    "        '_time': 'times',         \n",
    "        'business_id': 'business_ids',\n",
    "        'review_id': 'review_ids'\n",
    "    }, \n",
    "    inplace=True\n",
    ")"
   ]
  },
  {
   "cell_type": "code",
   "execution_count": 51,
   "metadata": {},
   "outputs": [
    {
     "data": {
      "text/html": [
       "<div>\n",
       "<style scoped>\n",
       "    .dataframe tbody tr th:only-of-type {\n",
       "        vertical-align: middle;\n",
       "    }\n",
       "\n",
       "    .dataframe tbody tr th {\n",
       "        vertical-align: top;\n",
       "    }\n",
       "\n",
       "    .dataframe thead th {\n",
       "        text-align: right;\n",
       "    }\n",
       "</style>\n",
       "<table border=\"1\" class=\"dataframe\">\n",
       "  <thead>\n",
       "    <tr style=\"text-align: right;\">\n",
       "      <th></th>\n",
       "      <th>user_id</th>\n",
       "      <th>date</th>\n",
       "      <th>num_of_reviews</th>\n",
       "      <th>times</th>\n",
       "      <th>business_ids</th>\n",
       "      <th>review_ids</th>\n",
       "      <th>count_business</th>\n",
       "    </tr>\n",
       "  </thead>\n",
       "  <tbody>\n",
       "    <tr>\n",
       "      <td>13</td>\n",
       "      <td>OzwlmPcM0PZFtGH9bsS_Ow</td>\n",
       "      <td>2014-02-26</td>\n",
       "      <td>6</td>\n",
       "      <td>[\"02:58:44\", \"03:57:58\", \"01:58:29\", \"01:38:37...</td>\n",
       "      <td>[\"Eif660dJb3nqORM6LF3UYg\", \"pZIKo5njTPM6XhwfRx...</td>\n",
       "      <td>[\"Biq337F0c9CdLiJHpxFZwQ\", \"5bpxtMbiqsfoZFrLCb...</td>\n",
       "      <td>6</td>\n",
       "    </tr>\n",
       "    <tr>\n",
       "      <td>28</td>\n",
       "      <td>qKUEhJUl0Z9MFW7R7BTvRQ</td>\n",
       "      <td>2018-07-04</td>\n",
       "      <td>6</td>\n",
       "      <td>[\"05:58:32\", \"03:32:20\", \"06:33:00\", \"02:01:20...</td>\n",
       "      <td>[\"mz9ltimeAIy2c2qf5ctljw\", \"DqcD3YflYhArFsC4KV...</td>\n",
       "      <td>[\"f6MIfLAnpOf-nUX-eaGuig\", \"Z1JDHha1sIJOZBmcZT...</td>\n",
       "      <td>6</td>\n",
       "    </tr>\n",
       "  </tbody>\n",
       "</table>\n",
       "</div>"
      ],
      "text/plain": [
       "                   user_id        date  num_of_reviews  \\\n",
       "13  OzwlmPcM0PZFtGH9bsS_Ow  2014-02-26               6   \n",
       "28  qKUEhJUl0Z9MFW7R7BTvRQ  2018-07-04               6   \n",
       "\n",
       "                                                times  \\\n",
       "13  [\"02:58:44\", \"03:57:58\", \"01:58:29\", \"01:38:37...   \n",
       "28  [\"05:58:32\", \"03:32:20\", \"06:33:00\", \"02:01:20...   \n",
       "\n",
       "                                         business_ids  \\\n",
       "13  [\"Eif660dJb3nqORM6LF3UYg\", \"pZIKo5njTPM6XhwfRx...   \n",
       "28  [\"mz9ltimeAIy2c2qf5ctljw\", \"DqcD3YflYhArFsC4KV...   \n",
       "\n",
       "                                           review_ids  count_business  \n",
       "13  [\"Biq337F0c9CdLiJHpxFZwQ\", \"5bpxtMbiqsfoZFrLCb...               6  \n",
       "28  [\"f6MIfLAnpOf-nUX-eaGuig\", \"Z1JDHha1sIJOZBmcZT...               6  "
      ]
     },
     "execution_count": 51,
     "metadata": {},
     "output_type": "execute_result"
    }
   ],
   "source": [
    "potential_spam_reviews.sample(2)"
   ]
  },
  {
   "cell_type": "code",
   "execution_count": 205,
   "metadata": {},
   "outputs": [
    {
     "data": {
      "text/html": [
       "<div>\n",
       "<style scoped>\n",
       "    .dataframe tbody tr th:only-of-type {\n",
       "        vertical-align: middle;\n",
       "    }\n",
       "\n",
       "    .dataframe tbody tr th {\n",
       "        vertical-align: top;\n",
       "    }\n",
       "\n",
       "    .dataframe thead th {\n",
       "        text-align: right;\n",
       "    }\n",
       "</style>\n",
       "<table border=\"1\" class=\"dataframe\">\n",
       "  <thead>\n",
       "    <tr style=\"text-align: right;\">\n",
       "      <th></th>\n",
       "      <th>user_id</th>\n",
       "      <th>num_of_friends</th>\n",
       "      <th>date</th>\n",
       "      <th>num_of_reviews</th>\n",
       "      <th>times</th>\n",
       "      <th>business_ids</th>\n",
       "      <th>review_ids</th>\n",
       "      <th>count_business</th>\n",
       "    </tr>\n",
       "  </thead>\n",
       "  <tbody>\n",
       "    <tr>\n",
       "      <td>57794</td>\n",
       "      <td>3DP3cU-opB08rbyGTLNhkA</td>\n",
       "      <td>1</td>\n",
       "      <td>NaN</td>\n",
       "      <td>NaN</td>\n",
       "      <td>NaN</td>\n",
       "      <td>NaN</td>\n",
       "      <td>NaN</td>\n",
       "      <td>NaN</td>\n",
       "    </tr>\n",
       "    <tr>\n",
       "      <td>288776</td>\n",
       "      <td>iKKsKXBwiNEXXXdzQNFPDQ</td>\n",
       "      <td>1</td>\n",
       "      <td>NaN</td>\n",
       "      <td>NaN</td>\n",
       "      <td>NaN</td>\n",
       "      <td>NaN</td>\n",
       "      <td>NaN</td>\n",
       "      <td>NaN</td>\n",
       "    </tr>\n",
       "    <tr>\n",
       "      <td>439102</td>\n",
       "      <td>vk768LgkXj_jE4q_kVeeLg</td>\n",
       "      <td>3</td>\n",
       "      <td>NaN</td>\n",
       "      <td>NaN</td>\n",
       "      <td>NaN</td>\n",
       "      <td>NaN</td>\n",
       "      <td>NaN</td>\n",
       "      <td>NaN</td>\n",
       "    </tr>\n",
       "  </tbody>\n",
       "</table>\n",
       "</div>"
      ],
      "text/plain": [
       "                       user_id  num_of_friends date  num_of_reviews times  \\\n",
       "57794   3DP3cU-opB08rbyGTLNhkA               1  NaN             NaN   NaN   \n",
       "288776  iKKsKXBwiNEXXXdzQNFPDQ               1  NaN             NaN   NaN   \n",
       "439102  vk768LgkXj_jE4q_kVeeLg               3  NaN             NaN   NaN   \n",
       "\n",
       "       business_ids review_ids  count_business  \n",
       "57794           NaN        NaN             NaN  \n",
       "288776          NaN        NaN             NaN  \n",
       "439102          NaN        NaN             NaN  "
      ]
     },
     "execution_count": 205,
     "metadata": {},
     "output_type": "execute_result"
    }
   ],
   "source": [
    "df = pd.merge(df, potential_spam_reviews, how='left', on='user_id')\n",
    "df.sample(3)"
   ]
  },
  {
   "cell_type": "code",
   "execution_count": 54,
   "metadata": {},
   "outputs": [
    {
     "data": {
      "text/html": [
       "<div>\n",
       "<style scoped>\n",
       "    .dataframe tbody tr th:only-of-type {\n",
       "        vertical-align: middle;\n",
       "    }\n",
       "\n",
       "    .dataframe tbody tr th {\n",
       "        vertical-align: top;\n",
       "    }\n",
       "\n",
       "    .dataframe thead th {\n",
       "        text-align: right;\n",
       "    }\n",
       "</style>\n",
       "<table border=\"1\" class=\"dataframe\">\n",
       "  <thead>\n",
       "    <tr style=\"text-align: right;\">\n",
       "      <th></th>\n",
       "      <th>user_id</th>\n",
       "      <th>date</th>\n",
       "      <th>num_of_reviews</th>\n",
       "      <th>times</th>\n",
       "      <th>business_ids</th>\n",
       "      <th>review_ids</th>\n",
       "      <th>count_business</th>\n",
       "    </tr>\n",
       "  </thead>\n",
       "  <tbody>\n",
       "    <tr>\n",
       "      <td>27</td>\n",
       "      <td>q5FQmuXxzPEsvEtA_Mvd1w</td>\n",
       "      <td>2013-10-24</td>\n",
       "      <td>6</td>\n",
       "      <td>[\"07:22:56\", \"00:05:50\", \"20:55:29\", \"20:52:20...</td>\n",
       "      <td>[\"DS8iFty1c_4YGn8sCIOFAA\", \"-6tvduBzjLI1ISfs3F...</td>\n",
       "      <td>[\"ffSseUHxe2TmmjXUYDoK1Q\", \"5AM5SePUYzHzyeQU_6...</td>\n",
       "      <td>6</td>\n",
       "    </tr>\n",
       "    <tr>\n",
       "      <td>6</td>\n",
       "      <td>BMmtD4a2uTyFxDJ2qHUbSw</td>\n",
       "      <td>2009-01-30</td>\n",
       "      <td>6</td>\n",
       "      <td>[\"03:52:08\", \"02:21:57\", \"05:57:17\", \"03:01:45...</td>\n",
       "      <td>[\"UQpOObEgtdyi3IyBSVEntg\", \"rxA9c0_XObabVL1WCT...</td>\n",
       "      <td>[\"cK1lvv4kX6mQ_WCu35kz0g\", \"iEFLrLCfhDO3eKaF9d...</td>\n",
       "      <td>6</td>\n",
       "    </tr>\n",
       "  </tbody>\n",
       "</table>\n",
       "</div>"
      ],
      "text/plain": [
       "                   user_id       date  num_of_reviews  \\\n",
       "27  q5FQmuXxzPEsvEtA_Mvd1w 2013-10-24               6   \n",
       "6   BMmtD4a2uTyFxDJ2qHUbSw 2009-01-30               6   \n",
       "\n",
       "                                                times  \\\n",
       "27  [\"07:22:56\", \"00:05:50\", \"20:55:29\", \"20:52:20...   \n",
       "6   [\"03:52:08\", \"02:21:57\", \"05:57:17\", \"03:01:45...   \n",
       "\n",
       "                                         business_ids  \\\n",
       "27  [\"DS8iFty1c_4YGn8sCIOFAA\", \"-6tvduBzjLI1ISfs3F...   \n",
       "6   [\"UQpOObEgtdyi3IyBSVEntg\", \"rxA9c0_XObabVL1WCT...   \n",
       "\n",
       "                                           review_ids  count_business  \n",
       "27  [\"ffSseUHxe2TmmjXUYDoK1Q\", \"5AM5SePUYzHzyeQU_6...               6  \n",
       "6   [\"cK1lvv4kX6mQ_WCu35kz0g\", \"iEFLrLCfhDO3eKaF9d...               6  "
      ]
     },
     "execution_count": 54,
     "metadata": {},
     "output_type": "execute_result"
    }
   ],
   "source": [
    "potential_spam_reviews.to_sql('user_spammers', con=engine, if_exists='replace', index=False)\n",
    "pd.read_sql_table('user_spammers', con=engine).sample(2)"
   ]
  },
  {
   "cell_type": "markdown",
   "metadata": {},
   "source": [
    "### Percen. of Positive Reviews\n",
    "\n",
    "The majority of spammers have more than 80% of their reviews as 4-5 stars."
   ]
  },
  {
   "cell_type": "code",
   "execution_count": 18,
   "metadata": {},
   "outputs": [],
   "source": [
    "df_g_user_star = reviews.groupby(\n",
    "    by=['user_id', 'stars']).agg({'_id': 'count'}).reset_index()\n",
    "user_star_pivot = df_g_user_star.pivot_table(\n",
    "    values='_id', index='user_id', columns='stars',fill_value=0)\n",
    "user_star_pivot.rename(columns={1:'a',2:'b',3:'c',4:'d',5:'e'}, inplace=True)"
   ]
  },
  {
   "cell_type": "code",
   "execution_count": 19,
   "metadata": {},
   "outputs": [
    {
     "data": {
      "text/html": [
       "<div>\n",
       "<style scoped>\n",
       "    .dataframe tbody tr th:only-of-type {\n",
       "        vertical-align: middle;\n",
       "    }\n",
       "\n",
       "    .dataframe tbody tr th {\n",
       "        vertical-align: top;\n",
       "    }\n",
       "\n",
       "    .dataframe thead th {\n",
       "        text-align: right;\n",
       "    }\n",
       "</style>\n",
       "<table border=\"1\" class=\"dataframe\">\n",
       "  <thead>\n",
       "    <tr style=\"text-align: right;\">\n",
       "      <th></th>\n",
       "      <th>user_id</th>\n",
       "      <th>stars</th>\n",
       "      <th>_id</th>\n",
       "    </tr>\n",
       "  </thead>\n",
       "  <tbody>\n",
       "    <tr>\n",
       "      <td>0</td>\n",
       "      <td>---1lKK3aKOuomHnwAkAow</td>\n",
       "      <td>1</td>\n",
       "      <td>1</td>\n",
       "    </tr>\n",
       "    <tr>\n",
       "      <td>1</td>\n",
       "      <td>---1lKK3aKOuomHnwAkAow</td>\n",
       "      <td>2</td>\n",
       "      <td>2</td>\n",
       "    </tr>\n",
       "    <tr>\n",
       "      <td>2</td>\n",
       "      <td>---1lKK3aKOuomHnwAkAow</td>\n",
       "      <td>3</td>\n",
       "      <td>5</td>\n",
       "    </tr>\n",
       "  </tbody>\n",
       "</table>\n",
       "</div>"
      ],
      "text/plain": [
       "                  user_id  stars  _id\n",
       "0  ---1lKK3aKOuomHnwAkAow      1    1\n",
       "1  ---1lKK3aKOuomHnwAkAow      2    2\n",
       "2  ---1lKK3aKOuomHnwAkAow      3    5"
      ]
     },
     "execution_count": 19,
     "metadata": {},
     "output_type": "execute_result"
    }
   ],
   "source": [
    "df_g_user_star.head(3)"
   ]
  },
  {
   "cell_type": "code",
   "execution_count": 20,
   "metadata": {},
   "outputs": [
    {
     "data": {
      "text/html": [
       "<div>\n",
       "<style scoped>\n",
       "    .dataframe tbody tr th:only-of-type {\n",
       "        vertical-align: middle;\n",
       "    }\n",
       "\n",
       "    .dataframe tbody tr th {\n",
       "        vertical-align: top;\n",
       "    }\n",
       "\n",
       "    .dataframe thead th {\n",
       "        text-align: right;\n",
       "    }\n",
       "</style>\n",
       "<table border=\"1\" class=\"dataframe\">\n",
       "  <thead>\n",
       "    <tr style=\"text-align: right;\">\n",
       "      <th>stars</th>\n",
       "      <th>a</th>\n",
       "      <th>b</th>\n",
       "      <th>c</th>\n",
       "      <th>d</th>\n",
       "      <th>e</th>\n",
       "    </tr>\n",
       "    <tr>\n",
       "      <th>user_id</th>\n",
       "      <th></th>\n",
       "      <th></th>\n",
       "      <th></th>\n",
       "      <th></th>\n",
       "      <th></th>\n",
       "    </tr>\n",
       "  </thead>\n",
       "  <tbody>\n",
       "    <tr>\n",
       "      <td>pkn7wB8YgT0NujbgWF6Y0Q</td>\n",
       "      <td>0</td>\n",
       "      <td>0</td>\n",
       "      <td>0</td>\n",
       "      <td>0</td>\n",
       "      <td>2</td>\n",
       "    </tr>\n",
       "    <tr>\n",
       "      <td>wk7Y3jxqmXrlfm6Uwp0NVg</td>\n",
       "      <td>1</td>\n",
       "      <td>0</td>\n",
       "      <td>0</td>\n",
       "      <td>0</td>\n",
       "      <td>0</td>\n",
       "    </tr>\n",
       "    <tr>\n",
       "      <td>gRXdF6YAaXc8mneTRihLJA</td>\n",
       "      <td>0</td>\n",
       "      <td>0</td>\n",
       "      <td>0</td>\n",
       "      <td>0</td>\n",
       "      <td>1</td>\n",
       "    </tr>\n",
       "  </tbody>\n",
       "</table>\n",
       "</div>"
      ],
      "text/plain": [
       "stars                   a  b  c  d  e\n",
       "user_id                              \n",
       "pkn7wB8YgT0NujbgWF6Y0Q  0  0  0  0  2\n",
       "wk7Y3jxqmXrlfm6Uwp0NVg  1  0  0  0  0\n",
       "gRXdF6YAaXc8mneTRihLJA  0  0  0  0  1"
      ]
     },
     "execution_count": 20,
     "metadata": {},
     "output_type": "execute_result"
    }
   ],
   "source": [
    "user_star_pivot.sample(3)"
   ]
  },
  {
   "cell_type": "code",
   "execution_count": 21,
   "metadata": {},
   "outputs": [],
   "source": [
    "user_star_pivot['total_of_reviews'] = user_star_pivot.apply(\n",
    "    lambda x: sum(x), axis=1)\n",
    "user_star_pivot['perc_of_positive'] = user_star_pivot.apply(\n",
    "    lambda x: round((x.d + x.e) / (x.a + x.b + x.c + x.d + x.e) * 100), axis=1)"
   ]
  },
  {
   "cell_type": "code",
   "execution_count": 43,
   "metadata": {},
   "outputs": [],
   "source": [
    "user_star_pivot.reset_index().loc[:,['user_id', 'perc_of_positive']].to_sql(\n",
    "    'user_positive_percentage', con=engine, if_exists='replace', index=False)"
   ]
  },
  {
   "cell_type": "code",
   "execution_count": 24,
   "metadata": {},
   "outputs": [
    {
     "data": {
      "text/plain": [
       "array([<matplotlib.axes._subplots.AxesSubplot object at 0x192b96dd0>],\n",
       "      dtype=object)"
      ]
     },
     "execution_count": 24,
     "metadata": {},
     "output_type": "execute_result"
    },
    {
     "data": {
      "image/png": "[encoded data removed]",
      "text/plain": [
       "<Figure size 432x288 with 1 Axes>"
      ]
     },
     "metadata": {},
     "output_type": "display_data"
    }
   ],
   "source": [
    "user_star_pivot.perc_of_positive.value_counts(bins=5).plot.pie(subplots=True)"
   ]
  },
  {
   "cell_type": "code",
   "execution_count": 25,
   "metadata": {},
   "outputs": [
    {
     "data": {
      "text/html": [
       "<div>\n",
       "<style scoped>\n",
       "    .dataframe tbody tr th:only-of-type {\n",
       "        vertical-align: middle;\n",
       "    }\n",
       "\n",
       "    .dataframe tbody tr th {\n",
       "        vertical-align: top;\n",
       "    }\n",
       "\n",
       "    .dataframe thead th {\n",
       "        text-align: right;\n",
       "    }\n",
       "</style>\n",
       "<table border=\"1\" class=\"dataframe\">\n",
       "  <thead>\n",
       "    <tr style=\"text-align: right;\">\n",
       "      <th>stars</th>\n",
       "      <th>a</th>\n",
       "      <th>b</th>\n",
       "      <th>c</th>\n",
       "      <th>d</th>\n",
       "      <th>e</th>\n",
       "      <th>total_of_reviews</th>\n",
       "      <th>perc_of_positive</th>\n",
       "    </tr>\n",
       "    <tr>\n",
       "      <th>user_id</th>\n",
       "      <th></th>\n",
       "      <th></th>\n",
       "      <th></th>\n",
       "      <th></th>\n",
       "      <th></th>\n",
       "      <th></th>\n",
       "      <th></th>\n",
       "    </tr>\n",
       "  </thead>\n",
       "  <tbody>\n",
       "    <tr>\n",
       "      <td>Xv_6lnK2sudSD8IrwDI8rQ</td>\n",
       "      <td>0</td>\n",
       "      <td>0</td>\n",
       "      <td>2</td>\n",
       "      <td>5</td>\n",
       "      <td>0</td>\n",
       "      <td>7</td>\n",
       "      <td>71.0</td>\n",
       "    </tr>\n",
       "    <tr>\n",
       "      <td>WoJNVbll5hJ1JJDNXWosYQ</td>\n",
       "      <td>0</td>\n",
       "      <td>1</td>\n",
       "      <td>0</td>\n",
       "      <td>4</td>\n",
       "      <td>9</td>\n",
       "      <td>14</td>\n",
       "      <td>93.0</td>\n",
       "    </tr>\n",
       "    <tr>\n",
       "      <td>VFP5b5ZXPHmtiFjD-Kftiw</td>\n",
       "      <td>2</td>\n",
       "      <td>2</td>\n",
       "      <td>5</td>\n",
       "      <td>1</td>\n",
       "      <td>11</td>\n",
       "      <td>21</td>\n",
       "      <td>57.0</td>\n",
       "    </tr>\n",
       "  </tbody>\n",
       "</table>\n",
       "</div>"
      ],
      "text/plain": [
       "stars                   a  b  c  d   e  total_of_reviews  perc_of_positive\n",
       "user_id                                                                   \n",
       "Xv_6lnK2sudSD8IrwDI8rQ  0  0  2  5   0                 7              71.0\n",
       "WoJNVbll5hJ1JJDNXWosYQ  0  1  0  4   9                14              93.0\n",
       "VFP5b5ZXPHmtiFjD-Kftiw  2  2  5  1  11                21              57.0"
      ]
     },
     "execution_count": 25,
     "metadata": {},
     "output_type": "execute_result"
    }
   ],
   "source": [
    "user_star_pivot[user_star_pivot.total_of_reviews > 5].sample(3)"
   ]
  },
  {
   "cell_type": "code",
   "execution_count": 273,
   "metadata": {},
   "outputs": [
    {
     "data": {
      "text/html": [
       "<div>\n",
       "<style scoped>\n",
       "    .dataframe tbody tr th:only-of-type {\n",
       "        vertical-align: middle;\n",
       "    }\n",
       "\n",
       "    .dataframe tbody tr th {\n",
       "        vertical-align: top;\n",
       "    }\n",
       "\n",
       "    .dataframe thead th {\n",
       "        text-align: right;\n",
       "    }\n",
       "</style>\n",
       "<table border=\"1\" class=\"dataframe\">\n",
       "  <thead>\n",
       "    <tr style=\"text-align: right;\">\n",
       "      <th>stars</th>\n",
       "      <th>a</th>\n",
       "      <th>b</th>\n",
       "      <th>c</th>\n",
       "      <th>d</th>\n",
       "      <th>e</th>\n",
       "      <th>total_of_reviews</th>\n",
       "      <th>perc_of_positive</th>\n",
       "    </tr>\n",
       "    <tr>\n",
       "      <th>user_id</th>\n",
       "      <th></th>\n",
       "      <th></th>\n",
       "      <th></th>\n",
       "      <th></th>\n",
       "      <th></th>\n",
       "      <th></th>\n",
       "      <th></th>\n",
       "    </tr>\n",
       "  </thead>\n",
       "  <tbody>\n",
       "    <tr>\n",
       "      <td>KgFOJnWXxVuz0b-xfo6jjw</td>\n",
       "      <td>0</td>\n",
       "      <td>0</td>\n",
       "      <td>2</td>\n",
       "      <td>7</td>\n",
       "      <td>5</td>\n",
       "      <td>14</td>\n",
       "      <td>86.0</td>\n",
       "    </tr>\n",
       "    <tr>\n",
       "      <td>WU9eoIz9KCcSB4bAxhOHXQ</td>\n",
       "      <td>1</td>\n",
       "      <td>0</td>\n",
       "      <td>0</td>\n",
       "      <td>1</td>\n",
       "      <td>4</td>\n",
       "      <td>6</td>\n",
       "      <td>83.0</td>\n",
       "    </tr>\n",
       "    <tr>\n",
       "      <td>6CzDXsYJNXLLbmDAaES4tQ</td>\n",
       "      <td>0</td>\n",
       "      <td>0</td>\n",
       "      <td>0</td>\n",
       "      <td>5</td>\n",
       "      <td>1</td>\n",
       "      <td>6</td>\n",
       "      <td>100.0</td>\n",
       "    </tr>\n",
       "  </tbody>\n",
       "</table>\n",
       "</div>"
      ],
      "text/plain": [
       "stars                   a  b  c  d  e  total_of_reviews  perc_of_positive\n",
       "user_id                                                                  \n",
       "KgFOJnWXxVuz0b-xfo6jjw  0  0  2  7  5                14              86.0\n",
       "WU9eoIz9KCcSB4bAxhOHXQ  1  0  0  1  4                 6              83.0\n",
       "6CzDXsYJNXLLbmDAaES4tQ  0  0  0  5  1                 6             100.0"
      ]
     },
     "execution_count": 273,
     "metadata": {},
     "output_type": "execute_result"
    }
   ],
   "source": [
    "potential_spamers = user_star_pivot[\n",
    "    (user_star_pivot.total_of_reviews > 5)\n",
    "    & (user_star_pivot.perc_of_positive > 79)\n",
    "]\n",
    "potential_spamers.sample(3)"
   ]
  },
  {
   "cell_type": "code",
   "execution_count": 275,
   "metadata": {},
   "outputs": [
    {
     "data": {
      "text/html": [
       "<div>\n",
       "<style scoped>\n",
       "    .dataframe tbody tr th:only-of-type {\n",
       "        vertical-align: middle;\n",
       "    }\n",
       "\n",
       "    .dataframe tbody tr th {\n",
       "        vertical-align: top;\n",
       "    }\n",
       "\n",
       "    .dataframe thead th {\n",
       "        text-align: right;\n",
       "    }\n",
       "</style>\n",
       "<table border=\"1\" class=\"dataframe\">\n",
       "  <thead>\n",
       "    <tr style=\"text-align: right;\">\n",
       "      <th></th>\n",
       "      <th>user_id</th>\n",
       "      <th>num_of_friends</th>\n",
       "      <th>date</th>\n",
       "      <th>num_of_reviews</th>\n",
       "      <th>times</th>\n",
       "      <th>business_ids</th>\n",
       "      <th>review_ids</th>\n",
       "      <th>count_business</th>\n",
       "      <th>a</th>\n",
       "      <th>b</th>\n",
       "      <th>c</th>\n",
       "      <th>d</th>\n",
       "      <th>e</th>\n",
       "      <th>total_of_reviews</th>\n",
       "      <th>perc_of_positive</th>\n",
       "    </tr>\n",
       "  </thead>\n",
       "  <tbody>\n",
       "    <tr>\n",
       "      <td>220588</td>\n",
       "      <td>wTktJ6qT8C5i-QuOplizAQ</td>\n",
       "      <td>31</td>\n",
       "      <td>NaN</td>\n",
       "      <td>NaN</td>\n",
       "      <td>NaN</td>\n",
       "      <td>NaN</td>\n",
       "      <td>NaN</td>\n",
       "      <td>NaN</td>\n",
       "      <td>NaN</td>\n",
       "      <td>NaN</td>\n",
       "      <td>NaN</td>\n",
       "      <td>NaN</td>\n",
       "      <td>NaN</td>\n",
       "      <td>NaN</td>\n",
       "      <td>NaN</td>\n",
       "    </tr>\n",
       "    <tr>\n",
       "      <td>332282</td>\n",
       "      <td>gBfZZs7nyf4UMFqy82Mkmg</td>\n",
       "      <td>1</td>\n",
       "      <td>NaN</td>\n",
       "      <td>NaN</td>\n",
       "      <td>NaN</td>\n",
       "      <td>NaN</td>\n",
       "      <td>NaN</td>\n",
       "      <td>NaN</td>\n",
       "      <td>NaN</td>\n",
       "      <td>NaN</td>\n",
       "      <td>NaN</td>\n",
       "      <td>NaN</td>\n",
       "      <td>NaN</td>\n",
       "      <td>NaN</td>\n",
       "      <td>NaN</td>\n",
       "    </tr>\n",
       "    <tr>\n",
       "      <td>295133</td>\n",
       "      <td>ZTUJKJ993ntpDiqABLM5_Q</td>\n",
       "      <td>51</td>\n",
       "      <td>NaN</td>\n",
       "      <td>NaN</td>\n",
       "      <td>NaN</td>\n",
       "      <td>NaN</td>\n",
       "      <td>NaN</td>\n",
       "      <td>NaN</td>\n",
       "      <td>NaN</td>\n",
       "      <td>NaN</td>\n",
       "      <td>NaN</td>\n",
       "      <td>NaN</td>\n",
       "      <td>NaN</td>\n",
       "      <td>NaN</td>\n",
       "      <td>NaN</td>\n",
       "    </tr>\n",
       "  </tbody>\n",
       "</table>\n",
       "</div>"
      ],
      "text/plain": [
       "                       user_id  num_of_friends date  num_of_reviews times  \\\n",
       "220588  wTktJ6qT8C5i-QuOplizAQ              31  NaN             NaN   NaN   \n",
       "332282  gBfZZs7nyf4UMFqy82Mkmg               1  NaN             NaN   NaN   \n",
       "295133  ZTUJKJ993ntpDiqABLM5_Q              51  NaN             NaN   NaN   \n",
       "\n",
       "       business_ids review_ids  count_business   a   b   c   d   e  \\\n",
       "220588          NaN        NaN             NaN NaN NaN NaN NaN NaN   \n",
       "332282          NaN        NaN             NaN NaN NaN NaN NaN NaN   \n",
       "295133          NaN        NaN             NaN NaN NaN NaN NaN NaN   \n",
       "\n",
       "        total_of_reviews  perc_of_positive  \n",
       "220588               NaN               NaN  \n",
       "332282               NaN               NaN  \n",
       "295133               NaN               NaN  "
      ]
     },
     "execution_count": 275,
     "metadata": {},
     "output_type": "execute_result"
    }
   ],
   "source": [
    "df = pd.merge(df, potential_spamers, how='left', on='user_id')\n",
    "df.sample(3)"
   ]
  },
  {
   "cell_type": "code",
   "execution_count": 278,
   "metadata": {},
   "outputs": [
    {
     "data": {
      "text/html": [
       "<div>\n",
       "<style scoped>\n",
       "    .dataframe tbody tr th:only-of-type {\n",
       "        vertical-align: middle;\n",
       "    }\n",
       "\n",
       "    .dataframe tbody tr th {\n",
       "        vertical-align: top;\n",
       "    }\n",
       "\n",
       "    .dataframe thead th {\n",
       "        text-align: right;\n",
       "    }\n",
       "</style>\n",
       "<table border=\"1\" class=\"dataframe\">\n",
       "  <thead>\n",
       "    <tr style=\"text-align: right;\">\n",
       "      <th></th>\n",
       "      <th>a</th>\n",
       "      <th>b</th>\n",
       "      <th>c</th>\n",
       "      <th>d</th>\n",
       "      <th>e</th>\n",
       "      <th>total_of_reviews</th>\n",
       "      <th>perc_of_positive</th>\n",
       "    </tr>\n",
       "  </thead>\n",
       "  <tbody>\n",
       "    <tr>\n",
       "      <td>1818</td>\n",
       "      <td>0</td>\n",
       "      <td>0</td>\n",
       "      <td>1</td>\n",
       "      <td>7</td>\n",
       "      <td>1</td>\n",
       "      <td>9</td>\n",
       "      <td>89.0</td>\n",
       "    </tr>\n",
       "    <tr>\n",
       "      <td>2294</td>\n",
       "      <td>0</td>\n",
       "      <td>0</td>\n",
       "      <td>0</td>\n",
       "      <td>5</td>\n",
       "      <td>1</td>\n",
       "      <td>6</td>\n",
       "      <td>100.0</td>\n",
       "    </tr>\n",
       "    <tr>\n",
       "      <td>630</td>\n",
       "      <td>0</td>\n",
       "      <td>0</td>\n",
       "      <td>0</td>\n",
       "      <td>2</td>\n",
       "      <td>6</td>\n",
       "      <td>8</td>\n",
       "      <td>100.0</td>\n",
       "    </tr>\n",
       "  </tbody>\n",
       "</table>\n",
       "</div>"
      ],
      "text/plain": [
       "      a  b  c  d  e  total_of_reviews  perc_of_positive\n",
       "1818  0  0  1  7  1                 9              89.0\n",
       "2294  0  0  0  5  1                 6             100.0\n",
       "630   0  0  0  2  6                 8             100.0"
      ]
     },
     "execution_count": 278,
     "metadata": {},
     "output_type": "execute_result"
    }
   ],
   "source": [
    "potential_spamers.to_sql('user_positive_percentage', con=engine, if_exists='replace', index=False)\n",
    "pd.read_sql_table('user_positive_percentage', con=engine).sample(3)"
   ]
  },
  {
   "cell_type": "markdown",
   "metadata": {},
   "source": [
    "### Review Length\n",
    "\n",
    "The average length of reviews of spammers are generally short due to too much time of writing. Reviews shorter than 140 are generally spammers."
   ]
  },
  {
   "cell_type": "code",
   "execution_count": 281,
   "metadata": {},
   "outputs": [],
   "source": [
    "df_g_user_length = reviews.groupby(\n",
    "    by=['user_id']).agg({'_id': 'count', 'text': list})"
   ]
  },
  {
   "cell_type": "code",
   "execution_count": 282,
   "metadata": {},
   "outputs": [
    {
     "data": {
      "text/html": [
       "<div>\n",
       "<style scoped>\n",
       "    .dataframe tbody tr th:only-of-type {\n",
       "        vertical-align: middle;\n",
       "    }\n",
       "\n",
       "    .dataframe tbody tr th {\n",
       "        vertical-align: top;\n",
       "    }\n",
       "\n",
       "    .dataframe thead th {\n",
       "        text-align: right;\n",
       "    }\n",
       "</style>\n",
       "<table border=\"1\" class=\"dataframe\">\n",
       "  <thead>\n",
       "    <tr style=\"text-align: right;\">\n",
       "      <th></th>\n",
       "      <th>_id</th>\n",
       "      <th>text</th>\n",
       "    </tr>\n",
       "    <tr>\n",
       "      <th>user_id</th>\n",
       "      <th></th>\n",
       "      <th></th>\n",
       "    </tr>\n",
       "  </thead>\n",
       "  <tbody>\n",
       "    <tr>\n",
       "      <td>Uk25yW9c7G9YgK9_MSHJKg</td>\n",
       "      <td>2</td>\n",
       "      <td>[Get a macaroon for enjoying immediately and a...</td>\n",
       "    </tr>\n",
       "    <tr>\n",
       "      <td>py4MyhThMBV4d4ZUK0AwoQ</td>\n",
       "      <td>1</td>\n",
       "      <td>[Marco's delivers an average pizza. Nothing to...</td>\n",
       "    </tr>\n",
       "    <tr>\n",
       "      <td>srM23EoCcFvjnBTddScPdg</td>\n",
       "      <td>1</td>\n",
       "      <td>[A tie for the best cappuccino in Montreal (in...</td>\n",
       "    </tr>\n",
       "  </tbody>\n",
       "</table>\n",
       "</div>"
      ],
      "text/plain": [
       "                        _id                                               text\n",
       "user_id                                                                       \n",
       "Uk25yW9c7G9YgK9_MSHJKg    2  [Get a macaroon for enjoying immediately and a...\n",
       "py4MyhThMBV4d4ZUK0AwoQ    1  [Marco's delivers an average pizza. Nothing to...\n",
       "srM23EoCcFvjnBTddScPdg    1  [A tie for the best cappuccino in Montreal (in..."
      ]
     },
     "execution_count": 282,
     "metadata": {},
     "output_type": "execute_result"
    }
   ],
   "source": [
    "df_g_user_length.sample(3)"
   ]
  },
  {
   "cell_type": "code",
   "execution_count": 287,
   "metadata": {},
   "outputs": [],
   "source": [
    "df_g_user_length['review_length'] = df_g_user_length.apply(\n",
    "    lambda x: round(sum(map(len, x.text))/len(x.text)), axis=1)"
   ]
  },
  {
   "cell_type": "code",
   "execution_count": 286,
   "metadata": {},
   "outputs": [
    {
     "data": {
      "text/html": [
       "<div>\n",
       "<style scoped>\n",
       "    .dataframe tbody tr th:only-of-type {\n",
       "        vertical-align: middle;\n",
       "    }\n",
       "\n",
       "    .dataframe tbody tr th {\n",
       "        vertical-align: top;\n",
       "    }\n",
       "\n",
       "    .dataframe thead th {\n",
       "        text-align: right;\n",
       "    }\n",
       "</style>\n",
       "<table border=\"1\" class=\"dataframe\">\n",
       "  <thead>\n",
       "    <tr style=\"text-align: right;\">\n",
       "      <th></th>\n",
       "      <th>_id</th>\n",
       "      <th>text</th>\n",
       "      <th>review_length</th>\n",
       "    </tr>\n",
       "    <tr>\n",
       "      <th>user_id</th>\n",
       "      <th></th>\n",
       "      <th></th>\n",
       "      <th></th>\n",
       "    </tr>\n",
       "  </thead>\n",
       "  <tbody>\n",
       "    <tr>\n",
       "      <td>Z7JMhAYRgJjck2nkf88C8A</td>\n",
       "      <td>1</td>\n",
       "      <td>[Tried this place out and it was delicious! We...</td>\n",
       "      <td>505.000000</td>\n",
       "    </tr>\n",
       "    <tr>\n",
       "      <td>ST5KHMoxf9d7BDZnfLLsTg</td>\n",
       "      <td>3</td>\n",
       "      <td>[Wings! \\n\\nThis place is near my office and w...</td>\n",
       "      <td>955.666667</td>\n",
       "    </tr>\n",
       "    <tr>\n",
       "      <td>OLQakyycSIwbdBMoPFte8Q</td>\n",
       "      <td>1</td>\n",
       "      <td>[Overall, this place isn't the worst. It is ov...</td>\n",
       "      <td>1291.000000</td>\n",
       "    </tr>\n",
       "  </tbody>\n",
       "</table>\n",
       "</div>"
      ],
      "text/plain": [
       "                        _id  \\\n",
       "user_id                       \n",
       "Z7JMhAYRgJjck2nkf88C8A    1   \n",
       "ST5KHMoxf9d7BDZnfLLsTg    3   \n",
       "OLQakyycSIwbdBMoPFte8Q    1   \n",
       "\n",
       "                                                                     text  \\\n",
       "user_id                                                                     \n",
       "Z7JMhAYRgJjck2nkf88C8A  [Tried this place out and it was delicious! We...   \n",
       "ST5KHMoxf9d7BDZnfLLsTg  [Wings! \\n\\nThis place is near my office and w...   \n",
       "OLQakyycSIwbdBMoPFte8Q  [Overall, this place isn't the worst. It is ov...   \n",
       "\n",
       "                        review_length  \n",
       "user_id                                \n",
       "Z7JMhAYRgJjck2nkf88C8A     505.000000  \n",
       "ST5KHMoxf9d7BDZnfLLsTg     955.666667  \n",
       "OLQakyycSIwbdBMoPFte8Q    1291.000000  "
      ]
     },
     "execution_count": 286,
     "metadata": {},
     "output_type": "execute_result"
    }
   ],
   "source": [
    "df_g_user_length.sample(3)"
   ]
  },
  {
   "cell_type": "code",
   "execution_count": 344,
   "metadata": {},
   "outputs": [
    {
     "data": {
      "text/plain": [
       "<matplotlib.axes._subplots.AxesSubplot at 0x248a24510>"
      ]
     },
     "execution_count": 344,
     "metadata": {},
     "output_type": "execute_result"
    },
    {
     "data": {
      "image/png": "[encoded data removed]",
      "text/plain": [
       "<Figure size 432x288 with 1 Axes>"
      ]
     },
     "metadata": {
      "needs_background": "light"
     },
     "output_type": "display_data"
    }
   ],
   "source": [
    "df_g_user_length.review_length.value_counts(bins=10).plot(rot=40)"
   ]
  },
  {
   "cell_type": "code",
   "execution_count": 365,
   "metadata": {},
   "outputs": [
    {
     "data": {
      "text/plain": [
       "<matplotlib.axes._subplots.AxesSubplot at 0x234197550>"
      ]
     },
     "execution_count": 365,
     "metadata": {},
     "output_type": "execute_result"
    },
    {
     "data": {
      "image/png": "[encoded data removed]",
      "text/plain": [
       "<Figure size 432x288 with 1 Axes>"
      ]
     },
     "metadata": {
      "needs_background": "light"
     },
     "output_type": "display_data"
    }
   ],
   "source": [
    "df_g_user_length.review_length.value_counts(bins=20).plot.bar(rot=40)"
   ]
  },
  {
   "cell_type": "code",
   "execution_count": 357,
   "metadata": {},
   "outputs": [
    {
     "data": {
      "text/html": [
       "<div>\n",
       "<style scoped>\n",
       "    .dataframe tbody tr th:only-of-type {\n",
       "        vertical-align: middle;\n",
       "    }\n",
       "\n",
       "    .dataframe tbody tr th {\n",
       "        vertical-align: top;\n",
       "    }\n",
       "\n",
       "    .dataframe thead th {\n",
       "        text-align: right;\n",
       "    }\n",
       "</style>\n",
       "<table border=\"1\" class=\"dataframe\">\n",
       "  <thead>\n",
       "    <tr style=\"text-align: right;\">\n",
       "      <th></th>\n",
       "      <th>user_id</th>\n",
       "      <th>num_of_friends</th>\n",
       "      <th>date</th>\n",
       "      <th>num_of_reviews</th>\n",
       "      <th>times</th>\n",
       "      <th>business_ids</th>\n",
       "      <th>review_ids</th>\n",
       "      <th>count_business</th>\n",
       "      <th>a</th>\n",
       "      <th>b</th>\n",
       "      <th>...</th>\n",
       "      <th>total_of_reviews</th>\n",
       "      <th>perc_of_positive</th>\n",
       "      <th>review_length_x</th>\n",
       "      <th>review_length_y</th>\n",
       "      <th>review_length_x</th>\n",
       "      <th>review_length_y</th>\n",
       "      <th>review_length_x</th>\n",
       "      <th>review_length_y</th>\n",
       "      <th>review_length_x</th>\n",
       "      <th>review_length_y</th>\n",
       "    </tr>\n",
       "  </thead>\n",
       "  <tbody>\n",
       "    <tr>\n",
       "      <td>434814</td>\n",
       "      <td>nm2qMM3qXVFYiCK14qeVtQ</td>\n",
       "      <td>40</td>\n",
       "      <td>NaN</td>\n",
       "      <td>NaN</td>\n",
       "      <td>NaN</td>\n",
       "      <td>NaN</td>\n",
       "      <td>NaN</td>\n",
       "      <td>NaN</td>\n",
       "      <td>NaN</td>\n",
       "      <td>NaN</td>\n",
       "      <td>...</td>\n",
       "      <td>NaN</td>\n",
       "      <td>NaN</td>\n",
       "      <td>NaN</td>\n",
       "      <td>NaN</td>\n",
       "      <td>NaN</td>\n",
       "      <td>NaN</td>\n",
       "      <td>NaN</td>\n",
       "      <td>NaN</td>\n",
       "      <td>NaN</td>\n",
       "      <td>NaN</td>\n",
       "    </tr>\n",
       "    <tr>\n",
       "      <td>107506</td>\n",
       "      <td>XqYA1-4dspxCUZTT8NFEPw</td>\n",
       "      <td>387</td>\n",
       "      <td>NaN</td>\n",
       "      <td>NaN</td>\n",
       "      <td>NaN</td>\n",
       "      <td>NaN</td>\n",
       "      <td>NaN</td>\n",
       "      <td>NaN</td>\n",
       "      <td>NaN</td>\n",
       "      <td>NaN</td>\n",
       "      <td>...</td>\n",
       "      <td>NaN</td>\n",
       "      <td>NaN</td>\n",
       "      <td>NaN</td>\n",
       "      <td>NaN</td>\n",
       "      <td>NaN</td>\n",
       "      <td>NaN</td>\n",
       "      <td>NaN</td>\n",
       "      <td>NaN</td>\n",
       "      <td>NaN</td>\n",
       "      <td>NaN</td>\n",
       "    </tr>\n",
       "    <tr>\n",
       "      <td>259268</td>\n",
       "      <td>siUApY3QQRPhe8XHY-OsSA</td>\n",
       "      <td>1</td>\n",
       "      <td>NaN</td>\n",
       "      <td>NaN</td>\n",
       "      <td>NaN</td>\n",
       "      <td>NaN</td>\n",
       "      <td>NaN</td>\n",
       "      <td>NaN</td>\n",
       "      <td>NaN</td>\n",
       "      <td>NaN</td>\n",
       "      <td>...</td>\n",
       "      <td>NaN</td>\n",
       "      <td>NaN</td>\n",
       "      <td>NaN</td>\n",
       "      <td>NaN</td>\n",
       "      <td>NaN</td>\n",
       "      <td>NaN</td>\n",
       "      <td>NaN</td>\n",
       "      <td>NaN</td>\n",
       "      <td>NaN</td>\n",
       "      <td>NaN</td>\n",
       "    </tr>\n",
       "  </tbody>\n",
       "</table>\n",
       "<p>3 rows × 23 columns</p>\n",
       "</div>"
      ],
      "text/plain": [
       "                       user_id  num_of_friends date  num_of_reviews times  \\\n",
       "434814  nm2qMM3qXVFYiCK14qeVtQ              40  NaN             NaN   NaN   \n",
       "107506  XqYA1-4dspxCUZTT8NFEPw             387  NaN             NaN   NaN   \n",
       "259268  siUApY3QQRPhe8XHY-OsSA               1  NaN             NaN   NaN   \n",
       "\n",
       "       business_ids review_ids  count_business   a   b  ...  total_of_reviews  \\\n",
       "434814          NaN        NaN             NaN NaN NaN  ...               NaN   \n",
       "107506          NaN        NaN             NaN NaN NaN  ...               NaN   \n",
       "259268          NaN        NaN             NaN NaN NaN  ...               NaN   \n",
       "\n",
       "        perc_of_positive  review_length_x  review_length_y  review_length_x  \\\n",
       "434814               NaN              NaN              NaN              NaN   \n",
       "107506               NaN              NaN              NaN              NaN   \n",
       "259268               NaN              NaN              NaN              NaN   \n",
       "\n",
       "        review_length_y  review_length_x  review_length_y  review_length_x  \\\n",
       "434814              NaN              NaN              NaN              NaN   \n",
       "107506              NaN              NaN              NaN              NaN   \n",
       "259268              NaN              NaN              NaN              NaN   \n",
       "\n",
       "        review_length_y  \n",
       "434814              NaN  \n",
       "107506              NaN  \n",
       "259268              NaN  \n",
       "\n",
       "[3 rows x 23 columns]"
      ]
     },
     "execution_count": 357,
     "metadata": {},
     "output_type": "execute_result"
    }
   ],
   "source": [
    "df = pd.merge(df, df_g_user_length.review_length, how='left', on='user_id') \n",
    "df.sample(3)"
   ]
  },
  {
   "cell_type": "markdown",
   "metadata": {},
   "source": [
    "### Reviewer Deviation\n",
    "\n",
    "Diversion from the general rating consensus. To measure reviewer’s deviation, we first compute the absolute rating deviation of a review from other reviews on the same business. Then, we compute the expected rating deviation of a reviewer over all his reviews. On a 5-star scale, the deviation can range from 0 to 4. Above 2.5 is spammer."
   ]
  },
  {
   "cell_type": "markdown",
   "metadata": {},
   "source": [
    "### Maximum Content Similarity\n",
    "\n",
    "The cosine similarity between any two reviews of a reviewer. This feature should the the lower the better. Non spamers are less than .20 and above .30 is generally spammers."
   ]
  },
  {
   "cell_type": "markdown",
   "metadata": {},
   "source": [
    "### Multiple Reviews in a day and Business Locations\n",
    "\n",
    "Writing multiple reviews to multiple cities is suspicious for a reviewer. If that's the case, then These people might be potential spammers."
   ]
  },
  {
   "cell_type": "markdown",
   "metadata": {},
   "source": [
    "## Create Friends Mapping"
   ]
  },
  {
   "cell_type": "markdown",
   "metadata": {},
   "source": [
    "## Create the Table"
   ]
  },
  {
   "cell_type": "markdown",
   "metadata": {},
   "source": [
    "### meta table"
   ]
  },
  {
   "cell_type": "code",
   "execution_count": null,
   "metadata": {},
   "outputs": [],
   "source": [
    "df.to_sql(name='users_meta', con=engine, index=False)"
   ]
  },
  {
   "cell_type": "code",
   "execution_count": null,
   "metadata": {},
   "outputs": [],
   "source": [
    "pd.read_sql_table('users_meta', engine).head(2)"
   ]
  },
  {
   "cell_type": "code",
   "execution_count": null,
   "metadata": {},
   "outputs": [],
   "source": []
  }
 ],
 "metadata": {
  "kernelspec": {
   "display_name": "Python 3",
   "language": "python",
   "name": "python3"
  },
  "language_info": {
   "codemirror_mode": {
    "name": "ipython",
    "version": 3
   },
   "file_extension": ".py",
   "mimetype": "text/x-python",
   "name": "python",
   "nbconvert_exporter": "python",
   "pygments_lexer": "ipython3",
   "version": "3.7.4"
  }
 },
 "nbformat": 4,
 "nbformat_minor": 4
}
