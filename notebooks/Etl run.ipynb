{
 "cells": [
  {
   "cell_type": "code",
   "execution_count": 1,
   "metadata": {},
   "outputs": [],
   "source": [
    "import os\n",
    "import sys\n",
    "sys.path.append(os.pardir)"
   ]
  },
  {
   "cell_type": "markdown",
   "metadata": {},
   "source": [
    "### Imports"
   ]
  },
  {
   "cell_type": "code",
   "execution_count": 2,
   "metadata": {},
   "outputs": [],
   "source": [
    "import json\n",
    "import pathlib\n",
    "import pandas as pd\n",
    "from sqlalchemy.orm import sessionmaker\n",
    "from credible import connectors\n",
    "from credible.etl import Etl\n",
    "from credible.objects import Base, Photo, Tip, Checkin, Business, User, Review"
   ]
  },
  {
   "cell_type": "markdown",
   "metadata": {},
   "source": [
    "### Parameters"
   ]
  },
  {
   "cell_type": "code",
   "execution_count": 3,
   "metadata": {},
   "outputs": [],
   "source": [
    "engine = connectors.connect_to_sqlite()"
   ]
  },
  {
   "cell_type": "code",
   "execution_count": 4,
   "metadata": {},
   "outputs": [],
   "source": [
    "data_folderpath = os.path.join(os.pardir, 'data')\n",
    "generator = pathlib.Path(data_folderpath).glob('*_x.json')\n",
    "sorted_list = sorted(generator, key=os.path.getsize, reverse=True)\n",
    "file_review, file_user, file_checkin, file_tip, file_business, file_photo = sorted_list"
   ]
  },
  {
   "cell_type": "markdown",
   "metadata": {},
   "source": [
    "### Session"
   ]
  },
  {
   "cell_type": "code",
   "execution_count": 5,
   "metadata": {},
   "outputs": [],
   "source": [
    "Session = sessionmaker(bind=engine)\n",
    "etl = Etl(Base, Session, engine)"
   ]
  },
  {
   "cell_type": "code",
   "execution_count": 7,
   "metadata": {},
   "outputs": [],
   "source": [
    "etl.create_all(drop_all=True)"
   ]
  },
  {
   "cell_type": "markdown",
   "metadata": {},
   "source": [
    "### Import data to Photos"
   ]
  },
  {
   "cell_type": "code",
   "execution_count": 8,
   "metadata": {},
   "outputs": [],
   "source": [
    "with open(file_photo, 'r') as json_data:\n",
    "    data = json.load(json_data)\n",
    "etl.bulk_insert(Photo, data)"
   ]
  },
  {
   "cell_type": "code",
   "execution_count": 9,
   "metadata": {},
   "outputs": [
    {
     "data": {
      "text/html": [
       "<div>\n",
       "<style scoped>\n",
       "    .dataframe tbody tr th:only-of-type {\n",
       "        vertical-align: middle;\n",
       "    }\n",
       "\n",
       "    .dataframe tbody tr th {\n",
       "        vertical-align: top;\n",
       "    }\n",
       "\n",
       "    .dataframe thead th {\n",
       "        text-align: right;\n",
       "    }\n",
       "</style>\n",
       "<table border=\"1\" class=\"dataframe\">\n",
       "  <thead>\n",
       "    <tr style=\"text-align: right;\">\n",
       "      <th></th>\n",
       "      <th>_id</th>\n",
       "      <th>photo_id</th>\n",
       "      <th>business_id</th>\n",
       "      <th>caption</th>\n",
       "      <th>label</th>\n",
       "    </tr>\n",
       "  </thead>\n",
       "  <tbody>\n",
       "    <tr>\n",
       "      <td>69208</td>\n",
       "      <td>69209</td>\n",
       "      <td>pDXLs2GxrmuyVxwuVdqGaQ</td>\n",
       "      <td>3oTVApC-eUzpGjrOVxIr5g</td>\n",
       "      <td>Their appetizer wings are pretty good.</td>\n",
       "      <td>food</td>\n",
       "    </tr>\n",
       "  </tbody>\n",
       "</table>\n",
       "</div>"
      ],
      "text/plain": [
       "         _id                photo_id             business_id  \\\n",
       "69208  69209  pDXLs2GxrmuyVxwuVdqGaQ  3oTVApC-eUzpGjrOVxIr5g   \n",
       "\n",
       "                                      caption label  \n",
       "69208  Their appetizer wings are pretty good.  food  "
      ]
     },
     "execution_count": 9,
     "metadata": {},
     "output_type": "execute_result"
    }
   ],
   "source": [
    "pd.read_sql_table('photos', engine).sample()"
   ]
  },
  {
   "cell_type": "markdown",
   "metadata": {},
   "source": [
    "### Import data to Tips"
   ]
  },
  {
   "cell_type": "code",
   "execution_count": 10,
   "metadata": {},
   "outputs": [],
   "source": [
    "with open(file_tip, 'r') as json_data:\n",
    "    data = json.load(json_data)\n",
    "\n",
    "# requires data transformation\n",
    "tips_list = []\n",
    "for d in data:\n",
    "    t = Tip(d)\n",
    "    tips_list.append(t)\n",
    "\n",
    "etl.bulk_insert(Tip, tips_list)"
   ]
  },
  {
   "cell_type": "code",
   "execution_count": 11,
   "metadata": {},
   "outputs": [
    {
     "data": {
      "text/html": [
       "<div>\n",
       "<style scoped>\n",
       "    .dataframe tbody tr th:only-of-type {\n",
       "        vertical-align: middle;\n",
       "    }\n",
       "\n",
       "    .dataframe tbody tr th {\n",
       "        vertical-align: top;\n",
       "    }\n",
       "\n",
       "    .dataframe thead th {\n",
       "        text-align: right;\n",
       "    }\n",
       "</style>\n",
       "<table border=\"1\" class=\"dataframe\">\n",
       "  <thead>\n",
       "    <tr style=\"text-align: right;\">\n",
       "      <th></th>\n",
       "      <th>_id</th>\n",
       "      <th>user_id</th>\n",
       "      <th>business_id</th>\n",
       "      <th>text</th>\n",
       "      <th>date</th>\n",
       "      <th>compliment_count</th>\n",
       "    </tr>\n",
       "  </thead>\n",
       "  <tbody>\n",
       "    <tr>\n",
       "      <td>677242</td>\n",
       "      <td>677243</td>\n",
       "      <td>8wfxxGCd_xmaG2wt-d6yVw</td>\n",
       "      <td>_81fRJ9m8Fn1s8ixPun46A</td>\n",
       "      <td>The killer chicken sandwich changes monthly; m...</td>\n",
       "      <td>2015-12-29 03:42:55</td>\n",
       "      <td>0</td>\n",
       "    </tr>\n",
       "  </tbody>\n",
       "</table>\n",
       "</div>"
      ],
      "text/plain": [
       "           _id                 user_id             business_id  \\\n",
       "677242  677243  8wfxxGCd_xmaG2wt-d6yVw  _81fRJ9m8Fn1s8ixPun46A   \n",
       "\n",
       "                                                     text                date  \\\n",
       "677242  The killer chicken sandwich changes monthly; m... 2015-12-29 03:42:55   \n",
       "\n",
       "        compliment_count  \n",
       "677242                 0  "
      ]
     },
     "execution_count": 11,
     "metadata": {},
     "output_type": "execute_result"
    }
   ],
   "source": [
    "pd.read_sql_table('tips', engine).sample()"
   ]
  },
  {
   "cell_type": "markdown",
   "metadata": {},
   "source": [
    "### Import data to Checkins"
   ]
  },
  {
   "cell_type": "code",
   "execution_count": 12,
   "metadata": {},
   "outputs": [],
   "source": [
    "with open(file_checkin, 'r') as json_data:\n",
    "    data = json.load(json_data)\n",
    "etl.bulk_insert(Checkin, data)"
   ]
  },
  {
   "cell_type": "code",
   "execution_count": 13,
   "metadata": {},
   "outputs": [
    {
     "data": {
      "text/html": [
       "<div>\n",
       "<style scoped>\n",
       "    .dataframe tbody tr th:only-of-type {\n",
       "        vertical-align: middle;\n",
       "    }\n",
       "\n",
       "    .dataframe tbody tr th {\n",
       "        vertical-align: top;\n",
       "    }\n",
       "\n",
       "    .dataframe thead th {\n",
       "        text-align: right;\n",
       "    }\n",
       "</style>\n",
       "<table border=\"1\" class=\"dataframe\">\n",
       "  <thead>\n",
       "    <tr style=\"text-align: right;\">\n",
       "      <th></th>\n",
       "      <th>_id</th>\n",
       "      <th>business_id</th>\n",
       "      <th>date</th>\n",
       "    </tr>\n",
       "  </thead>\n",
       "  <tbody>\n",
       "    <tr>\n",
       "      <td>113971</td>\n",
       "      <td>113972</td>\n",
       "      <td>gxt2xfsr-Be1EUYZmicdFg</td>\n",
       "      <td>2015-09-04 22:43:32, 2015-11-27 18:48:08, 2016...</td>\n",
       "    </tr>\n",
       "  </tbody>\n",
       "</table>\n",
       "</div>"
      ],
      "text/plain": [
       "           _id             business_id  \\\n",
       "113971  113972  gxt2xfsr-Be1EUYZmicdFg   \n",
       "\n",
       "                                                     date  \n",
       "113971  2015-09-04 22:43:32, 2015-11-27 18:48:08, 2016...  "
      ]
     },
     "execution_count": 13,
     "metadata": {},
     "output_type": "execute_result"
    }
   ],
   "source": [
    "pd.read_sql_table('checkins', engine).sample()"
   ]
  },
  {
   "cell_type": "markdown",
   "metadata": {},
   "source": [
    "### Import data to Businesses"
   ]
  },
  {
   "cell_type": "code",
   "execution_count": 14,
   "metadata": {},
   "outputs": [],
   "source": [
    "with open(file_business, 'r') as json_data:\n",
    "    data = json.load(json_data)\n",
    "    \n",
    "# requires data transformation\n",
    "business_list = []\n",
    "for d in data:\n",
    "    b = Business(d)\n",
    "    business_list.append(b)\n",
    "\n",
    "etl.bulk_insert(Business, business_list)"
   ]
  },
  {
   "cell_type": "code",
   "execution_count": 15,
   "metadata": {},
   "outputs": [
    {
     "data": {
      "text/html": [
       "<div>\n",
       "<style scoped>\n",
       "    .dataframe tbody tr th:only-of-type {\n",
       "        vertical-align: middle;\n",
       "    }\n",
       "\n",
       "    .dataframe tbody tr th {\n",
       "        vertical-align: top;\n",
       "    }\n",
       "\n",
       "    .dataframe thead th {\n",
       "        text-align: right;\n",
       "    }\n",
       "</style>\n",
       "<table border=\"1\" class=\"dataframe\">\n",
       "  <thead>\n",
       "    <tr style=\"text-align: right;\">\n",
       "      <th></th>\n",
       "      <th>_id</th>\n",
       "      <th>business_id</th>\n",
       "      <th>name</th>\n",
       "      <th>address</th>\n",
       "      <th>city</th>\n",
       "      <th>state</th>\n",
       "      <th>postal_code</th>\n",
       "      <th>latitude</th>\n",
       "      <th>longitude</th>\n",
       "      <th>starts</th>\n",
       "      <th>review_count</th>\n",
       "      <th>is_open</th>\n",
       "      <th>attributes</th>\n",
       "      <th>categories</th>\n",
       "      <th>hours</th>\n",
       "    </tr>\n",
       "  </thead>\n",
       "  <tbody>\n",
       "    <tr>\n",
       "      <td>55993</td>\n",
       "      <td>55994</td>\n",
       "      <td>bE2pOsHjCM8048ILoRVxNw</td>\n",
       "      <td>Pasqual's Cantina</td>\n",
       "      <td>100 Cross Country Rd</td>\n",
       "      <td>Verona</td>\n",
       "      <td>WI</td>\n",
       "      <td>53593</td>\n",
       "      <td>43.001934</td>\n",
       "      <td>-89.528862</td>\n",
       "      <td>NaN</td>\n",
       "      <td>55</td>\n",
       "      <td>1</td>\n",
       "      <td>{\"WiFi\": \"u'free'\", \"Music\": \"{'dj': False, 'b...</td>\n",
       "      <td>Nightlife, Bars, Mexican, Restaurants, Tex-Mex</td>\n",
       "      <td>{\"Monday\": \"0:0-0:0\", \"Tuesday\": \"11:0-21:0\", ...</td>\n",
       "    </tr>\n",
       "  </tbody>\n",
       "</table>\n",
       "</div>"
      ],
      "text/plain": [
       "         _id             business_id               name               address  \\\n",
       "55993  55994  bE2pOsHjCM8048ILoRVxNw  Pasqual's Cantina  100 Cross Country Rd   \n",
       "\n",
       "         city state postal_code   latitude  longitude  starts  review_count  \\\n",
       "55993  Verona    WI       53593  43.001934 -89.528862     NaN            55   \n",
       "\n",
       "       is_open                                         attributes  \\\n",
       "55993        1  {\"WiFi\": \"u'free'\", \"Music\": \"{'dj': False, 'b...   \n",
       "\n",
       "                                           categories  \\\n",
       "55993  Nightlife, Bars, Mexican, Restaurants, Tex-Mex   \n",
       "\n",
       "                                                   hours  \n",
       "55993  {\"Monday\": \"0:0-0:0\", \"Tuesday\": \"11:0-21:0\", ...  "
      ]
     },
     "execution_count": 15,
     "metadata": {},
     "output_type": "execute_result"
    }
   ],
   "source": [
    "pd.read_sql_table('businesses', engine).sample()"
   ]
  },
  {
   "cell_type": "markdown",
   "metadata": {},
   "source": [
    "### Import data to Users"
   ]
  },
  {
   "cell_type": "code",
   "execution_count": 22,
   "metadata": {},
   "outputs": [],
   "source": [
    "with open(file_user, 'r') as json_data:\n",
    "    data = json.load(json_data)\n",
    "\n",
    "\n",
    "# requires data transformation\n",
    "users_list = []\n",
    "for d in data:\n",
    "    t = User(d)\n",
    "    users_list.append(t)\n",
    "\n",
    "etl.bulk_insert(User, users_list)"
   ]
  },
  {
   "cell_type": "code",
   "execution_count": 24,
   "metadata": {},
   "outputs": [
    {
     "data": {
      "text/html": [
       "<div>\n",
       "<style scoped>\n",
       "    .dataframe tbody tr th:only-of-type {\n",
       "        vertical-align: middle;\n",
       "    }\n",
       "\n",
       "    .dataframe tbody tr th {\n",
       "        vertical-align: top;\n",
       "    }\n",
       "\n",
       "    .dataframe thead th {\n",
       "        text-align: right;\n",
       "    }\n",
       "</style>\n",
       "<table border=\"1\" class=\"dataframe\">\n",
       "  <thead>\n",
       "    <tr style=\"text-align: right;\">\n",
       "      <th></th>\n",
       "      <th>_id</th>\n",
       "      <th>user_id</th>\n",
       "      <th>name</th>\n",
       "      <th>review_count</th>\n",
       "      <th>yelping_since</th>\n",
       "      <th>friends</th>\n",
       "      <th>useful</th>\n",
       "      <th>funny</th>\n",
       "      <th>cool</th>\n",
       "      <th>fans</th>\n",
       "      <th>...</th>\n",
       "      <th>compliment_more</th>\n",
       "      <th>compliment_profile</th>\n",
       "      <th>compliment_cute</th>\n",
       "      <th>compliment_list</th>\n",
       "      <th>compliment_note</th>\n",
       "      <th>compliment_plain</th>\n",
       "      <th>compliment_cool</th>\n",
       "      <th>compliment_funny</th>\n",
       "      <th>compliment_writer</th>\n",
       "      <th>compliment_photos</th>\n",
       "    </tr>\n",
       "  </thead>\n",
       "  <tbody>\n",
       "    <tr>\n",
       "      <td>1476033</td>\n",
       "      <td>1476034</td>\n",
       "      <td>WNdNT1RASHG79REYDd4KLg</td>\n",
       "      <td>Sarah</td>\n",
       "      <td>6</td>\n",
       "      <td>2011-01-03 23:08:29</td>\n",
       "      <td>u1G18qGUbaDXdAX6QaV_eA, A_sqjh_-fTTiDlyFWtQ08w...</td>\n",
       "      <td>8</td>\n",
       "      <td>1</td>\n",
       "      <td>2</td>\n",
       "      <td>2</td>\n",
       "      <td>...</td>\n",
       "      <td>0</td>\n",
       "      <td>0</td>\n",
       "      <td>0</td>\n",
       "      <td>0</td>\n",
       "      <td>0</td>\n",
       "      <td>0</td>\n",
       "      <td>0</td>\n",
       "      <td>0</td>\n",
       "      <td>0</td>\n",
       "      <td>0</td>\n",
       "    </tr>\n",
       "  </tbody>\n",
       "</table>\n",
       "<p>1 rows × 23 columns</p>\n",
       "</div>"
      ],
      "text/plain": [
       "             _id                 user_id   name review_count  \\\n",
       "1476033  1476034  WNdNT1RASHG79REYDd4KLg  Sarah            6   \n",
       "\n",
       "               yelping_since  \\\n",
       "1476033  2011-01-03 23:08:29   \n",
       "\n",
       "                                                   friends  useful  funny  \\\n",
       "1476033  u1G18qGUbaDXdAX6QaV_eA, A_sqjh_-fTTiDlyFWtQ08w...       8      1   \n",
       "\n",
       "         cool  fans  ... compliment_more  compliment_profile  compliment_cute  \\\n",
       "1476033     2     2  ...               0                   0                0   \n",
       "\n",
       "         compliment_list  compliment_note  compliment_plain  compliment_cool  \\\n",
       "1476033                0                0                 0                0   \n",
       "\n",
       "         compliment_funny  compliment_writer  compliment_photos  \n",
       "1476033                 0                  0                  0  \n",
       "\n",
       "[1 rows x 23 columns]"
      ]
     },
     "execution_count": 24,
     "metadata": {},
     "output_type": "execute_result"
    }
   ],
   "source": [
    "pd.read_sql_table('users', engine).sample()"
   ]
  },
  {
   "cell_type": "markdown",
   "metadata": {},
   "source": [
    "### Import data to Reviews"
   ]
  },
  {
   "cell_type": "code",
   "execution_count": 18,
   "metadata": {},
   "outputs": [],
   "source": [
    "with open(file_review, 'r') as json_data:\n",
    "    data = json.load(json_data)\n",
    "etl.bulk_insert(Review, data)"
   ]
  },
  {
   "cell_type": "code",
   "execution_count": 19,
   "metadata": {},
   "outputs": [
    {
     "data": {
      "text/html": [
       "<div>\n",
       "<style scoped>\n",
       "    .dataframe tbody tr th:only-of-type {\n",
       "        vertical-align: middle;\n",
       "    }\n",
       "\n",
       "    .dataframe tbody tr th {\n",
       "        vertical-align: top;\n",
       "    }\n",
       "\n",
       "    .dataframe thead th {\n",
       "        text-align: right;\n",
       "    }\n",
       "</style>\n",
       "<table border=\"1\" class=\"dataframe\">\n",
       "  <thead>\n",
       "    <tr style=\"text-align: right;\">\n",
       "      <th></th>\n",
       "      <th>_id</th>\n",
       "      <th>review_id</th>\n",
       "      <th>business_id</th>\n",
       "      <th>user_id</th>\n",
       "      <th>stars</th>\n",
       "      <th>date</th>\n",
       "      <th>text</th>\n",
       "      <th>useful</th>\n",
       "      <th>funny</th>\n",
       "      <th>cool</th>\n",
       "    </tr>\n",
       "  </thead>\n",
       "  <tbody>\n",
       "    <tr>\n",
       "      <td>3619819</td>\n",
       "      <td>3619820</td>\n",
       "      <td>VH4lbeq6Cc_SDgGRJ93KRw</td>\n",
       "      <td>yX0pOWG_Be9TjGnm0aihVA</td>\n",
       "      <td>AOtwR1sC6psijjnbkwbR9A</td>\n",
       "      <td>5</td>\n",
       "      <td>2016-04-03 18:23:32</td>\n",
       "      <td>Nice casual atmosphere!  Great vodka club soda...</td>\n",
       "      <td>0</td>\n",
       "      <td>0</td>\n",
       "      <td>0</td>\n",
       "    </tr>\n",
       "  </tbody>\n",
       "</table>\n",
       "</div>"
      ],
      "text/plain": [
       "             _id               review_id             business_id  \\\n",
       "3619819  3619820  VH4lbeq6Cc_SDgGRJ93KRw  yX0pOWG_Be9TjGnm0aihVA   \n",
       "\n",
       "                        user_id  stars                 date  \\\n",
       "3619819  AOtwR1sC6psijjnbkwbR9A      5  2016-04-03 18:23:32   \n",
       "\n",
       "                                                      text  useful  funny  \\\n",
       "3619819  Nice casual atmosphere!  Great vodka club soda...       0      0   \n",
       "\n",
       "         cool  \n",
       "3619819     0  "
      ]
     },
     "execution_count": 19,
     "metadata": {},
     "output_type": "execute_result"
    }
   ],
   "source": [
    "pd.read_sql_table('reviews', engine).sample()"
   ]
  },
  {
   "cell_type": "code",
   "execution_count": null,
   "metadata": {},
   "outputs": [],
   "source": []
  }
 ],
 "metadata": {
  "kernelspec": {
   "display_name": "Python 3",
   "language": "python",
   "name": "python3"
  },
  "language_info": {
   "codemirror_mode": {
    "name": "ipython",
    "version": 3
   },
   "file_extension": ".py",
   "mimetype": "text/x-python",
   "name": "python",
   "nbconvert_exporter": "python",
   "pygments_lexer": "ipython3",
   "version": "3.7.4"
  }
 },
 "nbformat": 4,
 "nbformat_minor": 4
}
