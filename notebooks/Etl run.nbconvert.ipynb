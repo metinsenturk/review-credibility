{
 "cells": [
  {
   "cell_type": "code",
   "execution_count": 1,
   "metadata": {},
   "outputs": [],
   "source": [
    "import os\n",
    "import sys\n",
    "sys.path.append(os.pardir)"
   ]
  },
  {
   "cell_type": "markdown",
   "metadata": {},
   "source": [
    "### Imports"
   ]
  },
  {
   "cell_type": "code",
   "execution_count": 2,
   "metadata": {},
   "outputs": [],
   "source": [
    "import json\n",
    "import pathlib\n",
    "import pandas as pd\n",
    "from sqlalchemy.orm import sessionmaker\n",
    "from credible import connectors\n",
    "from credible.etl import Etl\n",
    "from credible.objects import Base, Photo, Tip, Checkin, Business, User, Review"
   ]
  },
  {
   "cell_type": "markdown",
   "metadata": {},
   "source": [
    "### Parameters"
   ]
  },
  {
   "cell_type": "code",
   "execution_count": 3,
   "metadata": {},
   "outputs": [],
   "source": [
    "engine = connectors.connect_to_sqlite()"
   ]
  },
  {
   "cell_type": "code",
   "execution_count": 4,
   "metadata": {},
   "outputs": [],
   "source": [
    "data_folderpath = os.path.join(os.pardir, 'data')\n",
    "generator = pathlib.Path(data_folderpath).glob('*_x.json')\n",
    "sorted_list = sorted(generator, key=os.path.getsize, reverse=True)\n",
    "file_review, file_user, file_checkin, file_tip, file_business, file_photo = sorted_list"
   ]
  },
  {
   "cell_type": "markdown",
   "metadata": {},
   "source": [
    "### Session"
   ]
  },
  {
   "cell_type": "code",
   "execution_count": 5,
   "metadata": {},
   "outputs": [],
   "source": [
    "Session = sessionmaker(bind=engine)\n",
    "etl = Etl(Base, Session, engine)"
   ]
  },
  {
   "cell_type": "code",
   "execution_count": 6,
   "metadata": {},
   "outputs": [],
   "source": [
    "etl.create_all(drop_all=True)"
   ]
  },
  {
   "cell_type": "markdown",
   "metadata": {},
   "source": [
    "### Import data to Photos"
   ]
  },
  {
   "cell_type": "code",
   "execution_count": 7,
   "metadata": {},
   "outputs": [],
   "source": [
    "with open(file_photo, 'r') as json_data:\n",
    "    data = json.load(json_data)\n",
    "etl.bulk_insert(Photo, data)"
   ]
  },
  {
   "cell_type": "code",
   "execution_count": 8,
   "metadata": {},
   "outputs": [
    {
     "data": {
      "text/html": [
       "<div>\n",
       "<style scoped>\n",
       "    .dataframe tbody tr th:only-of-type {\n",
       "        vertical-align: middle;\n",
       "    }\n",
       "\n",
       "    .dataframe tbody tr th {\n",
       "        vertical-align: top;\n",
       "    }\n",
       "\n",
       "    .dataframe thead th {\n",
       "        text-align: right;\n",
       "    }\n",
       "</style>\n",
       "<table border=\"1\" class=\"dataframe\">\n",
       "  <thead>\n",
       "    <tr style=\"text-align: right;\">\n",
       "      <th></th>\n",
       "      <th>_id</th>\n",
       "      <th>photo_id</th>\n",
       "      <th>business_id</th>\n",
       "      <th>caption</th>\n",
       "      <th>label</th>\n",
       "    </tr>\n",
       "  </thead>\n",
       "  <tbody>\n",
       "    <tr>\n",
       "      <td>163975</td>\n",
       "      <td>163976</td>\n",
       "      <td>FGnY4lZagiTpf4PisVlPTQ</td>\n",
       "      <td>vx4YAA02Qz6khRD1fZ1MFA</td>\n",
       "      <td>Lobster</td>\n",
       "      <td>food</td>\n",
       "    </tr>\n",
       "  </tbody>\n",
       "</table>\n",
       "</div>"
      ],
      "text/plain": [
       "           _id                photo_id             business_id  caption label\n",
       "163975  163976  FGnY4lZagiTpf4PisVlPTQ  vx4YAA02Qz6khRD1fZ1MFA  Lobster  food"
      ]
     },
     "execution_count": 8,
     "metadata": {},
     "output_type": "execute_result"
    }
   ],
   "source": [
    "pd.read_sql_table('photos', engine).sample()"
   ]
  },
  {
   "cell_type": "markdown",
   "metadata": {},
   "source": [
    "### Import data to Tips"
   ]
  },
  {
   "cell_type": "code",
   "execution_count": 9,
   "metadata": {},
   "outputs": [],
   "source": [
    "with open(file_tip, 'r') as json_data:\n",
    "    data = json.load(json_data)\n",
    "\n",
    "# requires data transformation\n",
    "tips_list = []\n",
    "for d in data:\n",
    "    t = Tip(d)\n",
    "    tips_list.append(t)\n",
    "\n",
    "etl.bulk_insert(Tip, tips_list)"
   ]
  },
  {
   "cell_type": "code",
   "execution_count": 10,
   "metadata": {},
   "outputs": [
    {
     "data": {
      "text/html": [
       "<div>\n",
       "<style scoped>\n",
       "    .dataframe tbody tr th:only-of-type {\n",
       "        vertical-align: middle;\n",
       "    }\n",
       "\n",
       "    .dataframe tbody tr th {\n",
       "        vertical-align: top;\n",
       "    }\n",
       "\n",
       "    .dataframe thead th {\n",
       "        text-align: right;\n",
       "    }\n",
       "</style>\n",
       "<table border=\"1\" class=\"dataframe\">\n",
       "  <thead>\n",
       "    <tr style=\"text-align: right;\">\n",
       "      <th></th>\n",
       "      <th>_id</th>\n",
       "      <th>user_id</th>\n",
       "      <th>business_id</th>\n",
       "      <th>text</th>\n",
       "      <th>date</th>\n",
       "      <th>compliment_count</th>\n",
       "    </tr>\n",
       "  </thead>\n",
       "  <tbody>\n",
       "    <tr>\n",
       "      <td>2383342</td>\n",
       "      <td>2383343</td>\n",
       "      <td>M63hGNC6_nYdILexBPZziQ</td>\n",
       "      <td>PDIh1lVtKlUqPJROXYJQvQ</td>\n",
       "      <td>It was a fairly decent</td>\n",
       "      <td>2016-01-25 18:12:50</td>\n",
       "      <td>0</td>\n",
       "    </tr>\n",
       "  </tbody>\n",
       "</table>\n",
       "</div>"
      ],
      "text/plain": [
       "             _id                 user_id             business_id  \\\n",
       "2383342  2383343  M63hGNC6_nYdILexBPZziQ  PDIh1lVtKlUqPJROXYJQvQ   \n",
       "\n",
       "                           text                date  compliment_count  \n",
       "2383342  It was a fairly decent 2016-01-25 18:12:50                 0  "
      ]
     },
     "execution_count": 10,
     "metadata": {},
     "output_type": "execute_result"
    }
   ],
   "source": [
    "pd.read_sql_table('tips', engine).sample()"
   ]
  },
  {
   "cell_type": "markdown",
   "metadata": {},
   "source": [
    "### Import data to Checkins"
   ]
  },
  {
   "cell_type": "code",
   "execution_count": 11,
   "metadata": {},
   "outputs": [],
   "source": [
    "with open(file_checkin, 'r') as json_data:\n",
    "    data = json.load(json_data)\n",
    "etl.bulk_insert(Checkin, data)"
   ]
  },
  {
   "cell_type": "code",
   "execution_count": 12,
   "metadata": {},
   "outputs": [
    {
     "data": {
      "text/html": [
       "<div>\n",
       "<style scoped>\n",
       "    .dataframe tbody tr th:only-of-type {\n",
       "        vertical-align: middle;\n",
       "    }\n",
       "\n",
       "    .dataframe tbody tr th {\n",
       "        vertical-align: top;\n",
       "    }\n",
       "\n",
       "    .dataframe thead th {\n",
       "        text-align: right;\n",
       "    }\n",
       "</style>\n",
       "<table border=\"1\" class=\"dataframe\">\n",
       "  <thead>\n",
       "    <tr style=\"text-align: right;\">\n",
       "      <th></th>\n",
       "      <th>_id</th>\n",
       "      <th>business_id</th>\n",
       "      <th>date</th>\n",
       "    </tr>\n",
       "  </thead>\n",
       "  <tbody>\n",
       "    <tr>\n",
       "      <td>27870</td>\n",
       "      <td>27871</td>\n",
       "      <td>A2STUTJ3OBkXe4kOYka3tw</td>\n",
       "      <td>2016-12-08 01:10:59</td>\n",
       "    </tr>\n",
       "  </tbody>\n",
       "</table>\n",
       "</div>"
      ],
      "text/plain": [
       "         _id             business_id                 date\n",
       "27870  27871  A2STUTJ3OBkXe4kOYka3tw  2016-12-08 01:10:59"
      ]
     },
     "execution_count": 12,
     "metadata": {},
     "output_type": "execute_result"
    }
   ],
   "source": [
    "pd.read_sql_table('checkins', engine).sample()"
   ]
  },
  {
   "cell_type": "markdown",
   "metadata": {},
   "source": [
    "### Import data to Businesses"
   ]
  },
  {
   "cell_type": "code",
   "execution_count": 13,
   "metadata": {},
   "outputs": [],
   "source": [
    "with open(file_business, 'r') as json_data:\n",
    "    data = json.load(json_data)\n",
    "    \n",
    "# requires data transformation\n",
    "business_list = []\n",
    "for d in data:\n",
    "    b = Business(d)\n",
    "    business_list.append(b)\n",
    "\n",
    "etl.bulk_insert(Business, business_list)"
   ]
  },
  {
   "cell_type": "code",
   "execution_count": 14,
   "metadata": {},
   "outputs": [
    {
     "data": {
      "text/html": [
       "<div>\n",
       "<style scoped>\n",
       "    .dataframe tbody tr th:only-of-type {\n",
       "        vertical-align: middle;\n",
       "    }\n",
       "\n",
       "    .dataframe tbody tr th {\n",
       "        vertical-align: top;\n",
       "    }\n",
       "\n",
       "    .dataframe thead th {\n",
       "        text-align: right;\n",
       "    }\n",
       "</style>\n",
       "<table border=\"1\" class=\"dataframe\">\n",
       "  <thead>\n",
       "    <tr style=\"text-align: right;\">\n",
       "      <th></th>\n",
       "      <th>_id</th>\n",
       "      <th>business_id</th>\n",
       "      <th>name</th>\n",
       "      <th>address</th>\n",
       "      <th>city</th>\n",
       "      <th>state</th>\n",
       "      <th>postal_code</th>\n",
       "      <th>latitude</th>\n",
       "      <th>longitude</th>\n",
       "      <th>stars</th>\n",
       "      <th>review_count</th>\n",
       "      <th>is_open</th>\n",
       "      <th>attributes</th>\n",
       "      <th>categories</th>\n",
       "      <th>hours</th>\n",
       "    </tr>\n",
       "  </thead>\n",
       "  <tbody>\n",
       "    <tr>\n",
       "      <td>131233</td>\n",
       "      <td>131234</td>\n",
       "      <td>NzJnxsdKEUHUK7P14OOT1w</td>\n",
       "      <td>The UPS Store</td>\n",
       "      <td>8640 University City Blvd, Ste A-3</td>\n",
       "      <td>Charlotte</td>\n",
       "      <td>NC</td>\n",
       "      <td>28213</td>\n",
       "      <td>35.296695</td>\n",
       "      <td>-80.737813</td>\n",
       "      <td>3.5</td>\n",
       "      <td>8</td>\n",
       "      <td>1</td>\n",
       "      <td>{\"BusinessAcceptsCreditCards\": \"True\"}</td>\n",
       "      <td>Mailbox Centers, Printing Services, Local Serv...</td>\n",
       "      <td>{\"Monday\": \"0:0-0:0\", \"Tuesday\": \"8:30-19:0\", ...</td>\n",
       "    </tr>\n",
       "  </tbody>\n",
       "</table>\n",
       "</div>"
      ],
      "text/plain": [
       "           _id             business_id           name  \\\n",
       "131233  131234  NzJnxsdKEUHUK7P14OOT1w  The UPS Store   \n",
       "\n",
       "                                   address       city state postal_code  \\\n",
       "131233  8640 University City Blvd, Ste A-3  Charlotte    NC       28213   \n",
       "\n",
       "         latitude  longitude  stars  review_count  is_open  \\\n",
       "131233  35.296695 -80.737813    3.5             8        1   \n",
       "\n",
       "                                    attributes  \\\n",
       "131233  {\"BusinessAcceptsCreditCards\": \"True\"}   \n",
       "\n",
       "                                               categories  \\\n",
       "131233  Mailbox Centers, Printing Services, Local Serv...   \n",
       "\n",
       "                                                    hours  \n",
       "131233  {\"Monday\": \"0:0-0:0\", \"Tuesday\": \"8:30-19:0\", ...  "
      ]
     },
     "execution_count": 14,
     "metadata": {},
     "output_type": "execute_result"
    }
   ],
   "source": [
    "pd.read_sql_table('businesses', engine).sample()"
   ]
  },
  {
   "cell_type": "markdown",
   "metadata": {},
   "source": [
    "### Import data to Users"
   ]
  },
  {
   "cell_type": "code",
   "execution_count": 15,
   "metadata": {},
   "outputs": [],
   "source": [
    "with open(file_user, 'r') as json_data:\n",
    "    data = json.load(json_data)\n",
    "\n",
    "\n",
    "# requires data transformation\n",
    "users_list = []\n",
    "for d in data:\n",
    "    t = User(d)\n",
    "    users_list.append(t)\n",
    "\n",
    "etl.bulk_insert(User, users_list)"
   ]
  },
  {
   "cell_type": "code",
   "execution_count": 16,
   "metadata": {},
   "outputs": [
    {
     "data": {
      "text/html": [
       "<div>\n",
       "<style scoped>\n",
       "    .dataframe tbody tr th:only-of-type {\n",
       "        vertical-align: middle;\n",
       "    }\n",
       "\n",
       "    .dataframe tbody tr th {\n",
       "        vertical-align: top;\n",
       "    }\n",
       "\n",
       "    .dataframe thead th {\n",
       "        text-align: right;\n",
       "    }\n",
       "</style>\n",
       "<table border=\"1\" class=\"dataframe\">\n",
       "  <thead>\n",
       "    <tr style=\"text-align: right;\">\n",
       "      <th></th>\n",
       "      <th>_id</th>\n",
       "      <th>user_id</th>\n",
       "      <th>name</th>\n",
       "      <th>review_count</th>\n",
       "      <th>yelping_since</th>\n",
       "      <th>friends</th>\n",
       "      <th>useful</th>\n",
       "      <th>funny</th>\n",
       "      <th>cool</th>\n",
       "      <th>fans</th>\n",
       "      <th>...</th>\n",
       "      <th>compliment_more</th>\n",
       "      <th>compliment_profile</th>\n",
       "      <th>compliment_cute</th>\n",
       "      <th>compliment_list</th>\n",
       "      <th>compliment_note</th>\n",
       "      <th>compliment_plain</th>\n",
       "      <th>compliment_cool</th>\n",
       "      <th>compliment_funny</th>\n",
       "      <th>compliment_writer</th>\n",
       "      <th>compliment_photos</th>\n",
       "    </tr>\n",
       "  </thead>\n",
       "  <tbody>\n",
       "    <tr>\n",
       "      <td>1190019</td>\n",
       "      <td>1190020</td>\n",
       "      <td>jqI9Aaggpaii1F5UoCv7Hg</td>\n",
       "      <td>Herman</td>\n",
       "      <td>4</td>\n",
       "      <td>2016-07-01 00:09:50</td>\n",
       "      <td>amn58JuFTPWrqDkd30sjiQ, i92IM7JvW4RO7tLjB-HL2w...</td>\n",
       "      <td>0</td>\n",
       "      <td>0</td>\n",
       "      <td>1</td>\n",
       "      <td>0</td>\n",
       "      <td>...</td>\n",
       "      <td>0</td>\n",
       "      <td>0</td>\n",
       "      <td>0</td>\n",
       "      <td>0</td>\n",
       "      <td>0</td>\n",
       "      <td>0</td>\n",
       "      <td>0</td>\n",
       "      <td>0</td>\n",
       "      <td>0</td>\n",
       "      <td>0</td>\n",
       "    </tr>\n",
       "  </tbody>\n",
       "</table>\n",
       "<p>1 rows × 23 columns</p>\n",
       "</div>"
      ],
      "text/plain": [
       "             _id                 user_id    name review_count  \\\n",
       "1190019  1190020  jqI9Aaggpaii1F5UoCv7Hg  Herman            4   \n",
       "\n",
       "               yelping_since  \\\n",
       "1190019  2016-07-01 00:09:50   \n",
       "\n",
       "                                                   friends  useful  funny  \\\n",
       "1190019  amn58JuFTPWrqDkd30sjiQ, i92IM7JvW4RO7tLjB-HL2w...       0      0   \n",
       "\n",
       "         cool  fans  ... compliment_more  compliment_profile  compliment_cute  \\\n",
       "1190019     1     0  ...               0                   0                0   \n",
       "\n",
       "         compliment_list  compliment_note  compliment_plain  compliment_cool  \\\n",
       "1190019                0                0                 0                0   \n",
       "\n",
       "         compliment_funny  compliment_writer  compliment_photos  \n",
       "1190019                 0                  0                  0  \n",
       "\n",
       "[1 rows x 23 columns]"
      ]
     },
     "execution_count": 16,
     "metadata": {},
     "output_type": "execute_result"
    }
   ],
   "source": [
    "pd.read_sql_table('users', engine).sample()"
   ]
  },
  {
   "cell_type": "markdown",
   "metadata": {},
   "source": [
    "### Import data to Reviews"
   ]
  },
  {
   "cell_type": "code",
   "execution_count": 17,
   "metadata": {},
   "outputs": [],
   "source": [
    "with open(file_review, 'r') as json_data:\n",
    "    data = json.load(json_data)\n",
    "etl.bulk_insert(Review, data)"
   ]
  },
  {
   "cell_type": "code",
   "execution_count": 18,
   "metadata": {},
   "outputs": [
    {
     "data": {
      "text/html": [
       "<div>\n",
       "<style scoped>\n",
       "    .dataframe tbody tr th:only-of-type {\n",
       "        vertical-align: middle;\n",
       "    }\n",
       "\n",
       "    .dataframe tbody tr th {\n",
       "        vertical-align: top;\n",
       "    }\n",
       "\n",
       "    .dataframe thead th {\n",
       "        text-align: right;\n",
       "    }\n",
       "</style>\n",
       "<table border=\"1\" class=\"dataframe\">\n",
       "  <thead>\n",
       "    <tr style=\"text-align: right;\">\n",
       "      <th></th>\n",
       "      <th>_id</th>\n",
       "      <th>review_id</th>\n",
       "      <th>business_id</th>\n",
       "      <th>user_id</th>\n",
       "      <th>stars</th>\n",
       "      <th>date</th>\n",
       "      <th>text</th>\n",
       "      <th>useful</th>\n",
       "      <th>funny</th>\n",
       "      <th>cool</th>\n",
       "    </tr>\n",
       "  </thead>\n",
       "  <tbody>\n",
       "    <tr>\n",
       "      <td>1398911</td>\n",
       "      <td>1398912</td>\n",
       "      <td>SBQ9bEP3Qy5MdJrX4EpwtQ</td>\n",
       "      <td>NvKNe9DnQavC9GstglcBJQ</td>\n",
       "      <td>HxEAx05UPw_HWng1yhRCew</td>\n",
       "      <td>4</td>\n",
       "      <td>2015-04-03 17:19:57</td>\n",
       "      <td>Came in here because all the buffets were too ...</td>\n",
       "      <td>0</td>\n",
       "      <td>0</td>\n",
       "      <td>0</td>\n",
       "    </tr>\n",
       "  </tbody>\n",
       "</table>\n",
       "</div>"
      ],
      "text/plain": [
       "             _id               review_id             business_id  \\\n",
       "1398911  1398912  SBQ9bEP3Qy5MdJrX4EpwtQ  NvKNe9DnQavC9GstglcBJQ   \n",
       "\n",
       "                        user_id  stars                 date  \\\n",
       "1398911  HxEAx05UPw_HWng1yhRCew      4  2015-04-03 17:19:57   \n",
       "\n",
       "                                                      text  useful  funny  \\\n",
       "1398911  Came in here because all the buffets were too ...       0      0   \n",
       "\n",
       "         cool  \n",
       "1398911     0  "
      ]
     },
     "execution_count": 18,
     "metadata": {},
     "output_type": "execute_result"
    }
   ],
   "source": [
    "pd.read_sql_table('reviews', engine).sample()"
   ]
  },
  {
   "cell_type": "code",
   "execution_count": null,
   "metadata": {},
   "outputs": [],
   "source": []
  }
 ],
 "metadata": {
  "kernelspec": {
   "display_name": "Python 3",
   "language": "python",
   "name": "python3"
  },
  "language_info": {
   "codemirror_mode": {
    "name": "ipython",
    "version": 3
   },
   "file_extension": ".py",
   "mimetype": "text/x-python",
   "name": "python",
   "nbconvert_exporter": "python",
   "pygments_lexer": "ipython3",
   "version": "3.7.4"
  }
 },
 "nbformat": 4,
 "nbformat_minor": 4
}
