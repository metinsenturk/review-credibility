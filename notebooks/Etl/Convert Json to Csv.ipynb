{
 "cells": [
  {
   "cell_type": "markdown",
   "metadata": {},
   "source": [
    "# Convert JSON Files to CSV"
   ]
  },
  {
   "cell_type": "markdown",
   "metadata": {},
   "source": [
    "This notebook, we will read the json files, normalise it and create a csv file for each json file.\n",
    "\n"
   ]
  },
  {
   "cell_type": "markdown",
   "metadata": {},
   "source": [
    "### Imports"
   ]
  },
  {
   "cell_type": "code",
   "execution_count": 1,
   "metadata": {},
   "outputs": [],
   "source": [
    "import os\n",
    "import pandas as pd\n",
    "import json\n",
    "import pathlib\n",
    "import flat_table"
   ]
  },
  {
   "cell_type": "markdown",
   "metadata": {},
   "source": [
    "### Parameters"
   ]
  },
  {
   "cell_type": "code",
   "execution_count": 2,
   "metadata": {},
   "outputs": [],
   "source": [
    "data_folderpath = os.path.join(os.pardir, 'data')\n",
    "glob_pattern = '_x'"
   ]
  },
  {
   "cell_type": "markdown",
   "metadata": {},
   "source": [
    "## Create CSV from JSON Files"
   ]
  },
  {
   "cell_type": "code",
   "execution_count": 3,
   "metadata": {},
   "outputs": [],
   "source": [
    "generator = pathlib.Path(data_folderpath).glob('*' + glob_pattern + '.json')"
   ]
  },
  {
   "cell_type": "code",
   "execution_count": 4,
   "metadata": {},
   "outputs": [
    {
     "name": "stdout",
     "output_type": "stream",
     "text": [
      "checkin_x.json is converted to checkin_x.csv\n",
      "business_x.json is converted to business_x.csv\n",
      "user_x.json is converted to user_x.csv\n",
      "tip_x.json is converted to tip_x.csv\n",
      "review_x.json is converted to review_x.csv\n",
      "photo_x.json is converted to photo_x.csv\n"
     ]
    }
   ],
   "source": [
    "for x in generator:\n",
    "    with open(x) as jfile:\n",
    "        data = pd.read_json(jfile)\n",
    "        data = flat_table.normalize(data, expand_lists=False)\n",
    "        data.drop('index', inplace=True, axis=1)\n",
    "        \n",
    "        data.to_csv(os.path.join(data_folderpath, x.stem + '.csv'), index=False)\n",
    "        \n",
    "        print('{} is converted to {}.csv'.format(x.name, x.stem))\n",
    "        "
   ]
  },
  {
   "cell_type": "markdown",
   "metadata": {},
   "source": [
    "## Check the file"
   ]
  },
  {
   "cell_type": "code",
   "execution_count": 5,
   "metadata": {},
   "outputs": [],
   "source": [
    "generator = pathlib.Path(data_folderpath).glob('*' + glob_pattern + '.csv')"
   ]
  },
  {
   "cell_type": "code",
   "execution_count": 6,
   "metadata": {},
   "outputs": [
    {
     "name": "stdout",
     "output_type": "stream",
     "text": [
      "../data/checkin_x.csv\n",
      "../data/business_x.csv\n",
      "../data/user_x.csv\n",
      "../data/tip_x.csv\n",
      "../data/review_x.csv\n",
      "../data/photo_x.csv\n"
     ]
    }
   ],
   "source": [
    "for x in sorted(generator, key=os.path.getctime):\n",
    "    print(x)"
   ]
  },
  {
   "cell_type": "code",
   "execution_count": 25,
   "metadata": {},
   "outputs": [
    {
     "data": {
      "text/plain": [
       "(6685902, 9)"
      ]
     },
     "execution_count": 25,
     "metadata": {},
     "output_type": "execute_result"
    }
   ],
   "source": [
    "df = pd.read_csv('../data/review_x.csv', low_memory=False, memory_map=True)\n",
    "df.shape"
   ]
  },
  {
   "cell_type": "code",
   "execution_count": 26,
   "metadata": {},
   "outputs": [
    {
     "data": {
      "text/html": [
       "<div>\n",
       "<style scoped>\n",
       "    .dataframe tbody tr th:only-of-type {\n",
       "        vertical-align: middle;\n",
       "    }\n",
       "\n",
       "    .dataframe tbody tr th {\n",
       "        vertical-align: top;\n",
       "    }\n",
       "\n",
       "    .dataframe thead th {\n",
       "        text-align: right;\n",
       "    }\n",
       "</style>\n",
       "<table border=\"1\" class=\"dataframe\">\n",
       "  <thead>\n",
       "    <tr style=\"text-align: right;\">\n",
       "      <th></th>\n",
       "      <th>review_id</th>\n",
       "      <th>user_id</th>\n",
       "      <th>business_id</th>\n",
       "      <th>stars</th>\n",
       "      <th>useful</th>\n",
       "      <th>funny</th>\n",
       "      <th>cool</th>\n",
       "      <th>text</th>\n",
       "      <th>date</th>\n",
       "    </tr>\n",
       "  </thead>\n",
       "  <tbody>\n",
       "    <tr>\n",
       "      <td>6685900</td>\n",
       "      <td>o8Nc2BJhKJXM6tRHJDRuPA</td>\n",
       "      <td>wu5R5_N7q5iqCBh6NBX26Q</td>\n",
       "      <td>kOo4ZY2UQAX4j312mzQ8mA</td>\n",
       "      <td>5.0</td>\n",
       "      <td>1.0</td>\n",
       "      <td>1.0</td>\n",
       "      <td>1.0</td>\n",
       "      <td>We hired Taco Naco to cater our family party a...</td>\n",
       "      <td>2018-08-13 18:09:16</td>\n",
       "    </tr>\n",
       "    <tr>\n",
       "      <td>6685901</td>\n",
       "      <td>OKmOLFwtI-NjofTHAGzv1Q</td>\n",
       "      <td>Ej3mCvjcwVXCSPB_avIfjQ</td>\n",
       "      <td>PkqN5st3zZ_Xce_5QlBtNQ</td>\n",
       "      <td>3.0</td>\n",
       "      <td>2.0</td>\n",
       "      <td>0.0</td>\n",
       "      <td>0.0</td>\n",
       "      <td>Having just come back from Hawaii a few months...</td>\n",
       "      <td>2018-11-12 20:25:32</td>\n",
       "    </tr>\n",
       "  </tbody>\n",
       "</table>\n",
       "</div>"
      ],
      "text/plain": [
       "                      review_id                 user_id  \\\n",
       "6685900  o8Nc2BJhKJXM6tRHJDRuPA  wu5R5_N7q5iqCBh6NBX26Q   \n",
       "6685901  OKmOLFwtI-NjofTHAGzv1Q  Ej3mCvjcwVXCSPB_avIfjQ   \n",
       "\n",
       "                    business_id  stars  useful  funny  cool  \\\n",
       "6685900  kOo4ZY2UQAX4j312mzQ8mA    5.0     1.0    1.0   1.0   \n",
       "6685901  PkqN5st3zZ_Xce_5QlBtNQ    3.0     2.0    0.0   0.0   \n",
       "\n",
       "                                                      text  \\\n",
       "6685900  We hired Taco Naco to cater our family party a...   \n",
       "6685901  Having just come back from Hawaii a few months...   \n",
       "\n",
       "                        date  \n",
       "6685900  2018-08-13 18:09:16  \n",
       "6685901  2018-11-12 20:25:32  "
      ]
     },
     "execution_count": 26,
     "metadata": {},
     "output_type": "execute_result"
    }
   ],
   "source": [
    "df.tail(2)"
   ]
  },
  {
   "cell_type": "code",
   "execution_count": 27,
   "metadata": {},
   "outputs": [
    {
     "name": "stdout",
     "output_type": "stream",
     "text": [
      "<class 'pandas.core.frame.DataFrame'>\n",
      "RangeIndex: 6685902 entries, 0 to 6685901\n",
      "Columns: 9 entries, review_id to date\n",
      "dtypes: float64(4), object(5)\n",
      "memory usage: 459.1+ MB\n"
     ]
    }
   ],
   "source": [
    "df.info(verbose=False)"
   ]
  },
  {
   "cell_type": "code",
   "execution_count": 36,
   "metadata": {},
   "outputs": [
    {
     "data": {
      "text/plain": [
       "'../data/photo_x.csv'"
      ]
     },
     "execution_count": 36,
     "metadata": {},
     "output_type": "execute_result"
    }
   ],
   "source": [
    "os.path.join(data_folderpath, x.stem + '.csv')"
   ]
  },
  {
   "cell_type": "code",
   "execution_count": null,
   "metadata": {},
   "outputs": [],
   "source": []
  }
 ],
 "metadata": {
  "kernelspec": {
   "display_name": "Python 3",
   "language": "python",
   "name": "python3"
  },
  "language_info": {
   "codemirror_mode": {
    "name": "ipython",
    "version": 3
   },
   "file_extension": ".py",
   "mimetype": "text/x-python",
   "name": "python",
   "nbconvert_exporter": "python",
   "pygments_lexer": "ipython3",
   "version": "3.7.4"
  }
 },
 "nbformat": 4,
 "nbformat_minor": 2
}
