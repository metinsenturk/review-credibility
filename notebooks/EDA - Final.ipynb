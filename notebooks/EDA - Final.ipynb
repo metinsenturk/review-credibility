{
 "cells": [
  {
   "cell_type": "code",
   "execution_count": null,
   "metadata": {},
   "outputs": [],
   "source": [
    "import os\n",
    "import sys\n",
    "sys.path.append(os.pardir)"
   ]
  },
  {
   "cell_type": "code",
   "execution_count": null,
   "metadata": {},
   "outputs": [],
   "source": [
    "import json\n",
    "import datetime\n",
    "import pandas as pd\n",
    "from sklearn import preprocessing\n",
    "from credible import connectors, queries"
   ]
  },
  {
   "cell_type": "code",
   "execution_count": null,
   "metadata": {},
   "outputs": [],
   "source": [
    "engine = connectors.connect_to_sqlite()"
   ]
  },
  {
   "cell_type": "markdown",
   "metadata": {},
   "source": [
    "## Inputs"
   ]
  },
  {
   "cell_type": "code",
   "execution_count": null,
   "metadata": {},
   "outputs": [],
   "source": [
    "%%time\n",
    "users = queries.get_clean_users(engine)\n",
    "reviews = queries.get_clean_reviews(engine)\n",
    "users.shape, reviews.shape"
   ]
  },
  {
   "cell_type": "code",
   "execution_count": 5,
   "metadata": {},
   "outputs": [
    {
     "data": {
      "text/html": [
       "<div>\n",
       "<style scoped>\n",
       "    .dataframe tbody tr th:only-of-type {\n",
       "        vertical-align: middle;\n",
       "    }\n",
       "\n",
       "    .dataframe tbody tr th {\n",
       "        vertical-align: top;\n",
       "    }\n",
       "\n",
       "    .dataframe thead th {\n",
       "        text-align: right;\n",
       "    }\n",
       "</style>\n",
       "<table border=\"1\" class=\"dataframe\">\n",
       "  <thead>\n",
       "    <tr style=\"text-align: right;\">\n",
       "      <th></th>\n",
       "      <th>_id</th>\n",
       "      <th>user_id</th>\n",
       "      <th>name</th>\n",
       "      <th>review_count</th>\n",
       "      <th>yelping_since</th>\n",
       "      <th>friends</th>\n",
       "      <th>useful</th>\n",
       "      <th>funny</th>\n",
       "      <th>cool</th>\n",
       "      <th>fans</th>\n",
       "      <th>...</th>\n",
       "      <th>user_id</th>\n",
       "      <th>user_id</th>\n",
       "      <th>date</th>\n",
       "      <th>num_of_reviews</th>\n",
       "      <th>times</th>\n",
       "      <th>business_ids</th>\n",
       "      <th>review_ids</th>\n",
       "      <th>count_business</th>\n",
       "      <th>user_id</th>\n",
       "      <th>perc_of_positive</th>\n",
       "    </tr>\n",
       "  </thead>\n",
       "  <tbody>\n",
       "    <tr>\n",
       "      <td>102344</td>\n",
       "      <td>897999</td>\n",
       "      <td>TRRjaMgEc2faZEzIGx2dPw</td>\n",
       "      <td>Aaron</td>\n",
       "      <td>8</td>\n",
       "      <td>2012-05-14 20:39:50</td>\n",
       "      <td>j7IxR_ZZZ06jZP_FWz06CQ</td>\n",
       "      <td>4</td>\n",
       "      <td>0</td>\n",
       "      <td>0</td>\n",
       "      <td>1</td>\n",
       "      <td>...</td>\n",
       "      <td>TRRjaMgEc2faZEzIGx2dPw</td>\n",
       "      <td>None</td>\n",
       "      <td>None</td>\n",
       "      <td>None</td>\n",
       "      <td>None</td>\n",
       "      <td>None</td>\n",
       "      <td>None</td>\n",
       "      <td>None</td>\n",
       "      <td>None</td>\n",
       "      <td>NaN</td>\n",
       "    </tr>\n",
       "    <tr>\n",
       "      <td>73733</td>\n",
       "      <td>616508</td>\n",
       "      <td>IpoXMWXjeqAqjnjOUGAFcQ</td>\n",
       "      <td>S</td>\n",
       "      <td>8</td>\n",
       "      <td>2011-06-09 23:32:49</td>\n",
       "      <td>None</td>\n",
       "      <td>9</td>\n",
       "      <td>1</td>\n",
       "      <td>4</td>\n",
       "      <td>1</td>\n",
       "      <td>...</td>\n",
       "      <td>IpoXMWXjeqAqjnjOUGAFcQ</td>\n",
       "      <td>None</td>\n",
       "      <td>None</td>\n",
       "      <td>None</td>\n",
       "      <td>None</td>\n",
       "      <td>None</td>\n",
       "      <td>None</td>\n",
       "      <td>None</td>\n",
       "      <td>None</td>\n",
       "      <td>NaN</td>\n",
       "    </tr>\n",
       "  </tbody>\n",
       "</table>\n",
       "<p>2 rows × 33 columns</p>\n",
       "</div>"
      ],
      "text/plain": [
       "           _id                 user_id   name review_count  \\\n",
       "102344  897999  TRRjaMgEc2faZEzIGx2dPw  Aaron            8   \n",
       "73733   616508  IpoXMWXjeqAqjnjOUGAFcQ      S            8   \n",
       "\n",
       "              yelping_since                 friends  useful  funny  cool  \\\n",
       "102344  2012-05-14 20:39:50  j7IxR_ZZZ06jZP_FWz06CQ       4      0     0   \n",
       "73733   2011-06-09 23:32:49                    None       9      1     4   \n",
       "\n",
       "        fans  ...                 user_id  user_id  date  num_of_reviews  \\\n",
       "102344     1  ...  TRRjaMgEc2faZEzIGx2dPw     None  None            None   \n",
       "73733      1  ...  IpoXMWXjeqAqjnjOUGAFcQ     None  None            None   \n",
       "\n",
       "        times  business_ids  review_ids  count_business  user_id  \\\n",
       "102344   None          None        None            None     None   \n",
       "73733    None          None        None            None     None   \n",
       "\n",
       "        perc_of_positive  \n",
       "102344               NaN  \n",
       "73733                NaN  \n",
       "\n",
       "[2 rows x 33 columns]"
      ]
     },
     "execution_count": 5,
     "metadata": {},
     "output_type": "execute_result"
    }
   ],
   "source": [
    "users.sample(2)"
   ]
  },
  {
   "cell_type": "code",
   "execution_count": 6,
   "metadata": {},
   "outputs": [
    {
     "data": {
      "text/html": [
       "<div>\n",
       "<style scoped>\n",
       "    .dataframe tbody tr th:only-of-type {\n",
       "        vertical-align: middle;\n",
       "    }\n",
       "\n",
       "    .dataframe tbody tr th {\n",
       "        vertical-align: top;\n",
       "    }\n",
       "\n",
       "    .dataframe thead th {\n",
       "        text-align: right;\n",
       "    }\n",
       "</style>\n",
       "<table border=\"1\" class=\"dataframe\">\n",
       "  <thead>\n",
       "    <tr style=\"text-align: right;\">\n",
       "      <th></th>\n",
       "      <th>_id</th>\n",
       "      <th>review_id</th>\n",
       "      <th>business_id</th>\n",
       "      <th>user_id</th>\n",
       "      <th>stars</th>\n",
       "      <th>date</th>\n",
       "      <th>text</th>\n",
       "      <th>useful</th>\n",
       "      <th>funny</th>\n",
       "      <th>cool</th>\n",
       "      <th>...</th>\n",
       "      <th>sentiment_subjectivity</th>\n",
       "      <th>ratio_content</th>\n",
       "      <th>ratio_lexical</th>\n",
       "      <th>avg_len_sentences</th>\n",
       "      <th>avg_len_words</th>\n",
       "      <th>count_noun_phrases</th>\n",
       "      <th>count_words</th>\n",
       "      <th>count_sentences</th>\n",
       "      <th>count_pos</th>\n",
       "      <th>noun_phrases</th>\n",
       "    </tr>\n",
       "  </thead>\n",
       "  <tbody>\n",
       "    <tr>\n",
       "      <td>742969</td>\n",
       "      <td>3989565</td>\n",
       "      <td>-qZ-p2iT84iiwy0_C8IT-g</td>\n",
       "      <td>TtqvXhjmXXd0nhibRAbpRg</td>\n",
       "      <td>n7fUVjiw-cFNJCAQ0IqRaw</td>\n",
       "      <td>3</td>\n",
       "      <td>2018-04-26 01:52:28</td>\n",
       "      <td>I asked for miso soup and they forgot about it...</td>\n",
       "      <td>0</td>\n",
       "      <td>0</td>\n",
       "      <td>0</td>\n",
       "      <td>...</td>\n",
       "      <td>NaN</td>\n",
       "      <td>NaN</td>\n",
       "      <td>NaN</td>\n",
       "      <td>NaN</td>\n",
       "      <td>NaN</td>\n",
       "      <td>NaN</td>\n",
       "      <td>NaN</td>\n",
       "      <td>NaN</td>\n",
       "      <td>None</td>\n",
       "      <td>None</td>\n",
       "    </tr>\n",
       "    <tr>\n",
       "      <td>451323</td>\n",
       "      <td>2411935</td>\n",
       "      <td>3RkNQNK_BLmmrRHbUb5Gfg</td>\n",
       "      <td>dRva9yUGTgZBEp9gbSxjIg</td>\n",
       "      <td>jDJQpzb_EIelD-LbYNlWkQ</td>\n",
       "      <td>5</td>\n",
       "      <td>2015-03-29 01:18:18</td>\n",
       "      <td>Just stopped by today and received a great hai...</td>\n",
       "      <td>1</td>\n",
       "      <td>0</td>\n",
       "      <td>0</td>\n",
       "      <td>...</td>\n",
       "      <td>NaN</td>\n",
       "      <td>NaN</td>\n",
       "      <td>NaN</td>\n",
       "      <td>NaN</td>\n",
       "      <td>NaN</td>\n",
       "      <td>NaN</td>\n",
       "      <td>NaN</td>\n",
       "      <td>NaN</td>\n",
       "      <td>None</td>\n",
       "      <td>None</td>\n",
       "    </tr>\n",
       "  </tbody>\n",
       "</table>\n",
       "<p>2 rows × 24 columns</p>\n",
       "</div>"
      ],
      "text/plain": [
       "            _id               review_id             business_id  \\\n",
       "742969  3989565  -qZ-p2iT84iiwy0_C8IT-g  TtqvXhjmXXd0nhibRAbpRg   \n",
       "451323  2411935  3RkNQNK_BLmmrRHbUb5Gfg  dRva9yUGTgZBEp9gbSxjIg   \n",
       "\n",
       "                       user_id  stars                 date  \\\n",
       "742969  n7fUVjiw-cFNJCAQ0IqRaw      3  2018-04-26 01:52:28   \n",
       "451323  jDJQpzb_EIelD-LbYNlWkQ      5  2015-03-29 01:18:18   \n",
       "\n",
       "                                                     text  useful  funny  \\\n",
       "742969  I asked for miso soup and they forgot about it...       0      0   \n",
       "451323  Just stopped by today and received a great hai...       1      0   \n",
       "\n",
       "        cool  ... sentiment_subjectivity  ratio_content ratio_lexical  \\\n",
       "742969     0  ...                    NaN            NaN           NaN   \n",
       "451323     0  ...                    NaN            NaN           NaN   \n",
       "\n",
       "        avg_len_sentences  avg_len_words  count_noun_phrases  count_words  \\\n",
       "742969                NaN            NaN                 NaN          NaN   \n",
       "451323                NaN            NaN                 NaN          NaN   \n",
       "\n",
       "        count_sentences  count_pos  noun_phrases  \n",
       "742969              NaN       None          None  \n",
       "451323              NaN       None          None  \n",
       "\n",
       "[2 rows x 24 columns]"
      ]
     },
     "execution_count": 6,
     "metadata": {},
     "output_type": "execute_result"
    }
   ],
   "source": [
    "reviews.sample(2)"
   ]
  },
  {
   "cell_type": "markdown",
   "metadata": {},
   "source": [
    "## EDA"
   ]
  },
  {
   "cell_type": "markdown",
   "metadata": {},
   "source": [
    "### EDA - Daily Review Counts"
   ]
  },
  {
   "cell_type": "code",
   "execution_count": 134,
   "metadata": {},
   "outputs": [
    {
     "data": {
      "text/plain": [
       "(1245408, 25)"
      ]
     },
     "execution_count": 134,
     "metadata": {},
     "output_type": "execute_result"
    }
   ],
   "source": [
    "df = pd.merge(reviews, users.iloc[:,[1,3]], how='left', on='user_id')\n",
    "df.shape"
   ]
  },
  {
   "cell_type": "code",
   "execution_count": 135,
   "metadata": {},
   "outputs": [
    {
     "data": {
      "text/plain": [
       "(1245408, 25)"
      ]
     },
     "execution_count": 135,
     "metadata": {},
     "output_type": "execute_result"
    }
   ],
   "source": [
    "df.review_count = df.review_count.apply(lambda x: float(x))\n",
    "df.shape"
   ]
  },
  {
   "cell_type": "code",
   "execution_count": 136,
   "metadata": {
    "scrolled": true
   },
   "outputs": [
    {
     "data": {
      "text/plain": [
       "<matplotlib.axes._subplots.AxesSubplot at 0x13927fc90>"
      ]
     },
     "execution_count": 136,
     "metadata": {},
     "output_type": "execute_result"
    },
    {
     "data": {
      "image/png": "[encoded data removed]",
      "text/plain": [
       "<Figure size 432x288 with 1 Axes>"
      ]
     },
     "metadata": {
      "needs_background": "light"
     },
     "output_type": "display_data"
    }
   ],
   "source": [
    "df.review_count.value_counts().plot.bar()"
   ]
  },
  {
   "cell_type": "code",
   "execution_count": 137,
   "metadata": {},
   "outputs": [
    {
     "data": {
      "text/html": [
       "<div>\n",
       "<style scoped>\n",
       "    .dataframe tbody tr th:only-of-type {\n",
       "        vertical-align: middle;\n",
       "    }\n",
       "\n",
       "    .dataframe tbody tr th {\n",
       "        vertical-align: top;\n",
       "    }\n",
       "\n",
       "    .dataframe thead th {\n",
       "        text-align: right;\n",
       "    }\n",
       "</style>\n",
       "<table border=\"1\" class=\"dataframe\">\n",
       "  <thead>\n",
       "    <tr style=\"text-align: right;\">\n",
       "      <th></th>\n",
       "      <th>_id</th>\n",
       "      <th>stars</th>\n",
       "      <th>useful</th>\n",
       "      <th>funny</th>\n",
       "      <th>cool</th>\n",
       "      <th>_id</th>\n",
       "      <th>sentiment_polarity</th>\n",
       "      <th>sentiment_subjectivity</th>\n",
       "      <th>ratio_content</th>\n",
       "      <th>ratio_lexical</th>\n",
       "      <th>avg_len_sentences</th>\n",
       "      <th>avg_len_words</th>\n",
       "      <th>count_noun_phrases</th>\n",
       "      <th>count_words</th>\n",
       "      <th>count_sentences</th>\n",
       "    </tr>\n",
       "    <tr>\n",
       "      <th>review_count</th>\n",
       "      <th></th>\n",
       "      <th></th>\n",
       "      <th></th>\n",
       "      <th></th>\n",
       "      <th></th>\n",
       "      <th></th>\n",
       "      <th></th>\n",
       "      <th></th>\n",
       "      <th></th>\n",
       "      <th></th>\n",
       "      <th></th>\n",
       "      <th></th>\n",
       "      <th></th>\n",
       "      <th></th>\n",
       "      <th></th>\n",
       "    </tr>\n",
       "  </thead>\n",
       "  <tbody>\n",
       "    <tr>\n",
       "      <td>15.0</td>\n",
       "      <td>3.293556e+06</td>\n",
       "      <td>4.174665</td>\n",
       "      <td>0.333646</td>\n",
       "      <td>0.093566</td>\n",
       "      <td>0.128686</td>\n",
       "      <td>59829.090226</td>\n",
       "      <td>0.361416</td>\n",
       "      <td>0.588215</td>\n",
       "      <td>1.0</td>\n",
       "      <td>0.910442</td>\n",
       "      <td>10.517275</td>\n",
       "      <td>4.361553</td>\n",
       "      <td>3.293233</td>\n",
       "      <td>26.496241</td>\n",
       "      <td>3.240602</td>\n",
       "    </tr>\n",
       "    <tr>\n",
       "      <td>12.0</td>\n",
       "      <td>3.343100e+06</td>\n",
       "      <td>4.229194</td>\n",
       "      <td>0.318804</td>\n",
       "      <td>0.085859</td>\n",
       "      <td>0.117182</td>\n",
       "      <td>55570.130137</td>\n",
       "      <td>0.323322</td>\n",
       "      <td>0.616064</td>\n",
       "      <td>1.0</td>\n",
       "      <td>0.906975</td>\n",
       "      <td>10.379452</td>\n",
       "      <td>4.366615</td>\n",
       "      <td>3.178082</td>\n",
       "      <td>26.561644</td>\n",
       "      <td>3.280822</td>\n",
       "    </tr>\n",
       "  </tbody>\n",
       "</table>\n",
       "</div>"
      ],
      "text/plain": [
       "                       _id     stars    useful     funny      cool  \\\n",
       "review_count                                                         \n",
       "15.0          3.293556e+06  4.174665  0.333646  0.093566  0.128686   \n",
       "12.0          3.343100e+06  4.229194  0.318804  0.085859  0.117182   \n",
       "\n",
       "                       _id  sentiment_polarity  sentiment_subjectivity  \\\n",
       "review_count                                                             \n",
       "15.0          59829.090226            0.361416                0.588215   \n",
       "12.0          55570.130137            0.323322                0.616064   \n",
       "\n",
       "              ratio_content  ratio_lexical  avg_len_sentences  avg_len_words  \\\n",
       "review_count                                                                   \n",
       "15.0                    1.0       0.910442          10.517275       4.361553   \n",
       "12.0                    1.0       0.906975          10.379452       4.366615   \n",
       "\n",
       "              count_noun_phrases  count_words  count_sentences  \n",
       "review_count                                                    \n",
       "15.0                    3.293233    26.496241         3.240602  \n",
       "12.0                    3.178082    26.561644         3.280822  "
      ]
     },
     "execution_count": 137,
     "metadata": {},
     "output_type": "execute_result"
    }
   ],
   "source": [
    "df_g_rc = df.groupby(by=['review_count']).mean()\n",
    "df_g_rc.sort_index(axis=0, inplace=True, ascending=True)\n",
    "df_g_rc.sample(2)"
   ]
  },
  {
   "cell_type": "code",
   "execution_count": 121,
   "metadata": {},
   "outputs": [],
   "source": [
    "import matplotlib.pyplot as plt\n",
    "\n",
    "def get_review_plots(df_g_rc):\n",
    "    fig, axes = plt.subplots(nrows=2, ncols=4, figsize=(15,5))\n",
    "\n",
    "    df_g_rc.sentiment_polarity.plot(ax=axes[0,0], title='sentiment_polarity')\n",
    "    df_g_rc.sentiment_subjectivity.plot(ax=axes[0,1], title='sentiment_subjectivity')\n",
    "    df_g_rc.ratio_content.plot(ax=axes[0,2], title='ratio_content')\n",
    "    df_g_rc.ratio_lexical.plot(ax=axes[0,3], kind='box', title='ratio_lexical')\n",
    "    df_g_rc.avg_len_sentences.plot(ax=axes[1,0], kind='kde', title='avg_len_sentences')\n",
    "    df_g_rc.avg_len_words.plot(ax=axes[1,1], kind='kde', title='avg_len_words')\n",
    "    df_g_rc.count_noun_phrases.plot(ax=axes[1,2], kind='hist', title='count_noun_phrases')\n",
    "    df_g_rc.count_sentences.plot(ax=axes[1,3], kind='hist', title='count_sentences')\n",
    "\n",
    "    fig.tight_layout()"
   ]
  },
  {
   "cell_type": "code",
   "execution_count": 123,
   "metadata": {},
   "outputs": [
    {
     "data": {
      "image/png": "[encoded data removed]",
      "text/plain": [
       "<Figure size 1080x360 with 8 Axes>"
      ]
     },
     "metadata": {
      "needs_background": "light"
     },
     "output_type": "display_data"
    }
   ],
   "source": [
    "get_review_plots(df_g_rc)"
   ]
  },
  {
   "cell_type": "markdown",
   "metadata": {},
   "source": [
    "### EDA - Review Positivity"
   ]
  },
  {
   "cell_type": "code",
   "execution_count": 9,
   "metadata": {},
   "outputs": [
    {
     "data": {
      "text/html": [
       "<div>\n",
       "<style scoped>\n",
       "    .dataframe tbody tr th:only-of-type {\n",
       "        vertical-align: middle;\n",
       "    }\n",
       "\n",
       "    .dataframe tbody tr th {\n",
       "        vertical-align: top;\n",
       "    }\n",
       "\n",
       "    .dataframe thead th {\n",
       "        text-align: right;\n",
       "    }\n",
       "</style>\n",
       "<table border=\"1\" class=\"dataframe\">\n",
       "  <thead>\n",
       "    <tr style=\"text-align: right;\">\n",
       "      <th></th>\n",
       "      <th>user_id</th>\n",
       "      <th>perc_of_positive</th>\n",
       "    </tr>\n",
       "  </thead>\n",
       "  <tbody>\n",
       "    <tr>\n",
       "      <td>0</td>\n",
       "      <td>PKP36ulpM46aufDKUJvRhw</td>\n",
       "      <td>100.0</td>\n",
       "    </tr>\n",
       "    <tr>\n",
       "      <td>1</td>\n",
       "      <td>4m3kOoAlpqdSZZ_hr5f0Xg</td>\n",
       "      <td>100.0</td>\n",
       "    </tr>\n",
       "    <tr>\n",
       "      <td>2</td>\n",
       "      <td>z7vamcUdw3PNB222Zjw-Zw</td>\n",
       "      <td>25.0</td>\n",
       "    </tr>\n",
       "    <tr>\n",
       "      <td>3</td>\n",
       "      <td>lyzHnDnL7ftTExMU8_cEjw</td>\n",
       "      <td>100.0</td>\n",
       "    </tr>\n",
       "    <tr>\n",
       "      <td>4</td>\n",
       "      <td>a977PJaMaSRTYTaTQDZAUw</td>\n",
       "      <td>100.0</td>\n",
       "    </tr>\n",
       "    <tr>\n",
       "      <td>...</td>\n",
       "      <td>...</td>\n",
       "      <td>...</td>\n",
       "    </tr>\n",
       "    <tr>\n",
       "      <td>166776</td>\n",
       "      <td>NflUTP65orGjkramR-K59Q</td>\n",
       "      <td>NaN</td>\n",
       "    </tr>\n",
       "    <tr>\n",
       "      <td>166777</td>\n",
       "      <td>8Facu6ZwPI48Z7XBl1korg</td>\n",
       "      <td>0.0</td>\n",
       "    </tr>\n",
       "    <tr>\n",
       "      <td>166778</td>\n",
       "      <td>SB9W1AIQ2EWBdZ5wYixU7A</td>\n",
       "      <td>NaN</td>\n",
       "    </tr>\n",
       "    <tr>\n",
       "      <td>166779</td>\n",
       "      <td>vyK8txmse-HVk7hAKCvuMQ</td>\n",
       "      <td>NaN</td>\n",
       "    </tr>\n",
       "    <tr>\n",
       "      <td>166780</td>\n",
       "      <td>LKd_-BT2GMWp8_1ho18kOg</td>\n",
       "      <td>NaN</td>\n",
       "    </tr>\n",
       "  </tbody>\n",
       "</table>\n",
       "<p>166781 rows × 2 columns</p>\n",
       "</div>"
      ],
      "text/plain": [
       "                       user_id  perc_of_positive\n",
       "0       PKP36ulpM46aufDKUJvRhw             100.0\n",
       "1       4m3kOoAlpqdSZZ_hr5f0Xg             100.0\n",
       "2       z7vamcUdw3PNB222Zjw-Zw              25.0\n",
       "3       lyzHnDnL7ftTExMU8_cEjw             100.0\n",
       "4       a977PJaMaSRTYTaTQDZAUw             100.0\n",
       "...                        ...               ...\n",
       "166776  NflUTP65orGjkramR-K59Q               NaN\n",
       "166777  8Facu6ZwPI48Z7XBl1korg               0.0\n",
       "166778  SB9W1AIQ2EWBdZ5wYixU7A               NaN\n",
       "166779  vyK8txmse-HVk7hAKCvuMQ               NaN\n",
       "166780  LKd_-BT2GMWp8_1ho18kOg               NaN\n",
       "\n",
       "[166781 rows x 2 columns]"
      ]
     },
     "execution_count": 9,
     "metadata": {},
     "output_type": "execute_result"
    }
   ],
   "source": [
    "users.iloc[:,[1,-1]]"
   ]
  },
  {
   "cell_type": "code",
   "execution_count": 10,
   "metadata": {},
   "outputs": [
    {
     "data": {
      "text/plain": [
       "(1245408, 25)"
      ]
     },
     "execution_count": 10,
     "metadata": {},
     "output_type": "execute_result"
    }
   ],
   "source": [
    "df = pd.merge(reviews, users.iloc[:,[1,-1]], how='left', on='user_id')\n",
    "df.shape"
   ]
  },
  {
   "cell_type": "code",
   "execution_count": 11,
   "metadata": {},
   "outputs": [
    {
     "data": {
      "text/html": [
       "<div>\n",
       "<style scoped>\n",
       "    .dataframe tbody tr th:only-of-type {\n",
       "        vertical-align: middle;\n",
       "    }\n",
       "\n",
       "    .dataframe tbody tr th {\n",
       "        vertical-align: top;\n",
       "    }\n",
       "\n",
       "    .dataframe thead th {\n",
       "        text-align: right;\n",
       "    }\n",
       "</style>\n",
       "<table border=\"1\" class=\"dataframe\">\n",
       "  <thead>\n",
       "    <tr style=\"text-align: right;\">\n",
       "      <th></th>\n",
       "      <th>_id</th>\n",
       "      <th>stars</th>\n",
       "      <th>useful</th>\n",
       "      <th>funny</th>\n",
       "      <th>cool</th>\n",
       "      <th>_id</th>\n",
       "      <th>sentiment_polarity</th>\n",
       "      <th>sentiment_subjectivity</th>\n",
       "      <th>ratio_content</th>\n",
       "      <th>ratio_lexical</th>\n",
       "      <th>avg_len_sentences</th>\n",
       "      <th>avg_len_words</th>\n",
       "      <th>count_noun_phrases</th>\n",
       "      <th>count_words</th>\n",
       "      <th>count_sentences</th>\n",
       "    </tr>\n",
       "    <tr>\n",
       "      <th>perc_of_positive</th>\n",
       "      <th></th>\n",
       "      <th></th>\n",
       "      <th></th>\n",
       "      <th></th>\n",
       "      <th></th>\n",
       "      <th></th>\n",
       "      <th></th>\n",
       "      <th></th>\n",
       "      <th></th>\n",
       "      <th></th>\n",
       "      <th></th>\n",
       "      <th></th>\n",
       "      <th></th>\n",
       "      <th></th>\n",
       "      <th></th>\n",
       "    </tr>\n",
       "  </thead>\n",
       "  <tbody>\n",
       "    <tr>\n",
       "      <td>58.0</td>\n",
       "      <td>2.935778e+06</td>\n",
       "      <td>3.500000</td>\n",
       "      <td>0.083333</td>\n",
       "      <td>0.000000</td>\n",
       "      <td>0.000000</td>\n",
       "      <td>NaN</td>\n",
       "      <td>NaN</td>\n",
       "      <td>NaN</td>\n",
       "      <td>NaN</td>\n",
       "      <td>NaN</td>\n",
       "      <td>NaN</td>\n",
       "      <td>NaN</td>\n",
       "      <td>NaN</td>\n",
       "      <td>NaN</td>\n",
       "      <td>NaN</td>\n",
       "    </tr>\n",
       "    <tr>\n",
       "      <td>88.0</td>\n",
       "      <td>3.411153e+06</td>\n",
       "      <td>4.466495</td>\n",
       "      <td>0.291237</td>\n",
       "      <td>0.059278</td>\n",
       "      <td>0.127577</td>\n",
       "      <td>61478.636364</td>\n",
       "      <td>0.340511</td>\n",
       "      <td>0.677656</td>\n",
       "      <td>1.0</td>\n",
       "      <td>0.87951</td>\n",
       "      <td>10.306061</td>\n",
       "      <td>4.333681</td>\n",
       "      <td>2.636364</td>\n",
       "      <td>26.363636</td>\n",
       "      <td>3.272727</td>\n",
       "    </tr>\n",
       "  </tbody>\n",
       "</table>\n",
       "</div>"
      ],
      "text/plain": [
       "                           _id     stars    useful     funny      cool  \\\n",
       "perc_of_positive                                                         \n",
       "58.0              2.935778e+06  3.500000  0.083333  0.000000  0.000000   \n",
       "88.0              3.411153e+06  4.466495  0.291237  0.059278  0.127577   \n",
       "\n",
       "                           _id  sentiment_polarity  sentiment_subjectivity  \\\n",
       "perc_of_positive                                                             \n",
       "58.0                       NaN                 NaN                     NaN   \n",
       "88.0              61478.636364            0.340511                0.677656   \n",
       "\n",
       "                  ratio_content  ratio_lexical  avg_len_sentences  \\\n",
       "perc_of_positive                                                    \n",
       "58.0                        NaN            NaN                NaN   \n",
       "88.0                        1.0        0.87951          10.306061   \n",
       "\n",
       "                  avg_len_words  count_noun_phrases  count_words  \\\n",
       "perc_of_positive                                                   \n",
       "58.0                        NaN                 NaN          NaN   \n",
       "88.0                   4.333681            2.636364    26.363636   \n",
       "\n",
       "                  count_sentences  \n",
       "perc_of_positive                   \n",
       "58.0                          NaN  \n",
       "88.0                     3.272727  "
      ]
     },
     "execution_count": 11,
     "metadata": {},
     "output_type": "execute_result"
    }
   ],
   "source": [
    "df_g_rc = df.groupby(by=['perc_of_positive']).mean()\n",
    "df_g_rc.sort_index(axis=0, inplace=True, ascending=True)\n",
    "df_g_rc.sample(2)"
   ]
  },
  {
   "cell_type": "code",
   "execution_count": 13,
   "metadata": {},
   "outputs": [
    {
     "data": {
      "image/png": "[encoded data removed]",
      "text/plain": [
       "<Figure size 1080x360 with 8 Axes>"
      ]
     },
     "metadata": {
      "needs_background": "light"
     },
     "output_type": "display_data"
    }
   ],
   "source": [
    "queries.get_review_plots(df_g_rc)"
   ]
  },
  {
   "cell_type": "markdown",
   "metadata": {},
   "source": [
    "### EDA - Average Star Rating"
   ]
  },
  {
   "cell_type": "code",
   "execution_count": 14,
   "metadata": {},
   "outputs": [
    {
     "data": {
      "text/plain": [
       "(1245408, 25)"
      ]
     },
     "execution_count": 14,
     "metadata": {},
     "output_type": "execute_result"
    }
   ],
   "source": [
    "df = pd.merge(reviews, users.iloc[:,[1,11]], how='left', on='user_id')\n",
    "df.shape"
   ]
  },
  {
   "cell_type": "code",
   "execution_count": 15,
   "metadata": {},
   "outputs": [
    {
     "data": {
      "text/html": [
       "<div>\n",
       "<style scoped>\n",
       "    .dataframe tbody tr th:only-of-type {\n",
       "        vertical-align: middle;\n",
       "    }\n",
       "\n",
       "    .dataframe tbody tr th {\n",
       "        vertical-align: top;\n",
       "    }\n",
       "\n",
       "    .dataframe thead th {\n",
       "        text-align: right;\n",
       "    }\n",
       "</style>\n",
       "<table border=\"1\" class=\"dataframe\">\n",
       "  <thead>\n",
       "    <tr style=\"text-align: right;\">\n",
       "      <th></th>\n",
       "      <th>_id</th>\n",
       "      <th>stars</th>\n",
       "      <th>useful</th>\n",
       "      <th>funny</th>\n",
       "      <th>cool</th>\n",
       "      <th>_id</th>\n",
       "      <th>sentiment_polarity</th>\n",
       "      <th>sentiment_subjectivity</th>\n",
       "      <th>ratio_content</th>\n",
       "      <th>ratio_lexical</th>\n",
       "      <th>avg_len_sentences</th>\n",
       "      <th>avg_len_words</th>\n",
       "      <th>count_noun_phrases</th>\n",
       "      <th>count_words</th>\n",
       "      <th>count_sentences</th>\n",
       "    </tr>\n",
       "    <tr>\n",
       "      <th>average_stars</th>\n",
       "      <th></th>\n",
       "      <th></th>\n",
       "      <th></th>\n",
       "      <th></th>\n",
       "      <th></th>\n",
       "      <th></th>\n",
       "      <th></th>\n",
       "      <th></th>\n",
       "      <th></th>\n",
       "      <th></th>\n",
       "      <th></th>\n",
       "      <th></th>\n",
       "      <th></th>\n",
       "      <th></th>\n",
       "      <th></th>\n",
       "    </tr>\n",
       "  </thead>\n",
       "  <tbody>\n",
       "    <tr>\n",
       "      <td>1.57</td>\n",
       "      <td>3.476104e+06</td>\n",
       "      <td>1.903084</td>\n",
       "      <td>0.374449</td>\n",
       "      <td>0.136564</td>\n",
       "      <td>0.057269</td>\n",
       "      <td>11390.500000</td>\n",
       "      <td>-0.137500</td>\n",
       "      <td>0.765278</td>\n",
       "      <td>1.0</td>\n",
       "      <td>0.922368</td>\n",
       "      <td>9.500000</td>\n",
       "      <td>4.064474</td>\n",
       "      <td>3.500000</td>\n",
       "      <td>19.500000</td>\n",
       "      <td>2.500000</td>\n",
       "    </tr>\n",
       "    <tr>\n",
       "      <td>4.22</td>\n",
       "      <td>3.330333e+06</td>\n",
       "      <td>4.458716</td>\n",
       "      <td>0.299224</td>\n",
       "      <td>0.086803</td>\n",
       "      <td>0.136203</td>\n",
       "      <td>55681.384615</td>\n",
       "      <td>0.351494</td>\n",
       "      <td>0.593299</td>\n",
       "      <td>1.0</td>\n",
       "      <td>0.919999</td>\n",
       "      <td>11.535256</td>\n",
       "      <td>4.309129</td>\n",
       "      <td>2.961538</td>\n",
       "      <td>26.461538</td>\n",
       "      <td>3.038462</td>\n",
       "    </tr>\n",
       "  </tbody>\n",
       "</table>\n",
       "</div>"
      ],
      "text/plain": [
       "                        _id     stars    useful     funny      cool  \\\n",
       "average_stars                                                         \n",
       "1.57           3.476104e+06  1.903084  0.374449  0.136564  0.057269   \n",
       "4.22           3.330333e+06  4.458716  0.299224  0.086803  0.136203   \n",
       "\n",
       "                        _id  sentiment_polarity  sentiment_subjectivity  \\\n",
       "average_stars                                                             \n",
       "1.57           11390.500000           -0.137500                0.765278   \n",
       "4.22           55681.384615            0.351494                0.593299   \n",
       "\n",
       "               ratio_content  ratio_lexical  avg_len_sentences  avg_len_words  \\\n",
       "average_stars                                                                   \n",
       "1.57                     1.0       0.922368           9.500000       4.064474   \n",
       "4.22                     1.0       0.919999          11.535256       4.309129   \n",
       "\n",
       "               count_noun_phrases  count_words  count_sentences  \n",
       "average_stars                                                    \n",
       "1.57                     3.500000    19.500000         2.500000  \n",
       "4.22                     2.961538    26.461538         3.038462  "
      ]
     },
     "execution_count": 15,
     "metadata": {},
     "output_type": "execute_result"
    }
   ],
   "source": [
    "df_g_rc = df.groupby(by=['average_stars']).mean()\n",
    "df_g_rc.sort_index(axis=0, inplace=True, ascending=True)\n",
    "df_g_rc.sample(2)"
   ]
  },
  {
   "cell_type": "code",
   "execution_count": 18,
   "metadata": {},
   "outputs": [
    {
     "data": {
      "image/png": "[encoded data removed]",
      "text/plain": [
       "<Figure size 1080x360 with 8 Axes>"
      ]
     },
     "metadata": {
      "needs_background": "light"
     },
     "output_type": "display_data"
    }
   ],
   "source": [
    "queries.get_review_plots(df_g_rc)"
   ]
  },
  {
   "cell_type": "markdown",
   "metadata": {},
   "source": [
    "## Data Preprocessing"
   ]
  },
  {
   "cell_type": "code",
   "execution_count": 29,
   "metadata": {},
   "outputs": [
    {
     "data": {
      "text/plain": [
       "(1245408, 13)"
      ]
     },
     "execution_count": 29,
     "metadata": {},
     "output_type": "execute_result"
    }
   ],
   "source": [
    "from sklearn.preprocessing import MinMaxScaler\n",
    "from sklearn.preprocessing import OneHotEncoder\n",
    "\n",
    "columns = ['stars',\n",
    "       'useful', 'funny', 'cool',\n",
    "       'sentiment_polarity', 'sentiment_subjectivity', 'ratio_content',\n",
    "       'ratio_lexical', 'avg_len_sentences', 'avg_len_words',\n",
    "       'count_noun_phrases', 'count_words', 'count_sentences']\n",
    "\n",
    "df = reviews[columns]\n",
    "\n",
    "scaler = MinMaxScaler()\n",
    "X_transformed = scaler.fit_transform(df)\n",
    "\n",
    "X_transformed.shape"
   ]
  },
  {
   "cell_type": "code",
   "execution_count": 82,
   "metadata": {},
   "outputs": [
    {
     "data": {
      "text/plain": [
       "(1245408, 13)"
      ]
     },
     "execution_count": 82,
     "metadata": {},
     "output_type": "execute_result"
    }
   ],
   "source": [
    "X = pd.DataFrame(data=X_transformed, columns=columns)\n",
    "X.fillna(value=0, inplace=True)\n",
    "X.shape"
   ]
  },
  {
   "cell_type": "code",
   "execution_count": 83,
   "metadata": {},
   "outputs": [
    {
     "data": {
      "text/html": [
       "<div>\n",
       "<style scoped>\n",
       "    .dataframe tbody tr th:only-of-type {\n",
       "        vertical-align: middle;\n",
       "    }\n",
       "\n",
       "    .dataframe tbody tr th {\n",
       "        vertical-align: top;\n",
       "    }\n",
       "\n",
       "    .dataframe thead th {\n",
       "        text-align: right;\n",
       "    }\n",
       "</style>\n",
       "<table border=\"1\" class=\"dataframe\">\n",
       "  <thead>\n",
       "    <tr style=\"text-align: right;\">\n",
       "      <th></th>\n",
       "      <th>stars</th>\n",
       "      <th>useful</th>\n",
       "      <th>funny</th>\n",
       "      <th>cool</th>\n",
       "      <th>sentiment_polarity</th>\n",
       "      <th>sentiment_subjectivity</th>\n",
       "      <th>ratio_content</th>\n",
       "      <th>ratio_lexical</th>\n",
       "      <th>avg_len_sentences</th>\n",
       "      <th>avg_len_words</th>\n",
       "      <th>count_noun_phrases</th>\n",
       "      <th>count_words</th>\n",
       "      <th>count_sentences</th>\n",
       "    </tr>\n",
       "  </thead>\n",
       "  <tbody>\n",
       "    <tr>\n",
       "      <td>814900</td>\n",
       "      <td>0.50</td>\n",
       "      <td>0.5</td>\n",
       "      <td>0.0</td>\n",
       "      <td>0.0</td>\n",
       "      <td>0.0</td>\n",
       "      <td>0.0</td>\n",
       "      <td>0.0</td>\n",
       "      <td>0.0</td>\n",
       "      <td>0.0</td>\n",
       "      <td>0.0</td>\n",
       "      <td>0.0</td>\n",
       "      <td>0.0</td>\n",
       "      <td>0.0</td>\n",
       "    </tr>\n",
       "    <tr>\n",
       "      <td>122814</td>\n",
       "      <td>0.75</td>\n",
       "      <td>0.0</td>\n",
       "      <td>0.0</td>\n",
       "      <td>0.0</td>\n",
       "      <td>0.0</td>\n",
       "      <td>0.0</td>\n",
       "      <td>0.0</td>\n",
       "      <td>0.0</td>\n",
       "      <td>0.0</td>\n",
       "      <td>0.0</td>\n",
       "      <td>0.0</td>\n",
       "      <td>0.0</td>\n",
       "      <td>0.0</td>\n",
       "    </tr>\n",
       "  </tbody>\n",
       "</table>\n",
       "</div>"
      ],
      "text/plain": [
       "        stars  useful  funny  cool  sentiment_polarity  \\\n",
       "814900   0.50     0.5    0.0   0.0                 0.0   \n",
       "122814   0.75     0.0    0.0   0.0                 0.0   \n",
       "\n",
       "        sentiment_subjectivity  ratio_content  ratio_lexical  \\\n",
       "814900                     0.0            0.0            0.0   \n",
       "122814                     0.0            0.0            0.0   \n",
       "\n",
       "        avg_len_sentences  avg_len_words  count_noun_phrases  count_words  \\\n",
       "814900                0.0            0.0                 0.0          0.0   \n",
       "122814                0.0            0.0                 0.0          0.0   \n",
       "\n",
       "        count_sentences  \n",
       "814900              0.0  \n",
       "122814              0.0  "
      ]
     },
     "execution_count": 83,
     "metadata": {},
     "output_type": "execute_result"
    }
   ],
   "source": [
    "X.sample(2)"
   ]
  },
  {
   "cell_type": "markdown",
   "metadata": {},
   "source": [
    "## Modeling"
   ]
  },
  {
   "cell_type": "code",
   "execution_count": null,
   "metadata": {},
   "outputs": [],
   "source": [
    "from sklearn.neighbors import LocalOutlierFactor\n",
    "\n",
    "lof = LocalOutlierFactor(n_neighbors=1000, p=1, contamination='auto', metric='manhattan')\n",
    "y_pred = lof.fit_predict(Xs.sample(50000))"
   ]
  },
  {
   "cell_type": "code",
   "execution_count": null,
   "metadata": {},
   "outputs": [],
   "source": [
    "scores = lof.negative_outlier_factor_\n",
    "-scores"
   ]
  },
  {
   "cell_type": "code",
   "execution_count": null,
   "metadata": {},
   "outputs": [],
   "source": [
    "df['lof_scores'] = -scores\n",
    "df['lof_labels'] = y_pred"
   ]
  }
 ],
 "metadata": {
  "kernelspec": {
   "display_name": "Python 3",
   "language": "python",
   "name": "python3"
  },
  "language_info": {
   "codemirror_mode": {
    "name": "ipython",
    "version": 3
   },
   "file_extension": ".py",
   "mimetype": "text/x-python",
   "name": "python",
   "nbconvert_exporter": "python",
   "pygments_lexer": "ipython3",
   "version": "3.7.4"
  }
 },
 "nbformat": 4,
 "nbformat_minor": 2
}
