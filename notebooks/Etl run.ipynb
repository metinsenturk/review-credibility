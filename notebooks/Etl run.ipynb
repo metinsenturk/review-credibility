{
 "cells": [
  {
   "cell_type": "code",
   "execution_count": 1,
   "metadata": {},
   "outputs": [],
   "source": [
    "import os\n",
    "import sys\n",
    "sys.path.append(os.pardir)"
   ]
  },
  {
   "cell_type": "markdown",
   "metadata": {},
   "source": [
    "### Imports"
   ]
  },
  {
   "cell_type": "code",
   "execution_count": 2,
   "metadata": {},
   "outputs": [],
   "source": [
    "import json\n",
    "import pathlib\n",
    "import pandas as pd\n",
    "from sqlalchemy.orm import sessionmaker\n",
    "from credible import connectors\n",
    "from credible.etl import Etl\n",
    "from credible.objects import Base, Photo, Tip, Checkin, Business, User, Review"
   ]
  },
  {
   "cell_type": "markdown",
   "metadata": {},
   "source": [
    "### Parameters"
   ]
  },
  {
   "cell_type": "code",
   "execution_count": 3,
   "metadata": {},
   "outputs": [],
   "source": [
    "engine = connectors.connect_to_sqlite()"
   ]
  },
  {
   "cell_type": "code",
   "execution_count": 4,
   "metadata": {},
   "outputs": [],
   "source": [
    "data_folderpath = os.path.join(os.pardir, 'data')\n",
    "generator = pathlib.Path(data_folderpath).glob('*_x.json')\n",
    "sorted_list = sorted(generator, key=os.path.getsize, reverse=True)\n",
    "file_review, file_user, file_checkin, file_tip, file_business, file_photo = sorted_list"
   ]
  },
  {
   "cell_type": "markdown",
   "metadata": {},
   "source": [
    "### Session"
   ]
  },
  {
   "cell_type": "code",
   "execution_count": 5,
   "metadata": {},
   "outputs": [],
   "source": [
    "Session = sessionmaker(bind=engine)\n",
    "etl = Etl(Base, Session, engine)"
   ]
  },
  {
   "cell_type": "code",
   "execution_count": 6,
   "metadata": {},
   "outputs": [],
   "source": [
    "etl.create_all()"
   ]
  },
  {
   "cell_type": "markdown",
   "metadata": {},
   "source": [
    "### Import data to Photos"
   ]
  },
  {
   "cell_type": "code",
   "execution_count": null,
   "metadata": {},
   "outputs": [],
   "source": [
    "with open(file_photo, 'r') as json_data:\n",
    "    data = json.load(json_data)\n",
    "etl.bulk_insert(Photo, data)"
   ]
  },
  {
   "cell_type": "code",
   "execution_count": null,
   "metadata": {},
   "outputs": [],
   "source": [
    "pd.read_sql_table('photos', engine).sample()"
   ]
  },
  {
   "cell_type": "markdown",
   "metadata": {},
   "source": [
    "### Import data to Tips"
   ]
  },
  {
   "cell_type": "code",
   "execution_count": 9,
   "metadata": {},
   "outputs": [],
   "source": [
    "with open(file_tip, 'r') as json_data:\n",
    "    data = json.load(json_data)\n",
    "\n",
    "# requires data transformation\n",
    "tips_list = []\n",
    "for d in data:\n",
    "    t = Tip(d)\n",
    "    tips_list.append(t)\n",
    "\n",
    "etl.bulk_insert(Tip, tips_list)"
   ]
  },
  {
   "cell_type": "code",
   "execution_count": 10,
   "metadata": {},
   "outputs": [
    {
     "data": {
      "text/html": [
       "<div>\n",
       "<style scoped>\n",
       "    .dataframe tbody tr th:only-of-type {\n",
       "        vertical-align: middle;\n",
       "    }\n",
       "\n",
       "    .dataframe tbody tr th {\n",
       "        vertical-align: top;\n",
       "    }\n",
       "\n",
       "    .dataframe thead th {\n",
       "        text-align: right;\n",
       "    }\n",
       "</style>\n",
       "<table border=\"1\" class=\"dataframe\">\n",
       "  <thead>\n",
       "    <tr style=\"text-align: right;\">\n",
       "      <th></th>\n",
       "      <th>_id</th>\n",
       "      <th>user_id</th>\n",
       "      <th>business_id</th>\n",
       "      <th>text</th>\n",
       "      <th>date</th>\n",
       "      <th>compliment_count</th>\n",
       "    </tr>\n",
       "  </thead>\n",
       "  <tbody>\n",
       "    <tr>\n",
       "      <td>615279</td>\n",
       "      <td>615280</td>\n",
       "      <td>-TD_eG2oKsZjv3-LXnTXMw</td>\n",
       "      <td>vsFFbN71ehRCp46KeR5RdQ</td>\n",
       "      <td>Whole hog skillet. Delicious.</td>\n",
       "      <td>2015-03-28 16:55:57</td>\n",
       "      <td>0</td>\n",
       "    </tr>\n",
       "  </tbody>\n",
       "</table>\n",
       "</div>"
      ],
      "text/plain": [
       "           _id                 user_id             business_id  \\\n",
       "615279  615280  -TD_eG2oKsZjv3-LXnTXMw  vsFFbN71ehRCp46KeR5RdQ   \n",
       "\n",
       "                                 text                date  compliment_count  \n",
       "615279  Whole hog skillet. Delicious. 2015-03-28 16:55:57                 0  "
      ]
     },
     "execution_count": 10,
     "metadata": {},
     "output_type": "execute_result"
    }
   ],
   "source": [
    "pd.read_sql_table('tips', engine).sample()"
   ]
  },
  {
   "cell_type": "code",
   "execution_count": 11,
   "metadata": {},
   "outputs": [
    {
     "data": {
      "text/plain": [
       "{'user_id': 'UPw5DWs_b-e2JRBS-t37Ag',\n",
       " 'business_id': 'VaKXUpmWTTWDKbpJ3aQdMw',\n",
       " 'text': 'Great for watching games, ufc, and whatever else tickles yer fancy',\n",
       " 'date': '2014-03-27 03:51:24',\n",
       " 'compliment_count': 0}"
      ]
     },
     "execution_count": 11,
     "metadata": {},
     "output_type": "execute_result"
    }
   ],
   "source": [
    "data[0]"
   ]
  },
  {
   "cell_type": "markdown",
   "metadata": {},
   "source": [
    "### Import data to Checkins"
   ]
  },
  {
   "cell_type": "code",
   "execution_count": null,
   "metadata": {},
   "outputs": [],
   "source": [
    "with open(file_checkin, 'r') as json_data:\n",
    "    data = json.load(json_data)\n",
    "etl.bulk_insert(Checkin, data)"
   ]
  },
  {
   "cell_type": "code",
   "execution_count": null,
   "metadata": {},
   "outputs": [],
   "source": [
    "pd.read_sql_table('checkins', engine).sample()"
   ]
  },
  {
   "cell_type": "markdown",
   "metadata": {},
   "source": [
    "### Import data to Businesses"
   ]
  },
  {
   "cell_type": "code",
   "execution_count": null,
   "metadata": {},
   "outputs": [],
   "source": [
    "with open(file_business, 'r') as json_data:\n",
    "    data = json.load(json_data)\n",
    "    \n",
    "# requires data transformation\n",
    "business_list = []\n",
    "for d in data:\n",
    "    b = Business(d)\n",
    "    business_list.append(b)\n",
    "\n",
    "etl.bulk_insert(Business, business_list)"
   ]
  },
  {
   "cell_type": "code",
   "execution_count": null,
   "metadata": {},
   "outputs": [],
   "source": [
    "pd.read_sql_table('businesses', engine).sample()"
   ]
  },
  {
   "cell_type": "markdown",
   "metadata": {},
   "source": [
    "### Import data to Users"
   ]
  },
  {
   "cell_type": "code",
   "execution_count": null,
   "metadata": {},
   "outputs": [],
   "source": [
    "with open(file_user, 'r') as json_data:\n",
    "    data = json.load(json_data)\n",
    "\n",
    "\n",
    "# requires data transformation\n",
    "users_list = []\n",
    "for d in data[:2]:\n",
    "    t = User(d)\n",
    "    users_list.append(t)\n",
    "\n",
    "etl.bulk_insert(User, users_list)"
   ]
  },
  {
   "cell_type": "code",
   "execution_count": null,
   "metadata": {},
   "outputs": [],
   "source": [
    "pd.read_sql_table('users', engine).sample()"
   ]
  },
  {
   "cell_type": "markdown",
   "metadata": {},
   "source": [
    "### Import data to Reviews"
   ]
  },
  {
   "cell_type": "code",
   "execution_count": 7,
   "metadata": {},
   "outputs": [],
   "source": [
    "with open(file_review, 'r') as json_data:\n",
    "    data = json.load(json_data)\n",
    "etl.bulk_insert(Review, data)"
   ]
  },
  {
   "cell_type": "code",
   "execution_count": 8,
   "metadata": {},
   "outputs": [
    {
     "data": {
      "text/html": [
       "<div>\n",
       "<style scoped>\n",
       "    .dataframe tbody tr th:only-of-type {\n",
       "        vertical-align: middle;\n",
       "    }\n",
       "\n",
       "    .dataframe tbody tr th {\n",
       "        vertical-align: top;\n",
       "    }\n",
       "\n",
       "    .dataframe thead th {\n",
       "        text-align: right;\n",
       "    }\n",
       "</style>\n",
       "<table border=\"1\" class=\"dataframe\">\n",
       "  <thead>\n",
       "    <tr style=\"text-align: right;\">\n",
       "      <th></th>\n",
       "      <th>_id</th>\n",
       "      <th>review_id</th>\n",
       "      <th>business_id</th>\n",
       "      <th>user_id</th>\n",
       "      <th>stars</th>\n",
       "      <th>date</th>\n",
       "      <th>text</th>\n",
       "      <th>useful</th>\n",
       "      <th>funny</th>\n",
       "      <th>cool</th>\n",
       "    </tr>\n",
       "  </thead>\n",
       "  <tbody>\n",
       "    <tr>\n",
       "      <td>4021657</td>\n",
       "      <td>4021658</td>\n",
       "      <td>iGgfv_-Nr_ACf4OoqxxxgA</td>\n",
       "      <td>uKrTmGn1HhwxcvHxsKyTIQ</td>\n",
       "      <td>6954Mf4fGGka6SHZa9b2GQ</td>\n",
       "      <td>2</td>\n",
       "      <td>2008-08-22 17:21:24</td>\n",
       "      <td>The Deal - Specializing in curly hair and hair...</td>\n",
       "      <td>16</td>\n",
       "      <td>2</td>\n",
       "      <td>1</td>\n",
       "    </tr>\n",
       "  </tbody>\n",
       "</table>\n",
       "</div>"
      ],
      "text/plain": [
       "             _id               review_id             business_id  \\\n",
       "4021657  4021658  iGgfv_-Nr_ACf4OoqxxxgA  uKrTmGn1HhwxcvHxsKyTIQ   \n",
       "\n",
       "                        user_id  stars                 date  \\\n",
       "4021657  6954Mf4fGGka6SHZa9b2GQ      2  2008-08-22 17:21:24   \n",
       "\n",
       "                                                      text  useful  funny  \\\n",
       "4021657  The Deal - Specializing in curly hair and hair...      16      2   \n",
       "\n",
       "         cool  \n",
       "4021657     1  "
      ]
     },
     "execution_count": 8,
     "metadata": {},
     "output_type": "execute_result"
    }
   ],
   "source": [
    "pd.read_sql_table('reviews', engine).sample()"
   ]
  },
  {
   "cell_type": "code",
   "execution_count": null,
   "metadata": {},
   "outputs": [],
   "source": []
  }
 ],
 "metadata": {
  "kernelspec": {
   "display_name": "Python 3",
   "language": "python",
   "name": "python3"
  },
  "language_info": {
   "codemirror_mode": {
    "name": "ipython",
    "version": 3
   },
   "file_extension": ".py",
   "mimetype": "text/x-python",
   "name": "python",
   "nbconvert_exporter": "python",
   "pygments_lexer": "ipython3",
   "version": "3.7.4"
  }
 },
 "nbformat": 4,
 "nbformat_minor": 4
}
