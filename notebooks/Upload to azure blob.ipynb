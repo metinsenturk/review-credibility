{
 "cells": [
  {
   "cell_type": "markdown",
   "metadata": {},
   "source": [
    "## Upload Valid JSON to Azure Blobs\n",
    "\n",
    "In this notebook, we are uploading Valid JSON files to azure blobs in order to access data from SQL Server. "
   ]
  },
  {
   "cell_type": "markdown",
   "metadata": {},
   "source": [
    "### Imports"
   ]
  },
  {
   "cell_type": "code",
   "execution_count": 1,
   "metadata": {},
   "outputs": [],
   "source": [
    "import os\n",
    "import sys\n",
    "sys.path.append('C:\\Anaconda\\envs\\credenv\\lib\\site-packages')\n",
    "sys.path.append('..')"
   ]
  },
  {
   "cell_type": "code",
   "execution_count": 2,
   "metadata": {},
   "outputs": [],
   "source": [
    "import pathlib\n",
    "from credible import azure, config, utils"
   ]
  },
  {
   "cell_type": "markdown",
   "metadata": {},
   "source": [
    "### Params"
   ]
  },
  {
   "cell_type": "code",
   "execution_count": 3,
   "metadata": {},
   "outputs": [],
   "source": [
    "data_folderpath = '../data/'\n",
    "new_file_suffix = '_x'\n",
    "account_name = config.get_value('account_name')\n",
    "account_key = config.get_value('account_key')\n",
    "container_name = config.get_value('container_name')"
   ]
  },
  {
   "cell_type": "markdown",
   "metadata": {},
   "source": [
    "### Create Blob Wrapper Instance"
   ]
  },
  {
   "cell_type": "code",
   "execution_count": 4,
   "metadata": {},
   "outputs": [],
   "source": [
    "blob_service = azure.Blob(account_name, account_key, container_name)"
   ]
  },
  {
   "cell_type": "markdown",
   "metadata": {},
   "source": [
    "### Upload Valid JSON files into Azure Blobs"
   ]
  },
  {
   "cell_type": "code",
   "execution_count": 5,
   "metadata": {},
   "outputs": [],
   "source": [
    "filepath_generator = pathlib.Path(data_folderpath).glob('*' + new_file_suffix + '.json')"
   ]
  },
  {
   "cell_type": "code",
   "execution_count": 6,
   "metadata": {},
   "outputs": [
    {
     "name": "stdout",
     "output_type": "stream",
     "text": [
      "business_x.json \"0x8D74DAF4C6FEE59\" 2019-10-10 18:25:59+00:00\n",
      "checkin_x.json \"0x8D74DAFEFC1CB5E\" 2019-10-10 18:30:33+00:00\n",
      "photo_x.json \"0x8D74DAFF8F70C1E\" 2019-10-10 18:30:48+00:00\n",
      "review_x.json \"0x8D74DB3AACECEB2\" 2019-10-10 18:57:15+00:00\n",
      "tip_x.json \"0x8D74DB410909B2B\" 2019-10-10 19:00:06+00:00\n",
      "user_x.json \"0x8D74DB5805618BC\" 2019-10-10 19:10:23+00:00\n"
     ]
    }
   ],
   "source": [
    "for file in filepath_generator:\n",
    "    tb = os.path.getsize(file)\n",
    "    with open(file, 'rb') as stream:\n",
    "        status = blob_service.upload_file(\n",
    "            blob_name=file.name, \n",
    "            full_path_to_file=stream, \n",
    "            content_type='application/json', \n",
    "            callback=lambda c, t: utils.progressbar2(tb, c, prefix=file.name))\n",
    "        print(file.name, status.etag, status.last_modified)"
   ]
  },
  {
   "cell_type": "markdown",
   "metadata": {},
   "source": [
    "### list of Blobs in Azure"
   ]
  },
  {
   "cell_type": "code",
   "execution_count": 9,
   "metadata": {},
   "outputs": [
    {
     "name": "stdout",
     "output_type": "stream",
     "text": [
      "business_x.json 0x8D74DAF4C6FEE59 141\n",
      "checkin_x.json 0x8D74DAFEFC1CB5E 390\n",
      "photo_x.json 0x8D74DAFF8F70C1E 25\n",
      "review_x.json 0x8D74DB3AACECEB2 5216\n",
      "tip_x.json 0x8D74DB410909B2B 245\n",
      "user_x.json 0x8D74DB5805618BC 2439\n"
     ]
    }
   ],
   "source": [
    "blob_list = blob_service.list_blobs()\n",
    "\n",
    "for blob in blob_list:\n",
    "    print(blob.name, blob.properties.etag, round(blob.properties.content_length / 1024 / 1024))"
   ]
  },
  {
   "cell_type": "code",
   "execution_count": null,
   "metadata": {},
   "outputs": [],
   "source": []
  }
 ],
 "metadata": {
  "kernelspec": {
   "display_name": "Python 3",
   "language": "python",
   "name": "python3"
  },
  "language_info": {
   "codemirror_mode": {
    "name": "ipython",
    "version": 3
   },
   "file_extension": ".py",
   "mimetype": "text/x-python",
   "name": "python",
   "nbconvert_exporter": "python",
   "pygments_lexer": "ipython3",
   "version": "3.7.4"
  }
 },
 "nbformat": 4,
 "nbformat_minor": 2
}
