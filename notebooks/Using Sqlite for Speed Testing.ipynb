{
 "cells": [
  {
   "cell_type": "code",
   "execution_count": 1,
   "metadata": {},
   "outputs": [],
   "source": [
    "import sys\n",
    "sys.path.append('..')"
   ]
  },
  {
   "cell_type": "code",
   "execution_count": 2,
   "metadata": {},
   "outputs": [],
   "source": [
    "import os\n",
    "import time\n",
    "import timeit\n",
    "import pathlib\n",
    "import pandas as pd\n",
    "from credible import connectors"
   ]
  },
  {
   "cell_type": "code",
   "execution_count": 3,
   "metadata": {},
   "outputs": [],
   "source": [
    "tablename = 'businesses'\n",
    "glob_pattern = '_x'\n",
    "data_folderpath = os.path.join(os.pardir, 'data')\n",
    "engine = connectors.connect_to_sqlite()"
   ]
  },
  {
   "cell_type": "code",
   "execution_count": 18,
   "metadata": {},
   "outputs": [],
   "source": [
    "def df_to_table(df, tablename, con):\n",
    "    df.to_sql(name=tablename, con=con, if_exists='replace', index=False)\n",
    "\n",
    "def table_to_df(tablename, con):\n",
    "    query = f'select * from {tablename};'\n",
    "    return pd.read_sql_query(sql=query, con=con)\n",
    "\n",
    "def table_info(tablename, con):\n",
    "    query = f'pragma table_info({tablename});'\n",
    "    return pd.read_sql_query(sql=query, con=con)\n",
    "\n",
    "def wrapper(filepath, tablename, con):\n",
    "    df = pd.read_csv(filepath, low_memory=False, memory_map=True)\n",
    "    df_to_table(df, tablename, engine)\n",
    "    df_q = table_to_df(tablename, engine)\n",
    "    \n",
    "    assert all(df.columns == df_q.columns)\n",
    "    assert df.shape == df_q.shape"
   ]
  },
  {
   "cell_type": "code",
   "execution_count": 19,
   "metadata": {},
   "outputs": [],
   "source": [
    "generator = pathlib.Path(data_folderpath).glob('*' + glob_pattern + '.csv')"
   ]
  },
  {
   "cell_type": "code",
   "execution_count": 20,
   "metadata": {
    "scrolled": true
   },
   "outputs": [
    {
     "name": "stdout",
     "output_type": "stream",
     "text": [
      "31.9 s ± 0 ns per loop (mean ± std. dev. of 1 run, 1 loop each)\n",
      "21.7 s ± 0 ns per loop (mean ± std. dev. of 1 run, 1 loop each)\n"
     ]
    }
   ],
   "source": [
    "time_list = []\n",
    "for file in sorted(generator, key=os.path.getsize, reverse=False)[1:3]:\n",
    "    res = %timeit -o -n 1 -r 1 wrapper(file, file.stem, engine)\n",
    "    time_list.append({\n",
    "        'filename': file.name, \n",
    "        'avg': res.average, \n",
    "        'best': res.best, \n",
    "        'compile': res.compile_time\n",
    "    })"
   ]
  },
  {
   "cell_type": "code",
   "execution_count": 21,
   "metadata": {},
   "outputs": [
    {
     "data": {
      "text/html": [
       "<div>\n",
       "<style scoped>\n",
       "    .dataframe tbody tr th:only-of-type {\n",
       "        vertical-align: middle;\n",
       "    }\n",
       "\n",
       "    .dataframe tbody tr th {\n",
       "        vertical-align: top;\n",
       "    }\n",
       "\n",
       "    .dataframe thead th {\n",
       "        text-align: right;\n",
       "    }\n",
       "</style>\n",
       "<table border=\"1\" class=\"dataframe\">\n",
       "  <thead>\n",
       "    <tr style=\"text-align: right;\">\n",
       "      <th></th>\n",
       "      <th>avg</th>\n",
       "      <th>best</th>\n",
       "      <th>compile</th>\n",
       "      <th>filename</th>\n",
       "    </tr>\n",
       "  </thead>\n",
       "  <tbody>\n",
       "    <tr>\n",
       "      <th>0</th>\n",
       "      <td>31.877452</td>\n",
       "      <td>31.877452</td>\n",
       "      <td>0.000077</td>\n",
       "      <td>business_x.csv</td>\n",
       "    </tr>\n",
       "    <tr>\n",
       "      <th>1</th>\n",
       "      <td>21.708888</td>\n",
       "      <td>21.708888</td>\n",
       "      <td>0.000069</td>\n",
       "      <td>tip_x.csv</td>\n",
       "    </tr>\n",
       "  </tbody>\n",
       "</table>\n",
       "</div>"
      ],
      "text/plain": [
       "         avg       best   compile        filename\n",
       "0  31.877452  31.877452  0.000077  business_x.csv\n",
       "1  21.708888  21.708888  0.000069       tip_x.csv"
      ]
     },
     "execution_count": 21,
     "metadata": {},
     "output_type": "execute_result"
    }
   ],
   "source": [
    "pd.DataFrame(time_list)"
   ]
  },
  {
   "cell_type": "code",
   "execution_count": null,
   "metadata": {},
   "outputs": [],
   "source": []
  }
 ],
 "metadata": {
  "kernelspec": {
   "display_name": "Python 3",
   "language": "python",
   "name": "python3"
  },
  "language_info": {
   "codemirror_mode": {
    "name": "ipython",
    "version": 3
   },
   "file_extension": ".py",
   "mimetype": "text/x-python",
   "name": "python",
   "nbconvert_exporter": "python",
   "pygments_lexer": "ipython3",
   "version": "3.7.4"
  }
 },
 "nbformat": 4,
 "nbformat_minor": 2
}
