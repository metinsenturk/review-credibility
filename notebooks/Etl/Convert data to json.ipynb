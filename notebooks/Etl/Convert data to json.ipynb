{
 "cells": [
  {
   "cell_type": "markdown",
   "metadata": {},
   "source": [
    "## Convert Raw Data to JSON Files\n",
    "\n",
    "Files from yelp dataset challenge are not valid json files. In this notebook, we will read the files and create a valid json file for each raw file."
   ]
  },
  {
   "cell_type": "markdown",
   "metadata": {},
   "source": [
    "### Imports"
   ]
  },
  {
   "cell_type": "code",
   "execution_count": 1,
   "metadata": {},
   "outputs": [],
   "source": [
    "import os\n",
    "import sys\n",
    "sys.path.append('..')"
   ]
  },
  {
   "cell_type": "code",
   "execution_count": 2,
   "metadata": {},
   "outputs": [],
   "source": [
    "import pandas as pd\n",
    "import json\n",
    "import pathlib\n",
    "from credible import utils"
   ]
  },
  {
   "cell_type": "markdown",
   "metadata": {},
   "source": [
    "### Params"
   ]
  },
  {
   "cell_type": "code",
   "execution_count": 3,
   "metadata": {},
   "outputs": [],
   "source": [
    "data_folderpath = '../data/'\n",
    "new_file_suffix = '_x'"
   ]
  },
  {
   "cell_type": "markdown",
   "metadata": {},
   "source": [
    "### Create Valid JSON from raw File"
   ]
  },
  {
   "cell_type": "code",
   "execution_count": 4,
   "metadata": {},
   "outputs": [],
   "source": [
    "filepath_generator = pathlib.Path(data_folderpath).glob('*[!' + new_file_suffix + '].json')"
   ]
  },
  {
   "cell_type": "code",
   "execution_count": 5,
   "metadata": {},
   "outputs": [
    {
     "name": "stdout",
     "output_type": "stream",
     "text": [
      "..\\data\\business.json \n",
      " ..\\data\\business_x.json\n",
      "success! length : 192609.\n",
      "..\\data\\checkin.json \n",
      " ..\\data\\checkin_x.json\n",
      "success! length : 161950.\n",
      "..\\data\\photo.json \n",
      " ..\\data\\photo_x.json\n",
      "success! length : 200000.\n",
      "..\\data\\review.json \n",
      " ..\\data\\review_x.json\n",
      "success! length : 6685900.\n",
      "..\\data\\tip.json \n",
      " ..\\data\\tip_x.json\n",
      "success! length : 1223094.\n",
      "..\\data\\user.json \n",
      " ..\\data\\user_x.json\n",
      "success! length : 1637138.\n"
     ]
    }
   ],
   "source": [
    "for file in list(filepath_generator):\n",
    "    # new file name\n",
    "    new_filename = file.stem + new_file_suffix +  file.suffix\n",
    "    new_filepath = os.path.join(file.parent, new_filename)\n",
    "    print(file, '\\n', new_filepath)\n",
    "    \n",
    "    # conversion\n",
    "    utils.convert_file_to_json(file, new_filepath)"
   ]
  },
  {
   "cell_type": "markdown",
   "metadata": {},
   "source": [
    "### Check for New JSON Files if They Are Valid"
   ]
  },
  {
   "cell_type": "code",
   "execution_count": 9,
   "metadata": {},
   "outputs": [],
   "source": [
    "filepath_generator = pathlib.Path(data_folderpath).glob('*' + new_file_suffix + '.json')"
   ]
  },
  {
   "cell_type": "code",
   "execution_count": 10,
   "metadata": {},
   "outputs": [
    {
     "name": "stdout",
     "output_type": "stream",
     "text": [
      "business_x.json True\n",
      "checkin_x.json True\n",
      "photo_x.json True\n",
      "review_x.json True\n",
      "tip_x.json True\n",
      "user_x.json True\n"
     ]
    }
   ],
   "source": [
    "for file in filepath_generator:\n",
    "    print(file.name, utils.check_json(file))"
   ]
  },
  {
   "cell_type": "code",
   "execution_count": null,
   "metadata": {},
   "outputs": [],
   "source": []
  }
 ],
 "metadata": {
  "kernelspec": {
   "display_name": "Python 3",
   "language": "python",
   "name": "python3"
  },
  "language_info": {
   "codemirror_mode": {
    "name": "ipython",
    "version": 3
   },
   "file_extension": ".py",
   "mimetype": "text/x-python",
   "name": "python",
   "nbconvert_exporter": "python",
   "pygments_lexer": "ipython3",
   "version": "3.7.1"
  }
 },
 "nbformat": 4,
 "nbformat_minor": 2
}
