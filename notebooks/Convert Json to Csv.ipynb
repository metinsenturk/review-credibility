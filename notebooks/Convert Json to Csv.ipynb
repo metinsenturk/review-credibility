{
 "cells": [
  {
   "cell_type": "markdown",
   "metadata": {},
   "source": [
    "# Convert JSON Files to CSV"
   ]
  },
  {
   "cell_type": "markdown",
   "metadata": {},
   "source": [
    "This notebook, we will read the json files, normalise it and create a csv file for each json file.\n",
    "\n"
   ]
  },
  {
   "cell_type": "markdown",
   "metadata": {},
   "source": [
    "### Imports"
   ]
  },
  {
   "cell_type": "code",
   "execution_count": 3,
   "metadata": {},
   "outputs": [],
   "source": [
    "import os\n",
    "import pandas as pd\n",
    "import json\n",
    "import pathlib\n",
    "import flat_table"
   ]
  },
  {
   "cell_type": "markdown",
   "metadata": {},
   "source": [
    "### Parameters"
   ]
  },
  {
   "cell_type": "code",
   "execution_count": 4,
   "metadata": {},
   "outputs": [],
   "source": [
    "data_folderpath = os.path.join(os.pardir, 'data')\n",
    "glob_pattern = '_x'"
   ]
  },
  {
   "cell_type": "markdown",
   "metadata": {},
   "source": [
    "## Create CSV from JSON Files"
   ]
  },
  {
   "cell_type": "code",
   "execution_count": 5,
   "metadata": {},
   "outputs": [],
   "source": [
    "generator = pathlib.Path(data_folderpath).glob('*' + glob_pattern + '.json')"
   ]
  },
  {
   "cell_type": "code",
   "execution_count": null,
   "metadata": {},
   "outputs": [],
   "source": [
    "for x in generator:\n",
    "    with open(x) as jfile:\n",
    "        data = pd.read_json(jfile)\n",
    "        data = flat_table.normalize(data)\n",
    "        data.drop('index', inplace=True, axis=1)\n",
    "        \n",
    "        data.to_csv(os.path.join(data_folderpath, x.stem + '.csv'), index=False)\n",
    "        \n",
    "        print('{} is converted to {}.csv'.format(x.name, x.stem))\n",
    "        "
   ]
  },
  {
   "cell_type": "markdown",
   "metadata": {},
   "source": [
    "## Check the file"
   ]
  },
  {
   "cell_type": "code",
   "execution_count": 19,
   "metadata": {},
   "outputs": [],
   "source": [
    "generator = pathlib.Path(data_folderpath).glob('*' + glob_pattern + '.csv')"
   ]
  },
  {
   "cell_type": "code",
   "execution_count": 20,
   "metadata": {},
   "outputs": [
    {
     "name": "stdout",
     "output_type": "stream",
     "text": [
      "../data/checkin_x.csv\n",
      "../data/photo_x.csv\n",
      "../data/review_x.csv\n",
      "../data/tip_x.csv\n",
      "../data/user_x.csv\n",
      "../data/business_x.csv\n"
     ]
    }
   ],
   "source": [
    "for x in sorted(generator, key=os.path.getctime):\n",
    "    print(x)"
   ]
  },
  {
   "cell_type": "code",
   "execution_count": 22,
   "metadata": {},
   "outputs": [
    {
     "data": {
      "text/plain": [
       "(192609, 58)"
      ]
     },
     "execution_count": 22,
     "metadata": {},
     "output_type": "execute_result"
    }
   ],
   "source": [
    "df = pd.read_csv(os.path.join(data_folderpath, x.name), low_memory=False)\n",
    "df.shape"
   ]
  },
  {
   "cell_type": "code",
   "execution_count": 24,
   "metadata": {},
   "outputs": [
    {
     "data": {
      "text/html": [
       "<div>\n",
       "<style scoped>\n",
       "    .dataframe tbody tr th:only-of-type {\n",
       "        vertical-align: middle;\n",
       "    }\n",
       "\n",
       "    .dataframe tbody tr th {\n",
       "        vertical-align: top;\n",
       "    }\n",
       "\n",
       "    .dataframe thead th {\n",
       "        text-align: right;\n",
       "    }\n",
       "</style>\n",
       "<table border=\"1\" class=\"dataframe\">\n",
       "  <thead>\n",
       "    <tr style=\"text-align: right;\">\n",
       "      <th></th>\n",
       "      <th>address</th>\n",
       "      <th>business_id</th>\n",
       "      <th>categories</th>\n",
       "      <th>city</th>\n",
       "      <th>is_open</th>\n",
       "      <th>latitude</th>\n",
       "      <th>longitude</th>\n",
       "      <th>name</th>\n",
       "      <th>postal_code</th>\n",
       "      <th>review_count</th>\n",
       "      <th>...</th>\n",
       "      <th>Alcohol</th>\n",
       "      <th>AgesAllowed</th>\n",
       "      <th>AcceptsInsurance</th>\n",
       "      <th>Wednesday</th>\n",
       "      <th>Tuesday</th>\n",
       "      <th>Thursday</th>\n",
       "      <th>Sunday</th>\n",
       "      <th>Saturday</th>\n",
       "      <th>Monday</th>\n",
       "      <th>Friday</th>\n",
       "    </tr>\n",
       "  </thead>\n",
       "  <tbody>\n",
       "    <tr>\n",
       "      <th>0</th>\n",
       "      <td>2818 E Camino Acequia Drive</td>\n",
       "      <td>1SWheh84yJXfytovILXOAQ</td>\n",
       "      <td>Golf, Active Life</td>\n",
       "      <td>Phoenix</td>\n",
       "      <td>0</td>\n",
       "      <td>33.522143</td>\n",
       "      <td>-112.018481</td>\n",
       "      <td>Arizona Biltmore Golf Club</td>\n",
       "      <td>85016</td>\n",
       "      <td>5</td>\n",
       "      <td>...</td>\n",
       "      <td>NaN</td>\n",
       "      <td>NaN</td>\n",
       "      <td>NaN</td>\n",
       "      <td>NaN</td>\n",
       "      <td>NaN</td>\n",
       "      <td>NaN</td>\n",
       "      <td>NaN</td>\n",
       "      <td>NaN</td>\n",
       "      <td>NaN</td>\n",
       "      <td>NaN</td>\n",
       "    </tr>\n",
       "    <tr>\n",
       "      <th>1</th>\n",
       "      <td>30 Eglinton Avenue W</td>\n",
       "      <td>QXAEGFB4oINsVuTFxEYKFQ</td>\n",
       "      <td>Specialty Food, Restaurants, Dim Sum, Imported...</td>\n",
       "      <td>Mississauga</td>\n",
       "      <td>1</td>\n",
       "      <td>43.605499</td>\n",
       "      <td>-79.652289</td>\n",
       "      <td>Emerald Chinese Restaurant</td>\n",
       "      <td>L5R 3E7</td>\n",
       "      <td>128</td>\n",
       "      <td>...</td>\n",
       "      <td>u'full_bar'</td>\n",
       "      <td>NaN</td>\n",
       "      <td>NaN</td>\n",
       "      <td>9:0-0:0</td>\n",
       "      <td>9:0-0:0</td>\n",
       "      <td>9:0-0:0</td>\n",
       "      <td>9:0-0:0</td>\n",
       "      <td>9:0-1:0</td>\n",
       "      <td>9:0-0:0</td>\n",
       "      <td>9:0-1:0</td>\n",
       "    </tr>\n",
       "  </tbody>\n",
       "</table>\n",
       "<p>2 rows × 58 columns</p>\n",
       "</div>"
      ],
      "text/plain": [
       "                       address             business_id  \\\n",
       "0  2818 E Camino Acequia Drive  1SWheh84yJXfytovILXOAQ   \n",
       "1         30 Eglinton Avenue W  QXAEGFB4oINsVuTFxEYKFQ   \n",
       "\n",
       "                                          categories         city  is_open  \\\n",
       "0                                  Golf, Active Life      Phoenix        0   \n",
       "1  Specialty Food, Restaurants, Dim Sum, Imported...  Mississauga        1   \n",
       "\n",
       "    latitude   longitude                        name postal_code  \\\n",
       "0  33.522143 -112.018481  Arizona Biltmore Golf Club       85016   \n",
       "1  43.605499  -79.652289  Emerald Chinese Restaurant     L5R 3E7   \n",
       "\n",
       "   review_count   ...         Alcohol AgesAllowed AcceptsInsurance Wednesday  \\\n",
       "0             5   ...             NaN         NaN              NaN       NaN   \n",
       "1           128   ...     u'full_bar'         NaN              NaN   9:0-0:0   \n",
       "\n",
       "   Tuesday Thursday   Sunday Saturday   Monday   Friday  \n",
       "0      NaN      NaN      NaN      NaN      NaN      NaN  \n",
       "1  9:0-0:0  9:0-0:0  9:0-0:0  9:0-1:0  9:0-0:0  9:0-1:0  \n",
       "\n",
       "[2 rows x 58 columns]"
      ]
     },
     "execution_count": 24,
     "metadata": {},
     "output_type": "execute_result"
    }
   ],
   "source": [
    "df.head(2)"
   ]
  },
  {
   "cell_type": "code",
   "execution_count": null,
   "metadata": {},
   "outputs": [],
   "source": []
  }
 ],
 "metadata": {
  "kernelspec": {
   "display_name": "Python 3",
   "language": "python",
   "name": "python3"
  },
  "language_info": {
   "codemirror_mode": {
    "name": "ipython",
    "version": 3
   },
   "file_extension": ".py",
   "mimetype": "text/x-python",
   "name": "python",
   "nbconvert_exporter": "python",
   "pygments_lexer": "ipython3",
   "version": "3.7.4"
  }
 },
 "nbformat": 4,
 "nbformat_minor": 2
}
